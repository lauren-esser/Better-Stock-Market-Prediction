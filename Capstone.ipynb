{
  "nbformat": 4,
  "nbformat_minor": 0,
  "metadata": {
    "colab": {
      "name": "Capstone.ipynb",
      "provenance": [],
      "collapsed_sections": [
        "SIkhGZ2YkcWH"
      ],
      "authorship_tag": "ABX9TyOPaoeLNbPmOmqAzv/hhiW+",
      "include_colab_link": true
    },
    "kernelspec": {
      "name": "python3",
      "display_name": "Python 3"
    }
  },
  "cells": [
    {
      "cell_type": "markdown",
      "metadata": {
        "id": "view-in-github",
        "colab_type": "text"
      },
      "source": [
        "<a href=\"https://colab.research.google.com/github/lauren-esser/capstone-predicting-the-stock-market/blob/master/Capstone.ipynb\" target=\"_parent\"><img src=\"https://colab.research.google.com/assets/colab-badge.svg\" alt=\"Open In Colab\"/></a>"
      ]
    },
    {
      "cell_type": "markdown",
      "metadata": {
        "id": "1v1si4QNR3QI"
      },
      "source": [
        "#Final Project Submission:"
      ]
    },
    {
      "cell_type": "markdown",
      "metadata": {
        "id": "_3XGAJiTR6Tj"
      },
      "source": [
        "**Student Name:** Lauren Esser\n",
        "\n",
        "**Student Pace:** Full Time\n",
        "\n",
        "**Scheduled Project Review Date/Time:**  \n",
        "\n",
        "**Instructor Name:** James Irving\n",
        "\n",
        "**Blog Post URLS:**  https://lauren-esser.github.io/how_to_use_newsapi and "
      ]
    },
    {
      "cell_type": "markdown",
      "metadata": {
        "id": "HSw-x3WESIjh"
      },
      "source": [
        "#Abstract"
      ]
    },
    {
      "cell_type": "markdown",
      "metadata": {
        "id": "ZHH93unLSKkj"
      },
      "source": [
        "An Abstract section that briefly explains your problem, your methodology, and your findings, and business recommendations as a result of your findings. This section should be 1-2 paragraphs long.\n"
      ]
    },
    {
      "cell_type": "markdown",
      "metadata": {
        "id": "uLKNK6x3Ts0v"
      },
      "source": [
        "#Import"
      ]
    },
    {
      "cell_type": "code",
      "metadata": {
        "id": "il5uJHiXT2ex"
      },
      "source": [
        "import numpy as np\n",
        "np.random.seed(1919)"
      ],
      "execution_count": 1,
      "outputs": []
    },
    {
      "cell_type": "code",
      "metadata": {
        "id": "AZ6z4dm-T218"
      },
      "source": [
        "import tensorflow as tf\n",
        "tf.random.set_seed(1919)"
      ],
      "execution_count": 2,
      "outputs": []
    },
    {
      "cell_type": "code",
      "metadata": {
        "id": "GVLnEWsYTujD",
        "outputId": "7e0a75b1-5c68-4b80-fe97-670b38a01a35",
        "colab": {
          "base_uri": "https://localhost:8080/"
        }
      },
      "source": [
        "#import other libraries\n",
        "import pandas as pd\n",
        "import matplotlib.pyplot as plt\n",
        "import matplotlib.image as mpimg\n",
        "%matplotlib inline\n",
        "import seaborn as sns\n",
        "import os, glob\n",
        "from statsmodels.tsa.stattools import adfuller\n"
      ],
      "execution_count": 3,
      "outputs": [
        {
          "output_type": "stream",
          "text": [
            "/usr/local/lib/python3.6/dist-packages/statsmodels/tools/_testing.py:19: FutureWarning: pandas.util.testing is deprecated. Use the functions in the public API at pandas.testing instead.\n",
            "  import pandas.util.testing as tm\n"
          ],
          "name": "stderr"
        }
      ]
    },
    {
      "cell_type": "code",
      "metadata": {
        "id": "U9hTtfQ-UdVI",
        "outputId": "4df877d0-f625-404c-a653-c70da370fad9",
        "colab": {
          "base_uri": "https://localhost:8080/"
        }
      },
      "source": [
        "#connect to google drive\n",
        "from google.colab import drive\n",
        "drive.mount('/gdrive', force_remount = True)"
      ],
      "execution_count": 4,
      "outputs": [
        {
          "output_type": "stream",
          "text": [
            "Mounted at /gdrive\n"
          ],
          "name": "stdout"
        }
      ]
    },
    {
      "cell_type": "code",
      "metadata": {
        "id": "0wspf0qVUrgM",
        "outputId": "7bf0e7ac-3f2b-469d-a949-7431464d329e",
        "colab": {
          "base_uri": "https://localhost:8080/"
        }
      },
      "source": [
        "%cd ~\n",
        "%cd .."
      ],
      "execution_count": 5,
      "outputs": [
        {
          "output_type": "stream",
          "text": [
            "/root\n",
            "/\n"
          ],
          "name": "stdout"
        }
      ]
    },
    {
      "cell_type": "code",
      "metadata": {
        "id": "a6tjz8moU2Gh",
        "outputId": "dd0054c0-eecc-4cb0-8b0c-d1878ccff4aa",
        "colab": {
          "base_uri": "https://localhost:8080/"
        }
      },
      "source": [
        "!ls \"/gdrive/My Drive/Colab Notebooks/DataSets\""
      ],
      "execution_count": 6,
      "outputs": [
        {
          "output_type": "stream",
          "text": [
            "archive.zip\t\t      IVE_tickbidask.txt\n",
            "chest-xray-pneumonia-jmi.zip  Megatable-2016.sql\n",
            "dogs-vs-cats-sorted.zip       News_Category_Dataset_v2.json\n"
          ],
          "name": "stdout"
        }
      ]
    },
    {
      "cell_type": "code",
      "metadata": {
        "id": "9c2SOshwXc86",
        "outputId": "93fcd2e1-2664-4f17-99c5-3c35487157c8",
        "colab": {
          "base_uri": "https://localhost:8080/"
        }
      },
      "source": [
        "print(os.path.abspath(os.curdir))\n",
        "os.listdir()"
      ],
      "execution_count": 7,
      "outputs": [
        {
          "output_type": "stream",
          "text": [
            "/\n"
          ],
          "name": "stdout"
        },
        {
          "output_type": "execute_result",
          "data": {
            "text/plain": [
              "['sbin',\n",
              " 'root',\n",
              " 'opt',\n",
              " 'lib',\n",
              " 'dev',\n",
              " 'sys',\n",
              " 'var',\n",
              " 'lib64',\n",
              " 'usr',\n",
              " 'mnt',\n",
              " 'media',\n",
              " 'bin',\n",
              " 'tmp',\n",
              " 'home',\n",
              " 'srv',\n",
              " 'run',\n",
              " 'proc',\n",
              " 'boot',\n",
              " 'etc',\n",
              " 'gdrive',\n",
              " '.dockerenv',\n",
              " 'datalab',\n",
              " 'tools',\n",
              " 'swift',\n",
              " 'tensorflow-1.15.2',\n",
              " 'content',\n",
              " 'lib32']"
            ]
          },
          "metadata": {
            "tags": []
          },
          "execution_count": 7
        }
      ]
    },
    {
      "cell_type": "markdown",
      "metadata": {
        "id": "yd565cN7SQj6"
      },
      "source": [
        "#Obtain"
      ]
    },
    {
      "cell_type": "markdown",
      "metadata": {
        "id": "KdJhpVnkfpgl"
      },
      "source": [
        "Obtain Stocks Dataset:\n",
        "1. Go to http://www.kibot.com/free_historical_data.aspx\n",
        "2. Scroll to bottom of page and download \"Tick with bid/ask data\" under IVE(S&P 500 Value Index) \n",
        "3. Upload to Google drive\n",
        "4. Follow below steps"
      ]
    },
    {
      "cell_type": "code",
      "metadata": {
        "id": "VZF-FyyFWeYb",
        "outputId": "55406c1d-9223-4093-f849-4ec10e147b61",
        "colab": {
          "base_uri": "https://localhost:8080/",
          "height": 35
        }
      },
      "source": [
        "#import and assign txt file\n",
        "source_folder = r'/gdrive/My Drive/Colab Notebooks/DataSets/'\n",
        "target_folder = r'/content/'\n",
        "file = glob.glob(source_folder+ 'IVE_tickbidask.txt', recursive = True)\n",
        "file = file[0]\n",
        "file"
      ],
      "execution_count": 8,
      "outputs": [
        {
          "output_type": "execute_result",
          "data": {
            "application/vnd.google.colaboratory.intrinsic+json": {
              "type": "string"
            },
            "text/plain": [
              "'/gdrive/My Drive/Colab Notebooks/DataSets/IVE_tickbidask.txt'"
            ]
          },
          "metadata": {
            "tags": []
          },
          "execution_count": 8
        }
      ]
    },
    {
      "cell_type": "code",
      "metadata": {
        "id": "GT1dbt4ggcCq",
        "outputId": "94e60d99-bd2c-4340-9e4d-9fbe76773d1b",
        "colab": {
          "base_uri": "https://localhost:8080/",
          "height": 204
        }
      },
      "source": [
        "#define and view txt file\n",
        "stocks = pd.read_csv(file, header = None)\n",
        "stocks.head()"
      ],
      "execution_count": 9,
      "outputs": [
        {
          "output_type": "execute_result",
          "data": {
            "text/html": [
              "<div>\n",
              "<style scoped>\n",
              "    .dataframe tbody tr th:only-of-type {\n",
              "        vertical-align: middle;\n",
              "    }\n",
              "\n",
              "    .dataframe tbody tr th {\n",
              "        vertical-align: top;\n",
              "    }\n",
              "\n",
              "    .dataframe thead th {\n",
              "        text-align: right;\n",
              "    }\n",
              "</style>\n",
              "<table border=\"1\" class=\"dataframe\">\n",
              "  <thead>\n",
              "    <tr style=\"text-align: right;\">\n",
              "      <th></th>\n",
              "      <th>0</th>\n",
              "      <th>1</th>\n",
              "      <th>2</th>\n",
              "      <th>3</th>\n",
              "      <th>4</th>\n",
              "      <th>5</th>\n",
              "    </tr>\n",
              "  </thead>\n",
              "  <tbody>\n",
              "    <tr>\n",
              "      <th>0</th>\n",
              "      <td>09/28/2009</td>\n",
              "      <td>09:30:00</td>\n",
              "      <td>50.79</td>\n",
              "      <td>50.70</td>\n",
              "      <td>50.79</td>\n",
              "      <td>100</td>\n",
              "    </tr>\n",
              "    <tr>\n",
              "      <th>1</th>\n",
              "      <td>09/28/2009</td>\n",
              "      <td>09:30:00</td>\n",
              "      <td>50.71</td>\n",
              "      <td>50.70</td>\n",
              "      <td>50.79</td>\n",
              "      <td>638</td>\n",
              "    </tr>\n",
              "    <tr>\n",
              "      <th>2</th>\n",
              "      <td>09/28/2009</td>\n",
              "      <td>09:31:32</td>\n",
              "      <td>50.75</td>\n",
              "      <td>50.75</td>\n",
              "      <td>50.76</td>\n",
              "      <td>100</td>\n",
              "    </tr>\n",
              "    <tr>\n",
              "      <th>3</th>\n",
              "      <td>09/28/2009</td>\n",
              "      <td>09:31:32</td>\n",
              "      <td>50.75</td>\n",
              "      <td>50.75</td>\n",
              "      <td>50.76</td>\n",
              "      <td>100</td>\n",
              "    </tr>\n",
              "    <tr>\n",
              "      <th>4</th>\n",
              "      <td>09/28/2009</td>\n",
              "      <td>09:31:33</td>\n",
              "      <td>50.75</td>\n",
              "      <td>50.75</td>\n",
              "      <td>50.76</td>\n",
              "      <td>100</td>\n",
              "    </tr>\n",
              "  </tbody>\n",
              "</table>\n",
              "</div>"
            ],
            "text/plain": [
              "            0         1      2      3      4    5\n",
              "0  09/28/2009  09:30:00  50.79  50.70  50.79  100\n",
              "1  09/28/2009  09:30:00  50.71  50.70  50.79  638\n",
              "2  09/28/2009  09:31:32  50.75  50.75  50.76  100\n",
              "3  09/28/2009  09:31:32  50.75  50.75  50.76  100\n",
              "4  09/28/2009  09:31:33  50.75  50.75  50.76  100"
            ]
          },
          "metadata": {
            "tags": []
          },
          "execution_count": 9
        }
      ]
    },
    {
      "cell_type": "code",
      "metadata": {
        "id": "PhDa88vgiGVk",
        "outputId": "0df41134-7e72-496b-f6e1-5711cd594db8",
        "colab": {
          "base_uri": "https://localhost:8080/",
          "height": 419
        }
      },
      "source": [
        "#rename column headers\n",
        "stocks = stocks.rename(columns={0: 'Date', 1:'Time', 2: 'Price', 3:'Bid',\n",
        "                                4: 'Ask', 5:'Size'})\n",
        "stocks"
      ],
      "execution_count": 10,
      "outputs": [
        {
          "output_type": "execute_result",
          "data": {
            "text/html": [
              "<div>\n",
              "<style scoped>\n",
              "    .dataframe tbody tr th:only-of-type {\n",
              "        vertical-align: middle;\n",
              "    }\n",
              "\n",
              "    .dataframe tbody tr th {\n",
              "        vertical-align: top;\n",
              "    }\n",
              "\n",
              "    .dataframe thead th {\n",
              "        text-align: right;\n",
              "    }\n",
              "</style>\n",
              "<table border=\"1\" class=\"dataframe\">\n",
              "  <thead>\n",
              "    <tr style=\"text-align: right;\">\n",
              "      <th></th>\n",
              "      <th>Date</th>\n",
              "      <th>Time</th>\n",
              "      <th>Price</th>\n",
              "      <th>Bid</th>\n",
              "      <th>Ask</th>\n",
              "      <th>Size</th>\n",
              "    </tr>\n",
              "  </thead>\n",
              "  <tbody>\n",
              "    <tr>\n",
              "      <th>0</th>\n",
              "      <td>09/28/2009</td>\n",
              "      <td>09:30:00</td>\n",
              "      <td>50.79</td>\n",
              "      <td>50.70</td>\n",
              "      <td>50.79</td>\n",
              "      <td>100</td>\n",
              "    </tr>\n",
              "    <tr>\n",
              "      <th>1</th>\n",
              "      <td>09/28/2009</td>\n",
              "      <td>09:30:00</td>\n",
              "      <td>50.71</td>\n",
              "      <td>50.70</td>\n",
              "      <td>50.79</td>\n",
              "      <td>638</td>\n",
              "    </tr>\n",
              "    <tr>\n",
              "      <th>2</th>\n",
              "      <td>09/28/2009</td>\n",
              "      <td>09:31:32</td>\n",
              "      <td>50.75</td>\n",
              "      <td>50.75</td>\n",
              "      <td>50.76</td>\n",
              "      <td>100</td>\n",
              "    </tr>\n",
              "    <tr>\n",
              "      <th>3</th>\n",
              "      <td>09/28/2009</td>\n",
              "      <td>09:31:32</td>\n",
              "      <td>50.75</td>\n",
              "      <td>50.75</td>\n",
              "      <td>50.76</td>\n",
              "      <td>100</td>\n",
              "    </tr>\n",
              "    <tr>\n",
              "      <th>4</th>\n",
              "      <td>09/28/2009</td>\n",
              "      <td>09:31:33</td>\n",
              "      <td>50.75</td>\n",
              "      <td>50.75</td>\n",
              "      <td>50.76</td>\n",
              "      <td>100</td>\n",
              "    </tr>\n",
              "    <tr>\n",
              "      <th>...</th>\n",
              "      <td>...</td>\n",
              "      <td>...</td>\n",
              "      <td>...</td>\n",
              "      <td>...</td>\n",
              "      <td>...</td>\n",
              "      <td>...</td>\n",
              "    </tr>\n",
              "    <tr>\n",
              "      <th>8467941</th>\n",
              "      <td>11/05/2020</td>\n",
              "      <td>16:10:00</td>\n",
              "      <td>116.57</td>\n",
              "      <td>114.01</td>\n",
              "      <td>120.25</td>\n",
              "      <td>0</td>\n",
              "    </tr>\n",
              "    <tr>\n",
              "      <th>8467942</th>\n",
              "      <td>11/05/2020</td>\n",
              "      <td>16:25:33</td>\n",
              "      <td>116.35</td>\n",
              "      <td>114.68</td>\n",
              "      <td>118.73</td>\n",
              "      <td>900</td>\n",
              "    </tr>\n",
              "    <tr>\n",
              "      <th>8467943</th>\n",
              "      <td>11/05/2020</td>\n",
              "      <td>16:25:33</td>\n",
              "      <td>115.68</td>\n",
              "      <td>114.68</td>\n",
              "      <td>118.73</td>\n",
              "      <td>795</td>\n",
              "    </tr>\n",
              "    <tr>\n",
              "      <th>8467944</th>\n",
              "      <td>11/05/2020</td>\n",
              "      <td>18:30:00</td>\n",
              "      <td>116.57</td>\n",
              "      <td>114.54</td>\n",
              "      <td>118.40</td>\n",
              "      <td>0</td>\n",
              "    </tr>\n",
              "    <tr>\n",
              "      <th>8467945</th>\n",
              "      <td>11/05/2020</td>\n",
              "      <td>20:00:00</td>\n",
              "      <td>116.57</td>\n",
              "      <td>114.54</td>\n",
              "      <td>118.40</td>\n",
              "      <td>0</td>\n",
              "    </tr>\n",
              "  </tbody>\n",
              "</table>\n",
              "<p>8467946 rows × 6 columns</p>\n",
              "</div>"
            ],
            "text/plain": [
              "               Date      Time   Price     Bid     Ask  Size\n",
              "0        09/28/2009  09:30:00   50.79   50.70   50.79   100\n",
              "1        09/28/2009  09:30:00   50.71   50.70   50.79   638\n",
              "2        09/28/2009  09:31:32   50.75   50.75   50.76   100\n",
              "3        09/28/2009  09:31:32   50.75   50.75   50.76   100\n",
              "4        09/28/2009  09:31:33   50.75   50.75   50.76   100\n",
              "...             ...       ...     ...     ...     ...   ...\n",
              "8467941  11/05/2020  16:10:00  116.57  114.01  120.25     0\n",
              "8467942  11/05/2020  16:25:33  116.35  114.68  118.73   900\n",
              "8467943  11/05/2020  16:25:33  115.68  114.68  118.73   795\n",
              "8467944  11/05/2020  18:30:00  116.57  114.54  118.40     0\n",
              "8467945  11/05/2020  20:00:00  116.57  114.54  118.40     0\n",
              "\n",
              "[8467946 rows x 6 columns]"
            ]
          },
          "metadata": {
            "tags": []
          },
          "execution_count": 10
        }
      ]
    },
    {
      "cell_type": "markdown",
      "metadata": {
        "id": "SIkhGZ2YkcWH"
      },
      "source": [
        "#### News API: Can only access up to one month of news headlines for free"
      ]
    },
    {
      "cell_type": "code",
      "metadata": {
        "id": "Dy_k0uB5zw0v"
      },
      "source": [
        "#pip install newsapi-python"
      ],
      "execution_count": 11,
      "outputs": []
    },
    {
      "cell_type": "code",
      "metadata": {
        "id": "Ityz-d3IznaY"
      },
      "source": [
        "# from newsapi import NewsApiClient"
      ],
      "execution_count": 12,
      "outputs": []
    },
    {
      "cell_type": "code",
      "metadata": {
        "id": "gLGDVdKqttkF"
      },
      "source": [
        "import getpass"
      ],
      "execution_count": 135,
      "outputs": []
    },
    {
      "cell_type": "code",
      "metadata": {
        "id": "DVZp4WaqK-fA"
      },
      "source": [
        "\n",
        "# connect with API key\n",
        "# newsapi = NewsApiClient(api_key = '')"
      ],
      "execution_count": 138,
      "outputs": []
    },
    {
      "cell_type": "code",
      "metadata": {
        "id": "ToQECBlJZlPL"
      },
      "source": [
        "#identify news source options\n",
        "# news_sources = newsapi.get_sources()\n",
        "# news_sourcecs_list = []\n",
        "# for sources in news_sources['sources']:\n",
        "#   news_sourcecs_list.append(sources['name'])\n",
        "#   print(sources['name'])"
      ],
      "execution_count": 137,
      "outputs": []
    },
    {
      "cell_type": "code",
      "metadata": {
        "id": "jqcXdTH_L_J6"
      },
      "source": [
        "# #test out newsapi.get_everything for specific date\n",
        "# date = '2020-11-01'\n",
        "# news_headlines_everything = newsapi.get_everything('&from = (date)', '&to = (date1)', language = 'en')\n",
        "                                                \n",
        "# news_titles_everything = []\n",
        "# for article in news_headlines_everything['articles']:\n",
        "#   news_titles_everything.append(article['title'])\n",
        "#   print(article['title'])"
      ],
      "execution_count": 15,
      "outputs": []
    },
    {
      "cell_type": "code",
      "metadata": {
        "id": "W0CSfHCkOk61"
      },
      "source": [
        "# #create empty list\n",
        "# news_titles = []\n",
        "\n",
        "# #create function\n",
        "# def get_news_titles(date):\n",
        "#   '''Used to get a list of 20 news titles from usatoday on date specified via newsapi.org.\n",
        "\n",
        "#   Args: date = desired date\n",
        "\n",
        "#   Returns: List of 20 news articles from the specified date with the date listed after\n",
        "\n",
        "#   Example: get_news_titles('2020-11-01')'''\n",
        "  \n",
        "#   date = date\n",
        "#   news_headlines_everything = newsapi.get_everything(from_param = (date), to = (date), language = 'en', domains = 'usatoday.com')\n",
        "#   for article in news_headlines_everything['articles']:\n",
        "#     news_titles.append([article['title'], date])\n",
        "#     #print(article['title'])\n",
        "#     #return news_titles"
      ],
      "execution_count": 16,
      "outputs": []
    },
    {
      "cell_type": "code",
      "metadata": {
        "id": "Ou2M7gYa0d9t"
      },
      "source": [
        "# get_news_titles('2020-11-01')"
      ],
      "execution_count": 17,
      "outputs": []
    },
    {
      "cell_type": "code",
      "metadata": {
        "id": "LUSb13CM08ny"
      },
      "source": [
        "# news_titles"
      ],
      "execution_count": 18,
      "outputs": []
    },
    {
      "cell_type": "code",
      "metadata": {
        "id": "HhYe_oC24QoI"
      },
      "source": [
        "# get_news_titles('2020-10-25')\n",
        "# news_titles"
      ],
      "execution_count": 19,
      "outputs": []
    },
    {
      "cell_type": "code",
      "metadata": {
        "id": "1PeKybtZ4sKa"
      },
      "source": [
        "# len(news_titles)"
      ],
      "execution_count": 20,
      "outputs": []
    },
    {
      "cell_type": "code",
      "metadata": {
        "id": "CqiaSuks9Lfp"
      },
      "source": [
        "# # sunday_news = ['2020-01-05', '2020-01-12', '2020-01-19', '2020-01-26', '2020-02-02', \n",
        "#                '2020-02-09', '2020-02-16', '2020-02-23', '2020-03-01', '2020-03-08',\n",
        "#                '2020-03-15', '2020-03-22', '2020-03-29', '2020-04-05', '2020-04-12',\n",
        "#                '2020-04-19', '2020-04-26', '2020-05-03', '2020-05-10', '2020-05-17',\n",
        "#                '2020-05-24', '2020-05-31', '2020-06-07', '2020-06-14', '2020-06-21',\n",
        "#                '2020-06-28', '2020-07-05', '2020-07-12', '2020-07-19', '2020-07-26', \n",
        "#                '2020-08-02', '2020-08-09', '2020-08-16', '2020-08-23', '2020-08-30',\n",
        "#                '2020-09-06', '2020-09-13', '2020-09-20', '2020-09-27', '2020-10-04', \n",
        "#                '2020-10-11', '2020-10-18', '2020-10-25', '2020-11-01']"
      ],
      "execution_count": 21,
      "outputs": []
    },
    {
      "cell_type": "code",
      "metadata": {
        "id": "wo5Twcuv-9qc"
      },
      "source": [
        "# for date in sunday_news:\n",
        "#   new = get_news_titles(date)\n",
        "#   news_titles.append(new)\n",
        "# return news_titles"
      ],
      "execution_count": 22,
      "outputs": []
    },
    {
      "cell_type": "code",
      "metadata": {
        "id": "Qt6AswAGLG9w"
      },
      "source": [
        "#newsapi.get_top_headlines for today\n",
        "# news_headlines = newsapi.get_top_headlines(language = 'en', country = 'us')\n",
        "# news_titles = []\n",
        "# for article in news_headlines['articles']:\n",
        "#   news_titles.append(article['title'])\n",
        "#   print(article['title'])"
      ],
      "execution_count": 23,
      "outputs": []
    },
    {
      "cell_type": "markdown",
      "metadata": {
        "id": "WM646mq6f_po"
      },
      "source": [
        "#### Obtain News Dataset"
      ]
    },
    {
      "cell_type": "markdown",
      "metadata": {
        "id": "vItcMDVDg-pF"
      },
      "source": [
        "News Category Dataset from Kaggle:\n",
        "1. Go to https://www.kaggle.com/rmisra/news-category-dataset\n",
        "2. Download dataset to your computer\n",
        "3. Upload dataset into your Google Drive folder\n",
        "4. Follow steps below"
      ]
    },
    {
      "cell_type": "code",
      "metadata": {
        "id": "eyn2JyKPgQJW",
        "outputId": "d8a9fe6a-f2a4-448d-ef21-2966528cc1f5",
        "colab": {
          "base_uri": "https://localhost:8080/"
        }
      },
      "source": [
        "!ls \"/gdrive/My Drive/Colab Notebooks/DataSets\""
      ],
      "execution_count": 24,
      "outputs": [
        {
          "output_type": "stream",
          "text": [
            "archive.zip\t\t      IVE_tickbidask.txt\n",
            "chest-xray-pneumonia-jmi.zip  Megatable-2016.sql\n",
            "dogs-vs-cats-sorted.zip       News_Category_Dataset_v2.json\n"
          ],
          "name": "stdout"
        }
      ]
    },
    {
      "cell_type": "code",
      "metadata": {
        "id": "NxQW3XGtgbJa",
        "outputId": "047c03ac-b111-4012-b30d-0b4fe4af0b85",
        "colab": {
          "base_uri": "https://localhost:8080/"
        }
      },
      "source": [
        "print(os.path.abspath(os.curdir))\n",
        "os.listdir()"
      ],
      "execution_count": 25,
      "outputs": [
        {
          "output_type": "stream",
          "text": [
            "/\n"
          ],
          "name": "stdout"
        },
        {
          "output_type": "execute_result",
          "data": {
            "text/plain": [
              "['sbin',\n",
              " 'root',\n",
              " 'opt',\n",
              " 'lib',\n",
              " 'dev',\n",
              " 'sys',\n",
              " 'var',\n",
              " 'lib64',\n",
              " 'usr',\n",
              " 'mnt',\n",
              " 'media',\n",
              " 'bin',\n",
              " 'tmp',\n",
              " 'home',\n",
              " 'srv',\n",
              " 'run',\n",
              " 'proc',\n",
              " 'boot',\n",
              " 'etc',\n",
              " 'gdrive',\n",
              " '.dockerenv',\n",
              " 'datalab',\n",
              " 'tools',\n",
              " 'swift',\n",
              " 'tensorflow-1.15.2',\n",
              " 'content',\n",
              " 'lib32']"
            ]
          },
          "metadata": {
            "tags": []
          },
          "execution_count": 25
        }
      ]
    },
    {
      "cell_type": "code",
      "metadata": {
        "id": "1M0dx1Nvgec1",
        "outputId": "fbb77faa-5036-4cfb-f4ca-c0b9c54a1a30",
        "colab": {
          "base_uri": "https://localhost:8080/",
          "height": 35
        }
      },
      "source": [
        "source_folder = r'/gdrive/My Drive/Colab Notebooks/DataSets/'\n",
        "target_folder = r'/content/'\n",
        "file = glob.glob(source_folder+ 'archive.zip', recursive = True)\n",
        "file = file[0]\n",
        "file"
      ],
      "execution_count": 26,
      "outputs": [
        {
          "output_type": "execute_result",
          "data": {
            "application/vnd.google.colaboratory.intrinsic+json": {
              "type": "string"
            },
            "text/plain": [
              "'/gdrive/My Drive/Colab Notebooks/DataSets/archive.zip'"
            ]
          },
          "metadata": {
            "tags": []
          },
          "execution_count": 26
        }
      ]
    },
    {
      "cell_type": "code",
      "metadata": {
        "id": "vc00gpz_gkwq"
      },
      "source": [
        "#upzip data\n",
        "zip_path = file\n",
        "!cp '{zip_path}' .\n",
        "\n",
        "!unzip -q archive.zip\n",
        "!rm archive.zip"
      ],
      "execution_count": 27,
      "outputs": []
    },
    {
      "cell_type": "code",
      "metadata": {
        "id": "-NyPkmyyhj_C"
      },
      "source": [
        "#open file for viewing\n",
        "news = pd.read_json('/gdrive/My Drive/Colab Notebooks/DataSets/News_Category_Dataset_v2.json', lines = True)"
      ],
      "execution_count": 28,
      "outputs": []
    },
    {
      "cell_type": "code",
      "metadata": {
        "id": "2Zu0vnx1i4iH",
        "outputId": "db24f60b-ac18-4807-ca17-c36f243e17d6",
        "colab": {
          "base_uri": "https://localhost:8080/",
          "height": 1000
        }
      },
      "source": [
        "news.head(20)"
      ],
      "execution_count": 29,
      "outputs": [
        {
          "output_type": "execute_result",
          "data": {
            "text/html": [
              "<div>\n",
              "<style scoped>\n",
              "    .dataframe tbody tr th:only-of-type {\n",
              "        vertical-align: middle;\n",
              "    }\n",
              "\n",
              "    .dataframe tbody tr th {\n",
              "        vertical-align: top;\n",
              "    }\n",
              "\n",
              "    .dataframe thead th {\n",
              "        text-align: right;\n",
              "    }\n",
              "</style>\n",
              "<table border=\"1\" class=\"dataframe\">\n",
              "  <thead>\n",
              "    <tr style=\"text-align: right;\">\n",
              "      <th></th>\n",
              "      <th>category</th>\n",
              "      <th>headline</th>\n",
              "      <th>authors</th>\n",
              "      <th>link</th>\n",
              "      <th>short_description</th>\n",
              "      <th>date</th>\n",
              "    </tr>\n",
              "  </thead>\n",
              "  <tbody>\n",
              "    <tr>\n",
              "      <th>0</th>\n",
              "      <td>CRIME</td>\n",
              "      <td>There Were 2 Mass Shootings In Texas Last Week...</td>\n",
              "      <td>Melissa Jeltsen</td>\n",
              "      <td>https://www.huffingtonpost.com/entry/texas-ama...</td>\n",
              "      <td>She left her husband. He killed their children...</td>\n",
              "      <td>2018-05-26</td>\n",
              "    </tr>\n",
              "    <tr>\n",
              "      <th>1</th>\n",
              "      <td>ENTERTAINMENT</td>\n",
              "      <td>Will Smith Joins Diplo And Nicky Jam For The 2...</td>\n",
              "      <td>Andy McDonald</td>\n",
              "      <td>https://www.huffingtonpost.com/entry/will-smit...</td>\n",
              "      <td>Of course it has a song.</td>\n",
              "      <td>2018-05-26</td>\n",
              "    </tr>\n",
              "    <tr>\n",
              "      <th>2</th>\n",
              "      <td>ENTERTAINMENT</td>\n",
              "      <td>Hugh Grant Marries For The First Time At Age 57</td>\n",
              "      <td>Ron Dicker</td>\n",
              "      <td>https://www.huffingtonpost.com/entry/hugh-gran...</td>\n",
              "      <td>The actor and his longtime girlfriend Anna Ebe...</td>\n",
              "      <td>2018-05-26</td>\n",
              "    </tr>\n",
              "    <tr>\n",
              "      <th>3</th>\n",
              "      <td>ENTERTAINMENT</td>\n",
              "      <td>Jim Carrey Blasts 'Castrato' Adam Schiff And D...</td>\n",
              "      <td>Ron Dicker</td>\n",
              "      <td>https://www.huffingtonpost.com/entry/jim-carre...</td>\n",
              "      <td>The actor gives Dems an ass-kicking for not fi...</td>\n",
              "      <td>2018-05-26</td>\n",
              "    </tr>\n",
              "    <tr>\n",
              "      <th>4</th>\n",
              "      <td>ENTERTAINMENT</td>\n",
              "      <td>Julianna Margulies Uses Donald Trump Poop Bags...</td>\n",
              "      <td>Ron Dicker</td>\n",
              "      <td>https://www.huffingtonpost.com/entry/julianna-...</td>\n",
              "      <td>The \"Dietland\" actress said using the bags is ...</td>\n",
              "      <td>2018-05-26</td>\n",
              "    </tr>\n",
              "    <tr>\n",
              "      <th>5</th>\n",
              "      <td>ENTERTAINMENT</td>\n",
              "      <td>Morgan Freeman 'Devastated' That Sexual Harass...</td>\n",
              "      <td>Ron Dicker</td>\n",
              "      <td>https://www.huffingtonpost.com/entry/morgan-fr...</td>\n",
              "      <td>\"It is not right to equate horrific incidents ...</td>\n",
              "      <td>2018-05-26</td>\n",
              "    </tr>\n",
              "    <tr>\n",
              "      <th>6</th>\n",
              "      <td>ENTERTAINMENT</td>\n",
              "      <td>Donald Trump Is Lovin' New McDonald's Jingle I...</td>\n",
              "      <td>Ron Dicker</td>\n",
              "      <td>https://www.huffingtonpost.com/entry/donald-tr...</td>\n",
              "      <td>It's catchy, all right.</td>\n",
              "      <td>2018-05-26</td>\n",
              "    </tr>\n",
              "    <tr>\n",
              "      <th>7</th>\n",
              "      <td>ENTERTAINMENT</td>\n",
              "      <td>What To Watch On Amazon Prime That’s New This ...</td>\n",
              "      <td>Todd Van Luling</td>\n",
              "      <td>https://www.huffingtonpost.com/entry/amazon-pr...</td>\n",
              "      <td>There's a great mini-series joining this week.</td>\n",
              "      <td>2018-05-26</td>\n",
              "    </tr>\n",
              "    <tr>\n",
              "      <th>8</th>\n",
              "      <td>ENTERTAINMENT</td>\n",
              "      <td>Mike Myers Reveals He'd 'Like To' Do A Fourth ...</td>\n",
              "      <td>Andy McDonald</td>\n",
              "      <td>https://www.huffingtonpost.com/entry/mike-myer...</td>\n",
              "      <td>Myer's kids may be pushing for a new \"Powers\" ...</td>\n",
              "      <td>2018-05-26</td>\n",
              "    </tr>\n",
              "    <tr>\n",
              "      <th>9</th>\n",
              "      <td>ENTERTAINMENT</td>\n",
              "      <td>What To Watch On Hulu That’s New This Week</td>\n",
              "      <td>Todd Van Luling</td>\n",
              "      <td>https://www.huffingtonpost.com/entry/hulu-what...</td>\n",
              "      <td>You're getting a recent Academy Award-winning ...</td>\n",
              "      <td>2018-05-26</td>\n",
              "    </tr>\n",
              "    <tr>\n",
              "      <th>10</th>\n",
              "      <td>ENTERTAINMENT</td>\n",
              "      <td>Justin Timberlake Visits Texas School Shooting...</td>\n",
              "      <td>Sebastian Murdock</td>\n",
              "      <td>https://www.huffingtonpost.com/entry/justin-ti...</td>\n",
              "      <td>The pop star also wore a \"Santa Fe Strong\" shi...</td>\n",
              "      <td>2018-05-26</td>\n",
              "    </tr>\n",
              "    <tr>\n",
              "      <th>11</th>\n",
              "      <td>WORLD NEWS</td>\n",
              "      <td>South Korean President Meets North Korea's Kim...</td>\n",
              "      <td></td>\n",
              "      <td>https://www.huffingtonpost.com/entry/south-kor...</td>\n",
              "      <td>The two met to pave the way for a summit betwe...</td>\n",
              "      <td>2018-05-26</td>\n",
              "    </tr>\n",
              "    <tr>\n",
              "      <th>12</th>\n",
              "      <td>IMPACT</td>\n",
              "      <td>With Its Way Of Life At Risk, This Remote Oyst...</td>\n",
              "      <td>Karen Pinchin</td>\n",
              "      <td>https://www.huffingtonpost.com/entry/remote-oy...</td>\n",
              "      <td>The revolution is coming to rural New Brunswick.</td>\n",
              "      <td>2018-05-26</td>\n",
              "    </tr>\n",
              "    <tr>\n",
              "      <th>13</th>\n",
              "      <td>POLITICS</td>\n",
              "      <td>Trump's Crackdown On Immigrant Parents Puts Mo...</td>\n",
              "      <td>Elise Foley and Roque Planas</td>\n",
              "      <td>https://www.huffingtonpost.com/entry/immigrant...</td>\n",
              "      <td>Last month a Health and Human Services officia...</td>\n",
              "      <td>2018-05-26</td>\n",
              "    </tr>\n",
              "    <tr>\n",
              "      <th>14</th>\n",
              "      <td>POLITICS</td>\n",
              "      <td>'Trump's Son Should Be Concerned': FBI Obtaine...</td>\n",
              "      <td>Michael Isikoff, Yahoo News</td>\n",
              "      <td>https://www.huffingtonpost.com/entry/fbi-wiret...</td>\n",
              "      <td>The wiretaps feature conversations between Ale...</td>\n",
              "      <td>2018-05-26</td>\n",
              "    </tr>\n",
              "    <tr>\n",
              "      <th>15</th>\n",
              "      <td>POLITICS</td>\n",
              "      <td>Edward Snowden: There's No One Trump Loves Mor...</td>\n",
              "      <td>Mary Papenfuss</td>\n",
              "      <td>https://www.huffingtonpost.com/entry/edward-sn...</td>\n",
              "      <td>But don't count on Robert Mueller to nail him,...</td>\n",
              "      <td>2018-05-26</td>\n",
              "    </tr>\n",
              "    <tr>\n",
              "      <th>16</th>\n",
              "      <td>POLITICS</td>\n",
              "      <td>Booyah: Obama Photographer Hilariously Trolls ...</td>\n",
              "      <td>Mary Papenfuss</td>\n",
              "      <td>https://www.huffingtonpost.com/entry/obama-pho...</td>\n",
              "      <td>Just a peeping minute.</td>\n",
              "      <td>2018-05-26</td>\n",
              "    </tr>\n",
              "    <tr>\n",
              "      <th>17</th>\n",
              "      <td>POLITICS</td>\n",
              "      <td>Ireland Votes To Repeal Abortion Amendment In ...</td>\n",
              "      <td>Laura Bassett</td>\n",
              "      <td>https://www.huffingtonpost.com/entry/results-f...</td>\n",
              "      <td>Irish women will no longer have to travel to t...</td>\n",
              "      <td>2018-05-26</td>\n",
              "    </tr>\n",
              "    <tr>\n",
              "      <th>18</th>\n",
              "      <td>POLITICS</td>\n",
              "      <td>Ryan Zinke Looks To Reel Back Some Critics Wit...</td>\n",
              "      <td>Chris D'Angelo</td>\n",
              "      <td>https://www.huffingtonpost.com/entry/ryan-zink...</td>\n",
              "      <td>The interior secretary attempts damage control...</td>\n",
              "      <td>2018-05-26</td>\n",
              "    </tr>\n",
              "    <tr>\n",
              "      <th>19</th>\n",
              "      <td>POLITICS</td>\n",
              "      <td>Trump's Scottish Golf Resort Pays Women Signif...</td>\n",
              "      <td>Mary Papenfuss</td>\n",
              "      <td>https://www.huffingtonpost.com/entry/trump-sco...</td>\n",
              "      <td>And there are four times as many male as femal...</td>\n",
              "      <td>2018-05-26</td>\n",
              "    </tr>\n",
              "  </tbody>\n",
              "</table>\n",
              "</div>"
            ],
            "text/plain": [
              "         category  ...       date\n",
              "0           CRIME  ... 2018-05-26\n",
              "1   ENTERTAINMENT  ... 2018-05-26\n",
              "2   ENTERTAINMENT  ... 2018-05-26\n",
              "3   ENTERTAINMENT  ... 2018-05-26\n",
              "4   ENTERTAINMENT  ... 2018-05-26\n",
              "5   ENTERTAINMENT  ... 2018-05-26\n",
              "6   ENTERTAINMENT  ... 2018-05-26\n",
              "7   ENTERTAINMENT  ... 2018-05-26\n",
              "8   ENTERTAINMENT  ... 2018-05-26\n",
              "9   ENTERTAINMENT  ... 2018-05-26\n",
              "10  ENTERTAINMENT  ... 2018-05-26\n",
              "11     WORLD NEWS  ... 2018-05-26\n",
              "12         IMPACT  ... 2018-05-26\n",
              "13       POLITICS  ... 2018-05-26\n",
              "14       POLITICS  ... 2018-05-26\n",
              "15       POLITICS  ... 2018-05-26\n",
              "16       POLITICS  ... 2018-05-26\n",
              "17       POLITICS  ... 2018-05-26\n",
              "18       POLITICS  ... 2018-05-26\n",
              "19       POLITICS  ... 2018-05-26\n",
              "\n",
              "[20 rows x 6 columns]"
            ]
          },
          "metadata": {
            "tags": []
          },
          "execution_count": 29
        }
      ]
    },
    {
      "cell_type": "markdown",
      "metadata": {
        "id": "LglEFbnDSQed"
      },
      "source": [
        "#Scrub"
      ]
    },
    {
      "cell_type": "markdown",
      "metadata": {
        "id": "XQIhHZNiX_qI"
      },
      "source": [
        "### Scrubbing Stocks"
      ]
    },
    {
      "cell_type": "code",
      "metadata": {
        "id": "iz5bAH0VOUGP",
        "outputId": "36b5f6ff-167c-432f-f6e4-ce029add024c",
        "colab": {
          "base_uri": "https://localhost:8080/"
        }
      },
      "source": [
        "#check nulls\n",
        "stocks.isna().sum()"
      ],
      "execution_count": 30,
      "outputs": [
        {
          "output_type": "execute_result",
          "data": {
            "text/plain": [
              "Date     0\n",
              "Time     0\n",
              "Price    0\n",
              "Bid      0\n",
              "Ask      0\n",
              "Size     0\n",
              "dtype: int64"
            ]
          },
          "metadata": {
            "tags": []
          },
          "execution_count": 30
        }
      ]
    },
    {
      "cell_type": "code",
      "metadata": {
        "id": "Q9dFabUjleUh",
        "outputId": "db210d5a-d83e-48a1-8bb1-b083a0938bc8",
        "colab": {
          "base_uri": "https://localhost:8080/"
        }
      },
      "source": [
        "stocks.info()"
      ],
      "execution_count": 31,
      "outputs": [
        {
          "output_type": "stream",
          "text": [
            "<class 'pandas.core.frame.DataFrame'>\n",
            "RangeIndex: 8467946 entries, 0 to 8467945\n",
            "Data columns (total 6 columns):\n",
            " #   Column  Dtype  \n",
            "---  ------  -----  \n",
            " 0   Date    object \n",
            " 1   Time    object \n",
            " 2   Price   float64\n",
            " 3   Bid     float64\n",
            " 4   Ask     float64\n",
            " 5   Size    int64  \n",
            "dtypes: float64(3), int64(1), object(2)\n",
            "memory usage: 387.6+ MB\n"
          ],
          "name": "stdout"
        }
      ]
    },
    {
      "cell_type": "code",
      "metadata": {
        "id": "VxCuo9yjXQxa"
      },
      "source": [
        "#convert date to a datetime column\n",
        "stocks['Date'] = pd.to_datetime(stocks['Date'])#, format = '%d/%m/%y')"
      ],
      "execution_count": 32,
      "outputs": []
    },
    {
      "cell_type": "code",
      "metadata": {
        "id": "L1eapxSsXp9U",
        "outputId": "9fe12c2d-0ccf-45a3-d8d6-9e895f95ff32",
        "colab": {
          "base_uri": "https://localhost:8080/"
        }
      },
      "source": [
        "stocks.info()"
      ],
      "execution_count": 33,
      "outputs": [
        {
          "output_type": "stream",
          "text": [
            "<class 'pandas.core.frame.DataFrame'>\n",
            "RangeIndex: 8467946 entries, 0 to 8467945\n",
            "Data columns (total 6 columns):\n",
            " #   Column  Dtype         \n",
            "---  ------  -----         \n",
            " 0   Date    datetime64[ns]\n",
            " 1   Time    object        \n",
            " 2   Price   float64       \n",
            " 3   Bid     float64       \n",
            " 4   Ask     float64       \n",
            " 5   Size    int64         \n",
            "dtypes: datetime64[ns](1), float64(3), int64(1), object(1)\n",
            "memory usage: 387.6+ MB\n"
          ],
          "name": "stdout"
        }
      ]
    },
    {
      "cell_type": "code",
      "metadata": {
        "id": "iOqD0N_7Xvje"
      },
      "source": [
        "#set date to index\n",
        "stocks.set_index('Date', inplace= True)"
      ],
      "execution_count": 34,
      "outputs": []
    },
    {
      "cell_type": "code",
      "metadata": {
        "id": "hELeZhv9zItu",
        "outputId": "33981741-0104-48f3-9ad5-2bff7040bff3",
        "colab": {
          "base_uri": "https://localhost:8080/"
        }
      },
      "source": [
        "stocks.index"
      ],
      "execution_count": 35,
      "outputs": [
        {
          "output_type": "execute_result",
          "data": {
            "text/plain": [
              "DatetimeIndex(['2009-09-28', '2009-09-28', '2009-09-28', '2009-09-28',\n",
              "               '2009-09-28', '2009-09-28', '2009-09-28', '2009-09-28',\n",
              "               '2009-09-28', '2009-09-28',\n",
              "               ...\n",
              "               '2020-11-05', '2020-11-05', '2020-11-05', '2020-11-05',\n",
              "               '2020-11-05', '2020-11-05', '2020-11-05', '2020-11-05',\n",
              "               '2020-11-05', '2020-11-05'],\n",
              "              dtype='datetime64[ns]', name='Date', length=8467946, freq=None)"
            ]
          },
          "metadata": {
            "tags": []
          },
          "execution_count": 35
        }
      ]
    },
    {
      "cell_type": "code",
      "metadata": {
        "id": "Ae9AP4rRX3nU",
        "outputId": "36f8bfd3-d65c-44f3-9bcf-4a81513f396c",
        "colab": {
          "base_uri": "https://localhost:8080/",
          "height": 235
        }
      },
      "source": [
        "stocks.head()"
      ],
      "execution_count": 36,
      "outputs": [
        {
          "output_type": "execute_result",
          "data": {
            "text/html": [
              "<div>\n",
              "<style scoped>\n",
              "    .dataframe tbody tr th:only-of-type {\n",
              "        vertical-align: middle;\n",
              "    }\n",
              "\n",
              "    .dataframe tbody tr th {\n",
              "        vertical-align: top;\n",
              "    }\n",
              "\n",
              "    .dataframe thead th {\n",
              "        text-align: right;\n",
              "    }\n",
              "</style>\n",
              "<table border=\"1\" class=\"dataframe\">\n",
              "  <thead>\n",
              "    <tr style=\"text-align: right;\">\n",
              "      <th></th>\n",
              "      <th>Time</th>\n",
              "      <th>Price</th>\n",
              "      <th>Bid</th>\n",
              "      <th>Ask</th>\n",
              "      <th>Size</th>\n",
              "    </tr>\n",
              "    <tr>\n",
              "      <th>Date</th>\n",
              "      <th></th>\n",
              "      <th></th>\n",
              "      <th></th>\n",
              "      <th></th>\n",
              "      <th></th>\n",
              "    </tr>\n",
              "  </thead>\n",
              "  <tbody>\n",
              "    <tr>\n",
              "      <th>2009-09-28</th>\n",
              "      <td>09:30:00</td>\n",
              "      <td>50.79</td>\n",
              "      <td>50.70</td>\n",
              "      <td>50.79</td>\n",
              "      <td>100</td>\n",
              "    </tr>\n",
              "    <tr>\n",
              "      <th>2009-09-28</th>\n",
              "      <td>09:30:00</td>\n",
              "      <td>50.71</td>\n",
              "      <td>50.70</td>\n",
              "      <td>50.79</td>\n",
              "      <td>638</td>\n",
              "    </tr>\n",
              "    <tr>\n",
              "      <th>2009-09-28</th>\n",
              "      <td>09:31:32</td>\n",
              "      <td>50.75</td>\n",
              "      <td>50.75</td>\n",
              "      <td>50.76</td>\n",
              "      <td>100</td>\n",
              "    </tr>\n",
              "    <tr>\n",
              "      <th>2009-09-28</th>\n",
              "      <td>09:31:32</td>\n",
              "      <td>50.75</td>\n",
              "      <td>50.75</td>\n",
              "      <td>50.76</td>\n",
              "      <td>100</td>\n",
              "    </tr>\n",
              "    <tr>\n",
              "      <th>2009-09-28</th>\n",
              "      <td>09:31:33</td>\n",
              "      <td>50.75</td>\n",
              "      <td>50.75</td>\n",
              "      <td>50.76</td>\n",
              "      <td>100</td>\n",
              "    </tr>\n",
              "  </tbody>\n",
              "</table>\n",
              "</div>"
            ],
            "text/plain": [
              "                Time  Price    Bid    Ask  Size\n",
              "Date                                           \n",
              "2009-09-28  09:30:00  50.79  50.70  50.79   100\n",
              "2009-09-28  09:30:00  50.71  50.70  50.79   638\n",
              "2009-09-28  09:31:32  50.75  50.75  50.76   100\n",
              "2009-09-28  09:31:32  50.75  50.75  50.76   100\n",
              "2009-09-28  09:31:33  50.75  50.75  50.76   100"
            ]
          },
          "metadata": {
            "tags": []
          },
          "execution_count": 36
        }
      ]
    },
    {
      "cell_type": "code",
      "metadata": {
        "id": "oFAPalQBfqfN",
        "outputId": "e1b31885-5871-4c59-b257-d539428caea7",
        "colab": {
          "base_uri": "https://localhost:8080/"
        }
      },
      "source": [
        "stocks.info()"
      ],
      "execution_count": 37,
      "outputs": [
        {
          "output_type": "stream",
          "text": [
            "<class 'pandas.core.frame.DataFrame'>\n",
            "DatetimeIndex: 8467946 entries, 2009-09-28 to 2020-11-05\n",
            "Data columns (total 5 columns):\n",
            " #   Column  Dtype  \n",
            "---  ------  -----  \n",
            " 0   Time    object \n",
            " 1   Price   float64\n",
            " 2   Bid     float64\n",
            " 3   Ask     float64\n",
            " 4   Size    int64  \n",
            "dtypes: float64(3), int64(1), object(1)\n",
            "memory usage: 387.6+ MB\n"
          ],
          "name": "stdout"
        }
      ]
    },
    {
      "cell_type": "markdown",
      "metadata": {
        "id": "l6OEEqcdp3hn"
      },
      "source": [
        "### Scrubbing News"
      ]
    },
    {
      "cell_type": "code",
      "metadata": {
        "id": "uXQtITmhrOBi",
        "outputId": "cbba6073-bbcc-4b76-beff-49001212578c",
        "colab": {
          "base_uri": "https://localhost:8080/",
          "height": 425
        }
      },
      "source": [
        "news.head()"
      ],
      "execution_count": 38,
      "outputs": [
        {
          "output_type": "execute_result",
          "data": {
            "text/html": [
              "<div>\n",
              "<style scoped>\n",
              "    .dataframe tbody tr th:only-of-type {\n",
              "        vertical-align: middle;\n",
              "    }\n",
              "\n",
              "    .dataframe tbody tr th {\n",
              "        vertical-align: top;\n",
              "    }\n",
              "\n",
              "    .dataframe thead th {\n",
              "        text-align: right;\n",
              "    }\n",
              "</style>\n",
              "<table border=\"1\" class=\"dataframe\">\n",
              "  <thead>\n",
              "    <tr style=\"text-align: right;\">\n",
              "      <th></th>\n",
              "      <th>category</th>\n",
              "      <th>headline</th>\n",
              "      <th>authors</th>\n",
              "      <th>link</th>\n",
              "      <th>short_description</th>\n",
              "      <th>date</th>\n",
              "    </tr>\n",
              "  </thead>\n",
              "  <tbody>\n",
              "    <tr>\n",
              "      <th>0</th>\n",
              "      <td>CRIME</td>\n",
              "      <td>There Were 2 Mass Shootings In Texas Last Week...</td>\n",
              "      <td>Melissa Jeltsen</td>\n",
              "      <td>https://www.huffingtonpost.com/entry/texas-ama...</td>\n",
              "      <td>She left her husband. He killed their children...</td>\n",
              "      <td>2018-05-26</td>\n",
              "    </tr>\n",
              "    <tr>\n",
              "      <th>1</th>\n",
              "      <td>ENTERTAINMENT</td>\n",
              "      <td>Will Smith Joins Diplo And Nicky Jam For The 2...</td>\n",
              "      <td>Andy McDonald</td>\n",
              "      <td>https://www.huffingtonpost.com/entry/will-smit...</td>\n",
              "      <td>Of course it has a song.</td>\n",
              "      <td>2018-05-26</td>\n",
              "    </tr>\n",
              "    <tr>\n",
              "      <th>2</th>\n",
              "      <td>ENTERTAINMENT</td>\n",
              "      <td>Hugh Grant Marries For The First Time At Age 57</td>\n",
              "      <td>Ron Dicker</td>\n",
              "      <td>https://www.huffingtonpost.com/entry/hugh-gran...</td>\n",
              "      <td>The actor and his longtime girlfriend Anna Ebe...</td>\n",
              "      <td>2018-05-26</td>\n",
              "    </tr>\n",
              "    <tr>\n",
              "      <th>3</th>\n",
              "      <td>ENTERTAINMENT</td>\n",
              "      <td>Jim Carrey Blasts 'Castrato' Adam Schiff And D...</td>\n",
              "      <td>Ron Dicker</td>\n",
              "      <td>https://www.huffingtonpost.com/entry/jim-carre...</td>\n",
              "      <td>The actor gives Dems an ass-kicking for not fi...</td>\n",
              "      <td>2018-05-26</td>\n",
              "    </tr>\n",
              "    <tr>\n",
              "      <th>4</th>\n",
              "      <td>ENTERTAINMENT</td>\n",
              "      <td>Julianna Margulies Uses Donald Trump Poop Bags...</td>\n",
              "      <td>Ron Dicker</td>\n",
              "      <td>https://www.huffingtonpost.com/entry/julianna-...</td>\n",
              "      <td>The \"Dietland\" actress said using the bags is ...</td>\n",
              "      <td>2018-05-26</td>\n",
              "    </tr>\n",
              "  </tbody>\n",
              "</table>\n",
              "</div>"
            ],
            "text/plain": [
              "        category  ...       date\n",
              "0          CRIME  ... 2018-05-26\n",
              "1  ENTERTAINMENT  ... 2018-05-26\n",
              "2  ENTERTAINMENT  ... 2018-05-26\n",
              "3  ENTERTAINMENT  ... 2018-05-26\n",
              "4  ENTERTAINMENT  ... 2018-05-26\n",
              "\n",
              "[5 rows x 6 columns]"
            ]
          },
          "metadata": {
            "tags": []
          },
          "execution_count": 38
        }
      ]
    },
    {
      "cell_type": "code",
      "metadata": {
        "id": "-BeMZF-Ej4E8",
        "outputId": "381c31af-4cef-4da2-f92b-0af626a4fc50",
        "colab": {
          "base_uri": "https://localhost:8080/"
        }
      },
      "source": [
        "news.info()"
      ],
      "execution_count": 39,
      "outputs": [
        {
          "output_type": "stream",
          "text": [
            "<class 'pandas.core.frame.DataFrame'>\n",
            "RangeIndex: 200853 entries, 0 to 200852\n",
            "Data columns (total 6 columns):\n",
            " #   Column             Non-Null Count   Dtype         \n",
            "---  ------             --------------   -----         \n",
            " 0   category           200853 non-null  object        \n",
            " 1   headline           200853 non-null  object        \n",
            " 2   authors            200853 non-null  object        \n",
            " 3   link               200853 non-null  object        \n",
            " 4   short_description  200853 non-null  object        \n",
            " 5   date               200853 non-null  datetime64[ns]\n",
            "dtypes: datetime64[ns](1), object(5)\n",
            "memory usage: 9.2+ MB\n"
          ],
          "name": "stdout"
        }
      ]
    },
    {
      "cell_type": "code",
      "metadata": {
        "id": "wQNgqZPtp67p",
        "outputId": "612fa6ea-5334-4ea9-9665-66c22eb6d580",
        "colab": {
          "base_uri": "https://localhost:8080/"
        }
      },
      "source": [
        "news.isna().sum()"
      ],
      "execution_count": 40,
      "outputs": [
        {
          "output_type": "execute_result",
          "data": {
            "text/plain": [
              "category             0\n",
              "headline             0\n",
              "authors              0\n",
              "link                 0\n",
              "short_description    0\n",
              "date                 0\n",
              "dtype: int64"
            ]
          },
          "metadata": {
            "tags": []
          },
          "execution_count": 40
        }
      ]
    },
    {
      "cell_type": "code",
      "metadata": {
        "id": "H_Hua7k_jwZb",
        "outputId": "9c9ab4f3-e62c-4712-cd2b-f1bcd4881e02",
        "colab": {
          "base_uri": "https://localhost:8080/"
        }
      },
      "source": [
        "news.nunique()"
      ],
      "execution_count": 41,
      "outputs": [
        {
          "output_type": "execute_result",
          "data": {
            "text/plain": [
              "category                 41\n",
              "headline             199344\n",
              "authors               27993\n",
              "link                 200812\n",
              "short_description    178353\n",
              "date                   2309\n",
              "dtype: int64"
            ]
          },
          "metadata": {
            "tags": []
          },
          "execution_count": 41
        }
      ]
    },
    {
      "cell_type": "code",
      "metadata": {
        "id": "-OysOZ05qFyh",
        "outputId": "b279df41-1120-462f-c4da-c103800d1049",
        "colab": {
          "base_uri": "https://localhost:8080/"
        }
      },
      "source": [
        "#check diff categories\n",
        "news.category.value_counts()"
      ],
      "execution_count": 42,
      "outputs": [
        {
          "output_type": "execute_result",
          "data": {
            "text/plain": [
              "POLITICS          32739\n",
              "WELLNESS          17827\n",
              "ENTERTAINMENT     16058\n",
              "TRAVEL             9887\n",
              "STYLE & BEAUTY     9649\n",
              "PARENTING          8677\n",
              "HEALTHY LIVING     6694\n",
              "QUEER VOICES       6314\n",
              "FOOD & DRINK       6226\n",
              "BUSINESS           5937\n",
              "COMEDY             5175\n",
              "SPORTS             4884\n",
              "BLACK VOICES       4528\n",
              "HOME & LIVING      4195\n",
              "PARENTS            3955\n",
              "THE WORLDPOST      3664\n",
              "WEDDINGS           3651\n",
              "WOMEN              3490\n",
              "IMPACT             3459\n",
              "DIVORCE            3426\n",
              "CRIME              3405\n",
              "MEDIA              2815\n",
              "WEIRD NEWS         2670\n",
              "GREEN              2622\n",
              "WORLDPOST          2579\n",
              "RELIGION           2556\n",
              "STYLE              2254\n",
              "SCIENCE            2178\n",
              "WORLD NEWS         2177\n",
              "TASTE              2096\n",
              "TECH               2082\n",
              "MONEY              1707\n",
              "ARTS               1509\n",
              "FIFTY              1401\n",
              "GOOD NEWS          1398\n",
              "ARTS & CULTURE     1339\n",
              "ENVIRONMENT        1323\n",
              "COLLEGE            1144\n",
              "LATINO VOICES      1129\n",
              "CULTURE & ARTS     1030\n",
              "EDUCATION          1004\n",
              "Name: category, dtype: int64"
            ]
          },
          "metadata": {
            "tags": []
          },
          "execution_count": 42
        }
      ]
    },
    {
      "cell_type": "code",
      "metadata": {
        "id": "7alyNMzSph5O",
        "outputId": "1c5bbc14-9eb3-41de-8014-ac6c1b742bd6",
        "colab": {
          "base_uri": "https://localhost:8080/"
        }
      },
      "source": [
        "#end date\n",
        "news.date.max()"
      ],
      "execution_count": 43,
      "outputs": [
        {
          "output_type": "execute_result",
          "data": {
            "text/plain": [
              "Timestamp('2018-05-26 00:00:00')"
            ]
          },
          "metadata": {
            "tags": []
          },
          "execution_count": 43
        }
      ]
    },
    {
      "cell_type": "code",
      "metadata": {
        "id": "EX7DtioMpjoy",
        "outputId": "78a11d30-23ca-41c2-8357-44e71370fa38",
        "colab": {
          "base_uri": "https://localhost:8080/"
        }
      },
      "source": [
        "#start date\n",
        "news.date.min()"
      ],
      "execution_count": 44,
      "outputs": [
        {
          "output_type": "execute_result",
          "data": {
            "text/plain": [
              "Timestamp('2012-01-28 00:00:00')"
            ]
          },
          "metadata": {
            "tags": []
          },
          "execution_count": 44
        }
      ]
    },
    {
      "cell_type": "code",
      "metadata": {
        "id": "16Opc79Mrh5N"
      },
      "source": [
        "news.set_index('date', inplace= True)"
      ],
      "execution_count": 45,
      "outputs": []
    },
    {
      "cell_type": "code",
      "metadata": {
        "id": "JDSAh9Q8rm3m",
        "outputId": "0fe790c2-43e5-454a-d963-c8c9f1c44d45",
        "colab": {
          "base_uri": "https://localhost:8080/",
          "height": 1000
        }
      },
      "source": [
        "news.head(20)"
      ],
      "execution_count": 95,
      "outputs": [
        {
          "output_type": "execute_result",
          "data": {
            "text/html": [
              "<div>\n",
              "<style scoped>\n",
              "    .dataframe tbody tr th:only-of-type {\n",
              "        vertical-align: middle;\n",
              "    }\n",
              "\n",
              "    .dataframe tbody tr th {\n",
              "        vertical-align: top;\n",
              "    }\n",
              "\n",
              "    .dataframe thead th {\n",
              "        text-align: right;\n",
              "    }\n",
              "</style>\n",
              "<table border=\"1\" class=\"dataframe\">\n",
              "  <thead>\n",
              "    <tr style=\"text-align: right;\">\n",
              "      <th></th>\n",
              "      <th>category</th>\n",
              "      <th>headline</th>\n",
              "      <th>authors</th>\n",
              "      <th>link</th>\n",
              "      <th>short_description</th>\n",
              "      <th>year</th>\n",
              "    </tr>\n",
              "    <tr>\n",
              "      <th>date</th>\n",
              "      <th></th>\n",
              "      <th></th>\n",
              "      <th></th>\n",
              "      <th></th>\n",
              "      <th></th>\n",
              "      <th></th>\n",
              "    </tr>\n",
              "  </thead>\n",
              "  <tbody>\n",
              "    <tr>\n",
              "      <th>2018-05-26</th>\n",
              "      <td>CRIME</td>\n",
              "      <td>There Were 2 Mass Shootings In Texas Last Week...</td>\n",
              "      <td>Melissa Jeltsen</td>\n",
              "      <td>https://www.huffingtonpost.com/entry/texas-ama...</td>\n",
              "      <td>She left her husband. He killed their children...</td>\n",
              "      <td>2018</td>\n",
              "    </tr>\n",
              "    <tr>\n",
              "      <th>2018-05-26</th>\n",
              "      <td>ENTERTAINMENT</td>\n",
              "      <td>Will Smith Joins Diplo And Nicky Jam For The 2...</td>\n",
              "      <td>Andy McDonald</td>\n",
              "      <td>https://www.huffingtonpost.com/entry/will-smit...</td>\n",
              "      <td>Of course it has a song.</td>\n",
              "      <td>2018</td>\n",
              "    </tr>\n",
              "    <tr>\n",
              "      <th>2018-05-26</th>\n",
              "      <td>ENTERTAINMENT</td>\n",
              "      <td>Hugh Grant Marries For The First Time At Age 57</td>\n",
              "      <td>Ron Dicker</td>\n",
              "      <td>https://www.huffingtonpost.com/entry/hugh-gran...</td>\n",
              "      <td>The actor and his longtime girlfriend Anna Ebe...</td>\n",
              "      <td>2018</td>\n",
              "    </tr>\n",
              "    <tr>\n",
              "      <th>2018-05-26</th>\n",
              "      <td>ENTERTAINMENT</td>\n",
              "      <td>Jim Carrey Blasts 'Castrato' Adam Schiff And D...</td>\n",
              "      <td>Ron Dicker</td>\n",
              "      <td>https://www.huffingtonpost.com/entry/jim-carre...</td>\n",
              "      <td>The actor gives Dems an ass-kicking for not fi...</td>\n",
              "      <td>2018</td>\n",
              "    </tr>\n",
              "    <tr>\n",
              "      <th>2018-05-26</th>\n",
              "      <td>ENTERTAINMENT</td>\n",
              "      <td>Julianna Margulies Uses Donald Trump Poop Bags...</td>\n",
              "      <td>Ron Dicker</td>\n",
              "      <td>https://www.huffingtonpost.com/entry/julianna-...</td>\n",
              "      <td>The \"Dietland\" actress said using the bags is ...</td>\n",
              "      <td>2018</td>\n",
              "    </tr>\n",
              "    <tr>\n",
              "      <th>2018-05-26</th>\n",
              "      <td>ENTERTAINMENT</td>\n",
              "      <td>Morgan Freeman 'Devastated' That Sexual Harass...</td>\n",
              "      <td>Ron Dicker</td>\n",
              "      <td>https://www.huffingtonpost.com/entry/morgan-fr...</td>\n",
              "      <td>\"It is not right to equate horrific incidents ...</td>\n",
              "      <td>2018</td>\n",
              "    </tr>\n",
              "    <tr>\n",
              "      <th>2018-05-26</th>\n",
              "      <td>ENTERTAINMENT</td>\n",
              "      <td>Donald Trump Is Lovin' New McDonald's Jingle I...</td>\n",
              "      <td>Ron Dicker</td>\n",
              "      <td>https://www.huffingtonpost.com/entry/donald-tr...</td>\n",
              "      <td>It's catchy, all right.</td>\n",
              "      <td>2018</td>\n",
              "    </tr>\n",
              "    <tr>\n",
              "      <th>2018-05-26</th>\n",
              "      <td>ENTERTAINMENT</td>\n",
              "      <td>What To Watch On Amazon Prime That’s New This ...</td>\n",
              "      <td>Todd Van Luling</td>\n",
              "      <td>https://www.huffingtonpost.com/entry/amazon-pr...</td>\n",
              "      <td>There's a great mini-series joining this week.</td>\n",
              "      <td>2018</td>\n",
              "    </tr>\n",
              "    <tr>\n",
              "      <th>2018-05-26</th>\n",
              "      <td>ENTERTAINMENT</td>\n",
              "      <td>Mike Myers Reveals He'd 'Like To' Do A Fourth ...</td>\n",
              "      <td>Andy McDonald</td>\n",
              "      <td>https://www.huffingtonpost.com/entry/mike-myer...</td>\n",
              "      <td>Myer's kids may be pushing for a new \"Powers\" ...</td>\n",
              "      <td>2018</td>\n",
              "    </tr>\n",
              "    <tr>\n",
              "      <th>2018-05-26</th>\n",
              "      <td>ENTERTAINMENT</td>\n",
              "      <td>What To Watch On Hulu That’s New This Week</td>\n",
              "      <td>Todd Van Luling</td>\n",
              "      <td>https://www.huffingtonpost.com/entry/hulu-what...</td>\n",
              "      <td>You're getting a recent Academy Award-winning ...</td>\n",
              "      <td>2018</td>\n",
              "    </tr>\n",
              "    <tr>\n",
              "      <th>2018-05-26</th>\n",
              "      <td>ENTERTAINMENT</td>\n",
              "      <td>Justin Timberlake Visits Texas School Shooting...</td>\n",
              "      <td>Sebastian Murdock</td>\n",
              "      <td>https://www.huffingtonpost.com/entry/justin-ti...</td>\n",
              "      <td>The pop star also wore a \"Santa Fe Strong\" shi...</td>\n",
              "      <td>2018</td>\n",
              "    </tr>\n",
              "    <tr>\n",
              "      <th>2018-05-26</th>\n",
              "      <td>WORLD NEWS</td>\n",
              "      <td>South Korean President Meets North Korea's Kim...</td>\n",
              "      <td></td>\n",
              "      <td>https://www.huffingtonpost.com/entry/south-kor...</td>\n",
              "      <td>The two met to pave the way for a summit betwe...</td>\n",
              "      <td>2018</td>\n",
              "    </tr>\n",
              "    <tr>\n",
              "      <th>2018-05-26</th>\n",
              "      <td>IMPACT</td>\n",
              "      <td>With Its Way Of Life At Risk, This Remote Oyst...</td>\n",
              "      <td>Karen Pinchin</td>\n",
              "      <td>https://www.huffingtonpost.com/entry/remote-oy...</td>\n",
              "      <td>The revolution is coming to rural New Brunswick.</td>\n",
              "      <td>2018</td>\n",
              "    </tr>\n",
              "    <tr>\n",
              "      <th>2018-05-26</th>\n",
              "      <td>POLITICS</td>\n",
              "      <td>Trump's Crackdown On Immigrant Parents Puts Mo...</td>\n",
              "      <td>Elise Foley and Roque Planas</td>\n",
              "      <td>https://www.huffingtonpost.com/entry/immigrant...</td>\n",
              "      <td>Last month a Health and Human Services officia...</td>\n",
              "      <td>2018</td>\n",
              "    </tr>\n",
              "    <tr>\n",
              "      <th>2018-05-26</th>\n",
              "      <td>POLITICS</td>\n",
              "      <td>'Trump's Son Should Be Concerned': FBI Obtaine...</td>\n",
              "      <td>Michael Isikoff, Yahoo News</td>\n",
              "      <td>https://www.huffingtonpost.com/entry/fbi-wiret...</td>\n",
              "      <td>The wiretaps feature conversations between Ale...</td>\n",
              "      <td>2018</td>\n",
              "    </tr>\n",
              "    <tr>\n",
              "      <th>2018-05-26</th>\n",
              "      <td>POLITICS</td>\n",
              "      <td>Edward Snowden: There's No One Trump Loves Mor...</td>\n",
              "      <td>Mary Papenfuss</td>\n",
              "      <td>https://www.huffingtonpost.com/entry/edward-sn...</td>\n",
              "      <td>But don't count on Robert Mueller to nail him,...</td>\n",
              "      <td>2018</td>\n",
              "    </tr>\n",
              "    <tr>\n",
              "      <th>2018-05-26</th>\n",
              "      <td>POLITICS</td>\n",
              "      <td>Booyah: Obama Photographer Hilariously Trolls ...</td>\n",
              "      <td>Mary Papenfuss</td>\n",
              "      <td>https://www.huffingtonpost.com/entry/obama-pho...</td>\n",
              "      <td>Just a peeping minute.</td>\n",
              "      <td>2018</td>\n",
              "    </tr>\n",
              "    <tr>\n",
              "      <th>2018-05-26</th>\n",
              "      <td>POLITICS</td>\n",
              "      <td>Ireland Votes To Repeal Abortion Amendment In ...</td>\n",
              "      <td>Laura Bassett</td>\n",
              "      <td>https://www.huffingtonpost.com/entry/results-f...</td>\n",
              "      <td>Irish women will no longer have to travel to t...</td>\n",
              "      <td>2018</td>\n",
              "    </tr>\n",
              "    <tr>\n",
              "      <th>2018-05-26</th>\n",
              "      <td>POLITICS</td>\n",
              "      <td>Ryan Zinke Looks To Reel Back Some Critics Wit...</td>\n",
              "      <td>Chris D'Angelo</td>\n",
              "      <td>https://www.huffingtonpost.com/entry/ryan-zink...</td>\n",
              "      <td>The interior secretary attempts damage control...</td>\n",
              "      <td>2018</td>\n",
              "    </tr>\n",
              "    <tr>\n",
              "      <th>2018-05-26</th>\n",
              "      <td>POLITICS</td>\n",
              "      <td>Trump's Scottish Golf Resort Pays Women Signif...</td>\n",
              "      <td>Mary Papenfuss</td>\n",
              "      <td>https://www.huffingtonpost.com/entry/trump-sco...</td>\n",
              "      <td>And there are four times as many male as femal...</td>\n",
              "      <td>2018</td>\n",
              "    </tr>\n",
              "  </tbody>\n",
              "</table>\n",
              "</div>"
            ],
            "text/plain": [
              "                 category  ...  year\n",
              "date                       ...      \n",
              "2018-05-26          CRIME  ...  2018\n",
              "2018-05-26  ENTERTAINMENT  ...  2018\n",
              "2018-05-26  ENTERTAINMENT  ...  2018\n",
              "2018-05-26  ENTERTAINMENT  ...  2018\n",
              "2018-05-26  ENTERTAINMENT  ...  2018\n",
              "2018-05-26  ENTERTAINMENT  ...  2018\n",
              "2018-05-26  ENTERTAINMENT  ...  2018\n",
              "2018-05-26  ENTERTAINMENT  ...  2018\n",
              "2018-05-26  ENTERTAINMENT  ...  2018\n",
              "2018-05-26  ENTERTAINMENT  ...  2018\n",
              "2018-05-26  ENTERTAINMENT  ...  2018\n",
              "2018-05-26     WORLD NEWS  ...  2018\n",
              "2018-05-26         IMPACT  ...  2018\n",
              "2018-05-26       POLITICS  ...  2018\n",
              "2018-05-26       POLITICS  ...  2018\n",
              "2018-05-26       POLITICS  ...  2018\n",
              "2018-05-26       POLITICS  ...  2018\n",
              "2018-05-26       POLITICS  ...  2018\n",
              "2018-05-26       POLITICS  ...  2018\n",
              "2018-05-26       POLITICS  ...  2018\n",
              "\n",
              "[20 rows x 6 columns]"
            ]
          },
          "metadata": {
            "tags": []
          },
          "execution_count": 95
        }
      ]
    },
    {
      "cell_type": "code",
      "metadata": {
        "id": "YBXRohWQkBBk",
        "outputId": "0eaa86a5-93c2-49ed-bd40-78dd37e7e25b",
        "colab": {
          "base_uri": "https://localhost:8080/"
        }
      },
      "source": [
        "import nltk\n",
        "nltk.download('punkt')\n",
        "nltk.download('stopwords')"
      ],
      "execution_count": 105,
      "outputs": [
        {
          "output_type": "stream",
          "text": [
            "[nltk_data] Downloading package punkt to /root/nltk_data...\n",
            "[nltk_data]   Package punkt is already up-to-date!\n",
            "[nltk_data] Downloading package stopwords to /root/nltk_data...\n",
            "[nltk_data]   Unzipping corpora/stopwords.zip.\n"
          ],
          "name": "stdout"
        },
        {
          "output_type": "execute_result",
          "data": {
            "text/plain": [
              "True"
            ]
          },
          "metadata": {
            "tags": []
          },
          "execution_count": 105
        }
      ]
    },
    {
      "cell_type": "code",
      "metadata": {
        "id": "uVLHAagJj1dZ"
      },
      "source": [
        "from nltk.tokenize import word_tokenize\n",
        "from nltk.corpus import stopwords\n",
        "import string"
      ],
      "execution_count": 106,
      "outputs": []
    },
    {
      "cell_type": "code",
      "metadata": {
        "id": "9UQFB-oBmI72"
      },
      "source": [
        "stopwords = stopwords.words('english')\n",
        "stopwords += list(string.punctuation)"
      ],
      "execution_count": 107,
      "outputs": []
    },
    {
      "cell_type": "code",
      "metadata": {
        "id": "Nrb2snuond6N"
      },
      "source": [
        "pattern = \"([a-zA-Z]+(?:'[a-z]+)?)\"\n",
        "\n",
        "for headline in news.headline:\n",
        "  tokens = nltk.regexp_tokenize(headline, pattern)\n",
        "  stopped_tokens = [w.lower() for w in tokens if w not in stopwords]"
      ],
      "execution_count": 132,
      "outputs": []
    },
    {
      "cell_type": "code",
      "metadata": {
        "id": "yHHtL7j6oUIG"
      },
      "source": [
        "from nltk import FreqDist"
      ],
      "execution_count": 125,
      "outputs": []
    },
    {
      "cell_type": "code",
      "metadata": {
        "id": "d4kSCW7Po_-m",
        "outputId": "cbbe7354-f982-45d9-cd98-0470c6bef283",
        "colab": {
          "base_uri": "https://localhost:8080/"
        }
      },
      "source": [
        "freqdist = FreqDist(stopped_tokens)\n",
        "most_common = freqdist.most_common(200)\n",
        "most_common"
      ],
      "execution_count": 134,
      "outputs": [
        {
          "output_type": "execute_result",
          "data": {
            "text/plain": [
              "[('dwight', 1),\n",
              " ('howard', 1),\n",
              " ('rips', 1),\n",
              " ('teammates', 1),\n",
              " ('after', 1),\n",
              " ('magic', 1),\n",
              " ('loss', 1),\n",
              " ('to', 1),\n",
              " ('hornets', 1)]"
            ]
          },
          "metadata": {
            "tags": []
          },
          "execution_count": 134
        }
      ]
    },
    {
      "cell_type": "code",
      "metadata": {
        "id": "2TkfT5fXkiJK",
        "outputId": "6293b457-7e99-4db4-a8c8-ff3cda18a32b",
        "colab": {
          "base_uri": "https://localhost:8080/",
          "height": 575
        }
      },
      "source": [
        "news.head()"
      ],
      "execution_count": 102,
      "outputs": [
        {
          "output_type": "execute_result",
          "data": {
            "text/html": [
              "<div>\n",
              "<style scoped>\n",
              "    .dataframe tbody tr th:only-of-type {\n",
              "        vertical-align: middle;\n",
              "    }\n",
              "\n",
              "    .dataframe tbody tr th {\n",
              "        vertical-align: top;\n",
              "    }\n",
              "\n",
              "    .dataframe thead th {\n",
              "        text-align: right;\n",
              "    }\n",
              "</style>\n",
              "<table border=\"1\" class=\"dataframe\">\n",
              "  <thead>\n",
              "    <tr style=\"text-align: right;\">\n",
              "      <th></th>\n",
              "      <th>category</th>\n",
              "      <th>headline</th>\n",
              "      <th>authors</th>\n",
              "      <th>link</th>\n",
              "      <th>short_description</th>\n",
              "      <th>year</th>\n",
              "    </tr>\n",
              "    <tr>\n",
              "      <th>date</th>\n",
              "      <th></th>\n",
              "      <th></th>\n",
              "      <th></th>\n",
              "      <th></th>\n",
              "      <th></th>\n",
              "      <th></th>\n",
              "    </tr>\n",
              "  </thead>\n",
              "  <tbody>\n",
              "    <tr>\n",
              "      <th>2018-05-26</th>\n",
              "      <td>CRIME</td>\n",
              "      <td>There Were 2 Mass Shootings In Texas Last Week...</td>\n",
              "      <td>Melissa Jeltsen</td>\n",
              "      <td>https://www.huffingtonpost.com/entry/texas-ama...</td>\n",
              "      <td>She left her husband. He killed their children...</td>\n",
              "      <td>2018</td>\n",
              "    </tr>\n",
              "    <tr>\n",
              "      <th>2018-05-26</th>\n",
              "      <td>ENTERTAINMENT</td>\n",
              "      <td>Will Smith Joins Diplo And Nicky Jam For The 2...</td>\n",
              "      <td>Andy McDonald</td>\n",
              "      <td>https://www.huffingtonpost.com/entry/will-smit...</td>\n",
              "      <td>Of course it has a song.</td>\n",
              "      <td>2018</td>\n",
              "    </tr>\n",
              "    <tr>\n",
              "      <th>2018-05-26</th>\n",
              "      <td>ENTERTAINMENT</td>\n",
              "      <td>Hugh Grant Marries For The First Time At Age 57</td>\n",
              "      <td>Ron Dicker</td>\n",
              "      <td>https://www.huffingtonpost.com/entry/hugh-gran...</td>\n",
              "      <td>The actor and his longtime girlfriend Anna Ebe...</td>\n",
              "      <td>2018</td>\n",
              "    </tr>\n",
              "    <tr>\n",
              "      <th>2018-05-26</th>\n",
              "      <td>ENTERTAINMENT</td>\n",
              "      <td>Jim Carrey Blasts 'Castrato' Adam Schiff And D...</td>\n",
              "      <td>Ron Dicker</td>\n",
              "      <td>https://www.huffingtonpost.com/entry/jim-carre...</td>\n",
              "      <td>The actor gives Dems an ass-kicking for not fi...</td>\n",
              "      <td>2018</td>\n",
              "    </tr>\n",
              "    <tr>\n",
              "      <th>2018-05-26</th>\n",
              "      <td>ENTERTAINMENT</td>\n",
              "      <td>Julianna Margulies Uses Donald Trump Poop Bags...</td>\n",
              "      <td>Ron Dicker</td>\n",
              "      <td>https://www.huffingtonpost.com/entry/julianna-...</td>\n",
              "      <td>The \"Dietland\" actress said using the bags is ...</td>\n",
              "      <td>2018</td>\n",
              "    </tr>\n",
              "  </tbody>\n",
              "</table>\n",
              "</div>"
            ],
            "text/plain": [
              "                 category  ...  year\n",
              "date                       ...      \n",
              "2018-05-26          CRIME  ...  2018\n",
              "2018-05-26  ENTERTAINMENT  ...  2018\n",
              "2018-05-26  ENTERTAINMENT  ...  2018\n",
              "2018-05-26  ENTERTAINMENT  ...  2018\n",
              "2018-05-26  ENTERTAINMENT  ...  2018\n",
              "\n",
              "[5 rows x 6 columns]"
            ]
          },
          "metadata": {
            "tags": []
          },
          "execution_count": 102
        }
      ]
    },
    {
      "cell_type": "markdown",
      "metadata": {
        "id": "86xW_lb8SQYu"
      },
      "source": [
        "#Explore"
      ]
    },
    {
      "cell_type": "markdown",
      "metadata": {
        "id": "KVOIpEwbZD5n"
      },
      "source": [
        "### Stocks Exploration"
      ]
    },
    {
      "cell_type": "markdown",
      "metadata": {
        "id": "wiyBgKhSbRdM"
      },
      "source": [
        "In order to make sure we are looking at the same time frame for both stocks and news articles, I will slice and save the correct dates for stocks to correspond to the news articles: 2012-01-28 to 2018-05-26.\n"
      ]
    },
    {
      "cell_type": "code",
      "metadata": {
        "id": "WvXDJwoebQvz",
        "outputId": "05eeadf4-2bed-4f52-a904-6d256530851e",
        "colab": {
          "base_uri": "https://localhost:8080/",
          "height": 235
        }
      },
      "source": [
        "stocks_news = stocks['2012-01-28': '2018-05-26']\n",
        "stocks_news.head()"
      ],
      "execution_count": 47,
      "outputs": [
        {
          "output_type": "execute_result",
          "data": {
            "text/html": [
              "<div>\n",
              "<style scoped>\n",
              "    .dataframe tbody tr th:only-of-type {\n",
              "        vertical-align: middle;\n",
              "    }\n",
              "\n",
              "    .dataframe tbody tr th {\n",
              "        vertical-align: top;\n",
              "    }\n",
              "\n",
              "    .dataframe thead th {\n",
              "        text-align: right;\n",
              "    }\n",
              "</style>\n",
              "<table border=\"1\" class=\"dataframe\">\n",
              "  <thead>\n",
              "    <tr style=\"text-align: right;\">\n",
              "      <th></th>\n",
              "      <th>Time</th>\n",
              "      <th>Price</th>\n",
              "      <th>Bid</th>\n",
              "      <th>Ask</th>\n",
              "      <th>Size</th>\n",
              "    </tr>\n",
              "    <tr>\n",
              "      <th>Date</th>\n",
              "      <th></th>\n",
              "      <th></th>\n",
              "      <th></th>\n",
              "      <th></th>\n",
              "      <th></th>\n",
              "    </tr>\n",
              "  </thead>\n",
              "  <tbody>\n",
              "    <tr>\n",
              "      <th>2012-01-30</th>\n",
              "      <td>09:08:30</td>\n",
              "      <td>61.00</td>\n",
              "      <td>60.16</td>\n",
              "      <td>60.61</td>\n",
              "      <td>2119</td>\n",
              "    </tr>\n",
              "    <tr>\n",
              "      <th>2012-01-30</th>\n",
              "      <td>09:30:00</td>\n",
              "      <td>60.37</td>\n",
              "      <td>60.37</td>\n",
              "      <td>60.45</td>\n",
              "      <td>159</td>\n",
              "    </tr>\n",
              "    <tr>\n",
              "      <th>2012-01-30</th>\n",
              "      <td>09:30:00</td>\n",
              "      <td>60.38</td>\n",
              "      <td>60.38</td>\n",
              "      <td>60.43</td>\n",
              "      <td>100</td>\n",
              "    </tr>\n",
              "    <tr>\n",
              "      <th>2012-01-30</th>\n",
              "      <td>09:30:06</td>\n",
              "      <td>60.36</td>\n",
              "      <td>60.31</td>\n",
              "      <td>60.42</td>\n",
              "      <td>400</td>\n",
              "    </tr>\n",
              "    <tr>\n",
              "      <th>2012-01-30</th>\n",
              "      <td>09:30:17</td>\n",
              "      <td>60.30</td>\n",
              "      <td>60.29</td>\n",
              "      <td>60.39</td>\n",
              "      <td>150</td>\n",
              "    </tr>\n",
              "  </tbody>\n",
              "</table>\n",
              "</div>"
            ],
            "text/plain": [
              "                Time  Price    Bid    Ask  Size\n",
              "Date                                           \n",
              "2012-01-30  09:08:30  61.00  60.16  60.61  2119\n",
              "2012-01-30  09:30:00  60.37  60.37  60.45   159\n",
              "2012-01-30  09:30:00  60.38  60.38  60.43   100\n",
              "2012-01-30  09:30:06  60.36  60.31  60.42   400\n",
              "2012-01-30  09:30:17  60.30  60.29  60.39   150"
            ]
          },
          "metadata": {
            "tags": []
          },
          "execution_count": 47
        }
      ]
    },
    {
      "cell_type": "markdown",
      "metadata": {
        "id": "Z1CntEWhco0c"
      },
      "source": [
        "I want to look at weekly mean of stocks for comparison during my Exploration."
      ]
    },
    {
      "cell_type": "code",
      "metadata": {
        "id": "8PG1y4s_YOO4",
        "outputId": "00bed6c3-1af2-4afc-db87-3b197f288f8b",
        "colab": {
          "base_uri": "https://localhost:8080/"
        }
      },
      "source": [
        "#downsampling to weekly price if needed\n",
        "price_weekly = stocks_news['Price'].resample('W')\n",
        "weekly_mean = price_weekly.mean()\n",
        "weekly_mean.head()"
      ],
      "execution_count": 48,
      "outputs": [
        {
          "output_type": "execute_result",
          "data": {
            "text/plain": [
              "Date\n",
              "2012-02-05    61.231669\n",
              "2012-02-12    62.488521\n",
              "2012-02-19    62.603400\n",
              "2012-02-26    63.227857\n",
              "2012-03-04    63.464155\n",
              "Freq: W-SUN, Name: Price, dtype: float64"
            ]
          },
          "metadata": {
            "tags": []
          },
          "execution_count": 48
        }
      ]
    },
    {
      "cell_type": "code",
      "metadata": {
        "id": "2S_4yT33zejn",
        "outputId": "f4772b28-9114-4783-a7f2-9f6c331ba2e7",
        "colab": {
          "base_uri": "https://localhost:8080/"
        }
      },
      "source": [
        "weekly_mean.isna().sum()"
      ],
      "execution_count": 49,
      "outputs": [
        {
          "output_type": "execute_result",
          "data": {
            "text/plain": [
              "0"
            ]
          },
          "metadata": {
            "tags": []
          },
          "execution_count": 49
        }
      ]
    },
    {
      "cell_type": "markdown",
      "metadata": {
        "id": "0bRHxqWohk_A"
      },
      "source": [
        "###### Line Plot"
      ]
    },
    {
      "cell_type": "code",
      "metadata": {
        "id": "8vRptZfdZGKM",
        "outputId": "27d6c975-a164-4ef9-e5b6-d78d5f71524c",
        "colab": {
          "base_uri": "https://localhost:8080/",
          "height": 507
        }
      },
      "source": [
        "#line plot of stocks price over the years\n",
        "fig, (ax, ax1) = plt.subplots(2, figsize = (15, 8))\n",
        "ax.plot(stocks_news['Price'])\n",
        "ax.set_title('Stock Price Through The Years')\n",
        "ax.set_ylabel('Price')\n",
        "ax.set_xlabel('Year')\n",
        "\n",
        "#weekly lineplot \n",
        "ax1.plot(weekly_mean)\n",
        "ax1.set_title('Weekly Mean of Stock Price Through The Years')\n",
        "ax1.set_ylabel('Price')\n",
        "ax1.set_xlabel('Year')\n",
        "\n",
        "#label outer to see 2nd title\n",
        "ax.label_outer()"
      ],
      "execution_count": 50,
      "outputs": [
        {
          "output_type": "display_data",
          "data": {
            "image/png": "[encoded data removed]",
            "text/plain": [
              "<Figure size 1080x576 with 2 Axes>"
            ]
          },
          "metadata": {
            "tags": [],
            "needs_background": "light"
          }
        }
      ]
    },
    {
      "cell_type": "markdown",
      "metadata": {
        "id": "73mIr_Rx0q3d"
      },
      "source": [
        "---"
      ]
    },
    {
      "cell_type": "markdown",
      "metadata": {
        "id": "er_xD-bkYkjw"
      },
      "source": [
        "###### Dot Plot"
      ]
    },
    {
      "cell_type": "code",
      "metadata": {
        "id": "-6oVhdqC2LUM",
        "outputId": "d020373c-5675-426d-926e-10e60337c65d",
        "colab": {
          "base_uri": "https://localhost:8080/",
          "height": 507
        }
      },
      "source": [
        "#dot plot of stocks price over the years\n",
        "fig, (ax, ax1) = plt.subplots(2, figsize = (15, 8))\n",
        "ax.plot(stocks_news['Price'], '.')\n",
        "ax.set_title('Stock Price Through The Years')\n",
        "ax.set_ylabel('Price')\n",
        "ax.set_xlabel('Year')\n",
        "\n",
        "#weekly dot plot \n",
        "ax1.plot(weekly_mean, '.')\n",
        "ax1.set_title('Weekly Mean of Stock Price Through The Years')\n",
        "ax1.set_ylabel('Price')\n",
        "ax1.set_xlabel('Year')\n",
        "\n",
        "#label outer to see 2nd title\n",
        "ax.label_outer()"
      ],
      "execution_count": 51,
      "outputs": [
        {
          "output_type": "display_data",
          "data": {
            "image/png": "[encoded data removed]",
            "text/plain": [
              "<Figure size 1080x576 with 2 Axes>"
            ]
          },
          "metadata": {
            "tags": [],
            "needs_background": "light"
          }
        }
      ]
    },
    {
      "cell_type": "markdown",
      "metadata": {
        "id": "poeuvpivYmkR"
      },
      "source": [
        "---"
      ]
    },
    {
      "cell_type": "markdown",
      "metadata": {
        "id": "1z4x5XID4ZrT"
      },
      "source": [
        "###### Rolling Statistics"
      ]
    },
    {
      "cell_type": "code",
      "metadata": {
        "id": "uQyvzMPK4ZHz"
      },
      "source": [
        "roll_mean = stocks_news['Price'].rolling(window = 8, center = False).mean()\n",
        "roll_std = stocks_news['Price'].rolling(window = 8, center = False).std()"
      ],
      "execution_count": 52,
      "outputs": []
    },
    {
      "cell_type": "code",
      "metadata": {
        "id": "KiLB48MQ4rt6",
        "outputId": "c4049906-46e9-4f92-a318-f22647ccd3bb",
        "colab": {
          "base_uri": "https://localhost:8080/",
          "height": 499
        }
      },
      "source": [
        "fig = plt.figure(figsize = (15, 8))\n",
        "plt.plot(stocks_news['Price'], color = 'blue', label = 'Original')\n",
        "plt.plot(roll_mean, color = 'green', label = 'Rolling Mean')\n",
        "plt.plot(roll_std, color = 'black', label = 'Rolling Std')\n",
        "plt.legend()\n",
        "plt.title('Rolling Mean & Standard Deviation')\n",
        "plt.show()"
      ],
      "execution_count": 53,
      "outputs": [
        {
          "output_type": "display_data",
          "data": {
            "image/png": "[encoded data removed]",
            "text/plain": [
              "<Figure size 1080x576 with 1 Axes>"
            ]
          },
          "metadata": {
            "tags": [],
            "needs_background": "light"
          }
        }
      ]
    },
    {
      "cell_type": "markdown",
      "metadata": {
        "id": "ryDESIE0YoxY"
      },
      "source": [
        "---"
      ]
    },
    {
      "cell_type": "markdown",
      "metadata": {
        "id": "qlv7_4wz9Kyf"
      },
      "source": [
        "###### The Dickey-Fuller Test"
      ]
    },
    {
      "cell_type": "code",
      "metadata": {
        "id": "Ch9VZoNu9KYS",
        "outputId": "77eac2ec-caf6-41c7-bb73-c228672fdf6c",
        "colab": {
          "base_uri": "https://localhost:8080/"
        }
      },
      "source": [
        "dftest = adfuller(weekly_mean)\n",
        "\n",
        "dfoutput = pd.Series(dftest[0:4], index = ['Test Statistic', 'p-value', '#Lags Used',\n",
        "                                           'Number of Observations Used'])\n",
        "for key, value in dftest[4].items():\n",
        "  dfoutput['Critical Values (%s)' %key] = value\n",
        "print(dftest)"
      ],
      "execution_count": 54,
      "outputs": [
        {
          "output_type": "stream",
          "text": [
            "(-1.013652453608182, 0.7482523707955607, 2, 327, {'1%': -3.45050711373316, '5%': -2.8704195794076743, '10%': -2.571500856923753}, 998.5184293821985)\n"
          ],
          "name": "stdout"
        }
      ]
    },
    {
      "cell_type": "code",
      "metadata": {
        "id": "qifW0Lj_90uM",
        "outputId": "a171d7ed-fd87-48b0-ea1d-a12ec3e63bf4",
        "colab": {
          "base_uri": "https://localhost:8080/"
        }
      },
      "source": [
        "print('Results of Dicky-Fuller test: \\n')\n",
        "\n",
        "print(dfoutput)"
      ],
      "execution_count": 55,
      "outputs": [
        {
          "output_type": "stream",
          "text": [
            "Results of Dicky-Fuller test: \n",
            "\n",
            "Test Statistic                  -1.013652\n",
            "p-value                          0.748252\n",
            "#Lags Used                       2.000000\n",
            "Number of Observations Used    327.000000\n",
            "Critical Values (1%)            -3.450507\n",
            "Critical Values (5%)            -2.870420\n",
            "Critical Values (10%)           -2.571501\n",
            "dtype: float64\n"
          ],
          "name": "stdout"
        }
      ]
    },
    {
      "cell_type": "markdown",
      "metadata": {
        "id": "qufL13LW3pkT"
      },
      "source": [
        "**Summary:**\n",
        "- Not a stationary series\n",
        "- Linear upward trend\n",
        "- Big drop near the end of 2015.\n"
      ]
    },
    {
      "cell_type": "markdown",
      "metadata": {
        "id": "TrTsA9ugYq9X"
      },
      "source": [
        "---"
      ]
    },
    {
      "cell_type": "markdown",
      "metadata": {
        "id": "KFKvwJ_whpHN"
      },
      "source": [
        "###### Grouping and Visualizing Time Series"
      ]
    },
    {
      "cell_type": "code",
      "metadata": {
        "id": "FaFVqVjLNwy8",
        "outputId": "b404e49d-4ce5-45ad-cbab-5ddcda2a4785",
        "colab": {
          "base_uri": "https://localhost:8080/",
          "height": 235
        }
      },
      "source": [
        "stocks_news.head()"
      ],
      "execution_count": 56,
      "outputs": [
        {
          "output_type": "execute_result",
          "data": {
            "text/html": [
              "<div>\n",
              "<style scoped>\n",
              "    .dataframe tbody tr th:only-of-type {\n",
              "        vertical-align: middle;\n",
              "    }\n",
              "\n",
              "    .dataframe tbody tr th {\n",
              "        vertical-align: top;\n",
              "    }\n",
              "\n",
              "    .dataframe thead th {\n",
              "        text-align: right;\n",
              "    }\n",
              "</style>\n",
              "<table border=\"1\" class=\"dataframe\">\n",
              "  <thead>\n",
              "    <tr style=\"text-align: right;\">\n",
              "      <th></th>\n",
              "      <th>Time</th>\n",
              "      <th>Price</th>\n",
              "      <th>Bid</th>\n",
              "      <th>Ask</th>\n",
              "      <th>Size</th>\n",
              "    </tr>\n",
              "    <tr>\n",
              "      <th>Date</th>\n",
              "      <th></th>\n",
              "      <th></th>\n",
              "      <th></th>\n",
              "      <th></th>\n",
              "      <th></th>\n",
              "    </tr>\n",
              "  </thead>\n",
              "  <tbody>\n",
              "    <tr>\n",
              "      <th>2012-01-30</th>\n",
              "      <td>09:08:30</td>\n",
              "      <td>61.00</td>\n",
              "      <td>60.16</td>\n",
              "      <td>60.61</td>\n",
              "      <td>2119</td>\n",
              "    </tr>\n",
              "    <tr>\n",
              "      <th>2012-01-30</th>\n",
              "      <td>09:30:00</td>\n",
              "      <td>60.37</td>\n",
              "      <td>60.37</td>\n",
              "      <td>60.45</td>\n",
              "      <td>159</td>\n",
              "    </tr>\n",
              "    <tr>\n",
              "      <th>2012-01-30</th>\n",
              "      <td>09:30:00</td>\n",
              "      <td>60.38</td>\n",
              "      <td>60.38</td>\n",
              "      <td>60.43</td>\n",
              "      <td>100</td>\n",
              "    </tr>\n",
              "    <tr>\n",
              "      <th>2012-01-30</th>\n",
              "      <td>09:30:06</td>\n",
              "      <td>60.36</td>\n",
              "      <td>60.31</td>\n",
              "      <td>60.42</td>\n",
              "      <td>400</td>\n",
              "    </tr>\n",
              "    <tr>\n",
              "      <th>2012-01-30</th>\n",
              "      <td>09:30:17</td>\n",
              "      <td>60.30</td>\n",
              "      <td>60.29</td>\n",
              "      <td>60.39</td>\n",
              "      <td>150</td>\n",
              "    </tr>\n",
              "  </tbody>\n",
              "</table>\n",
              "</div>"
            ],
            "text/plain": [
              "                Time  Price    Bid    Ask  Size\n",
              "Date                                           \n",
              "2012-01-30  09:08:30  61.00  60.16  60.61  2119\n",
              "2012-01-30  09:30:00  60.37  60.37  60.45   159\n",
              "2012-01-30  09:30:00  60.38  60.38  60.43   100\n",
              "2012-01-30  09:30:06  60.36  60.31  60.42   400\n",
              "2012-01-30  09:30:17  60.30  60.29  60.39   150"
            ]
          },
          "metadata": {
            "tags": []
          },
          "execution_count": 56
        }
      ]
    },
    {
      "cell_type": "code",
      "metadata": {
        "id": "4ZI7kDU0edNq",
        "outputId": "e873ade0-4128-47de-e369-245da8741b05",
        "colab": {
          "base_uri": "https://localhost:8080/"
        }
      },
      "source": [
        "stocks_news.index"
      ],
      "execution_count": 57,
      "outputs": [
        {
          "output_type": "execute_result",
          "data": {
            "text/plain": [
              "DatetimeIndex(['2012-01-30', '2012-01-30', '2012-01-30', '2012-01-30',\n",
              "               '2012-01-30', '2012-01-30', '2012-01-30', '2012-01-30',\n",
              "               '2012-01-30', '2012-01-30',\n",
              "               ...\n",
              "               '2018-05-25', '2018-05-25', '2018-05-25', '2018-05-25',\n",
              "               '2018-05-25', '2018-05-25', '2018-05-25', '2018-05-25',\n",
              "               '2018-05-25', '2018-05-25'],\n",
              "              dtype='datetime64[ns]', name='Date', length=4563891, freq=None)"
            ]
          },
          "metadata": {
            "tags": []
          },
          "execution_count": 57
        }
      ]
    },
    {
      "cell_type": "markdown",
      "metadata": {
        "id": "GPC-0DvofALw"
      },
      "source": [
        "James suggestion in class: kinda confused, may need to wait for one on one."
      ]
    },
    {
      "cell_type": "code",
      "metadata": {
        "id": "cnEr5mHseqtw"
      },
      "source": [
        "#group values annually\n",
        "year_groups = stocks_news.groupby(pd.Grouper(freq = 'A'))"
      ],
      "execution_count": 58,
      "outputs": []
    },
    {
      "cell_type": "code",
      "metadata": {
        "id": "I_tHRZNdNzZ9"
      },
      "source": [
        "# #add year column for ease of use\n",
        "# stocks_news['year'] = stocks_news.index.to_series().apply(lambda x: x.year)\n",
        "\n",
        "# #check column\n",
        "# stocks_news.head()"
      ],
      "execution_count": 59,
      "outputs": []
    },
    {
      "cell_type": "code",
      "metadata": {
        "id": "iSsrwgHGezwF"
      },
      "source": [
        "# #create new dataframe to store yearly values\n",
        "# stocks_annual = pd.DataFrame()\n",
        "\n",
        "# for yr, group in year_groups:\n",
        "#   stocks_annual[yr.year] = group.values.ravel()\n",
        "\n",
        "# #plot yearly subplots\n",
        "# stocks_annual.plot(figsize=(15, 8), subplots = True, legend = True);\n",
        "# plt.show()"
      ],
      "execution_count": 60,
      "outputs": []
    },
    {
      "cell_type": "code",
      "metadata": {
        "id": "ETDfDQxLNbqB"
      },
      "source": [
        "# year_groups.keys()"
      ],
      "execution_count": 61,
      "outputs": []
    },
    {
      "cell_type": "code",
      "metadata": {
        "id": "8ZcMsS2JhMRx"
      },
      "source": [
        "#plot all years on same graph\n",
        "# stocks_annual.plot(figsize - (15,8), subplots = False, legend = True)\n",
        "# plt.show()"
      ],
      "execution_count": 62,
      "outputs": []
    },
    {
      "cell_type": "markdown",
      "metadata": {
        "id": "H1Ue9wp0huy-"
      },
      "source": [
        "###### Histograms"
      ]
    },
    {
      "cell_type": "code",
      "metadata": {
        "id": "jRa9dxuuh0Xh",
        "outputId": "a485f3d6-5424-4c2d-a1aa-276a62effd78",
        "colab": {
          "base_uri": "https://localhost:8080/",
          "height": 336
        }
      },
      "source": [
        "#build histogram to check distribution\n",
        "fig, ax = plt.subplots(figsize = (12, 5))\n",
        "ax.hist(stocks_news['Price'])\n",
        "ax.set_title('Stock Price')\n",
        "plt.show()"
      ],
      "execution_count": 63,
      "outputs": [
        {
          "output_type": "display_data",
          "data": {
            "image/png": "[encoded data removed]",
            "text/plain": [
              "<Figure size 864x360 with 1 Axes>"
            ]
          },
          "metadata": {
            "tags": [],
            "needs_background": "light"
          }
        }
      ]
    },
    {
      "cell_type": "markdown",
      "metadata": {
        "id": "38Its6qrZCta"
      },
      "source": [
        "###### Density Plot"
      ]
    },
    {
      "cell_type": "code",
      "metadata": {
        "id": "3tXwqxMMiKPB",
        "outputId": "07cbe275-1f21-4f9b-d5a1-694459f40740",
        "colab": {
          "base_uri": "https://localhost:8080/",
          "height": 337
        }
      },
      "source": [
        "#build density plot to check distribution\n",
        "stocks_news['Price'].plot(kind = 'kde', figsize = (12, 5));\n",
        "ax.set_title('Density Plot of Stock Price')"
      ],
      "execution_count": 64,
      "outputs": [
        {
          "output_type": "execute_result",
          "data": {
            "text/plain": [
              "Text(0.5, 1.0, 'Density Plot of Stock Price')"
            ]
          },
          "metadata": {
            "tags": []
          },
          "execution_count": 64
        },
        {
          "output_type": "display_data",
          "data": {
            "image/png": "[encoded data removed]",
            "text/plain": [
              "<Figure size 864x360 with 1 Axes>"
            ]
          },
          "metadata": {
            "tags": [],
            "needs_background": "light"
          }
        }
      ]
    },
    {
      "cell_type": "markdown",
      "metadata": {
        "id": "gWOrAcovirc2"
      },
      "source": [
        "###### Time Series Box and Whisker Plots by Year"
      ]
    },
    {
      "cell_type": "code",
      "metadata": {
        "id": "KLScEJrcivGO"
      },
      "source": [
        "#build box and whiskers plot by year\n",
        "#stocks_annual.boxplot(figsize = (12, 5));"
      ],
      "execution_count": 65,
      "outputs": []
    },
    {
      "cell_type": "markdown",
      "metadata": {
        "id": "dtLHdBcji_y4"
      },
      "source": [
        "###### Time Series Heat Map"
      ]
    },
    {
      "cell_type": "code",
      "metadata": {
        "id": "0H1r8jmnjB3L"
      },
      "source": [
        "#year_matrix = stocks_annual.T\n",
        "#plt.matshow(year_matrix, interpolation = None, aspect = 'auto');"
      ],
      "execution_count": 66,
      "outputs": []
    },
    {
      "cell_type": "markdown",
      "metadata": {
        "id": "QuOXNlooAa5t"
      },
      "source": [
        "#### Eliminating the trend"
      ]
    },
    {
      "cell_type": "markdown",
      "metadata": {
        "id": "2AGweExQ0YBR"
      },
      "source": [
        "##### Square Root Transform"
      ]
    },
    {
      "cell_type": "code",
      "metadata": {
        "id": "I3oKEOx0AeNF",
        "outputId": "b4f89bec-bd76-4aee-e0af-dd61a0707695",
        "colab": {
          "base_uri": "https://localhost:8080/",
          "height": 489
        }
      },
      "source": [
        "data = pd.Series(np.sqrt(stocks_news['Price']))\n",
        "fig = plt.figure(figsize = (15, 8))\n",
        "plt.plot(data, color = 'blue')\n",
        "plt.xlabel('Year')\n",
        "plt.ylabel('sqrt(yearly sales')\n",
        "plt.show()"
      ],
      "execution_count": 67,
      "outputs": [
        {
          "output_type": "display_data",
          "data": {
            "image/png": "[encoded data removed]",
            "text/plain": [
              "<Figure size 1080x576 with 1 Axes>"
            ]
          },
          "metadata": {
            "tags": [],
            "needs_background": "light"
          }
        }
      ]
    },
    {
      "cell_type": "markdown",
      "metadata": {
        "id": "HrXa0vmXzWmk"
      },
      "source": [
        "##### Log Transformation"
      ]
    },
    {
      "cell_type": "code",
      "metadata": {
        "id": "JoCF47rzAeVn",
        "outputId": "cd1de36a-c9a2-4293-d3b9-b02e4bdf6b1f",
        "colab": {
          "base_uri": "https://localhost:8080/",
          "height": 493
        }
      },
      "source": [
        "data = pd.Series(np.log(stocks_news['Price']))\n",
        "fig = plt.figure(figsize = (15, 8))\n",
        "plt.plot(data, color = 'blue')\n",
        "plt.xlabel('Year')\n",
        "plt.ylabel('log(yearly sales')\n",
        "plt.show()"
      ],
      "execution_count": 68,
      "outputs": [
        {
          "output_type": "display_data",
          "data": {
            "image/png": "[encoded data removed]",
            "text/plain": [
              "<Figure size 1080x576 with 1 Axes>"
            ]
          },
          "metadata": {
            "tags": [],
            "needs_background": "light"
          }
        }
      ]
    },
    {
      "cell_type": "markdown",
      "metadata": {
        "id": "LtIunri20g-W"
      },
      "source": [
        "##### Differencing\n"
      ]
    },
    {
      "cell_type": "code",
      "metadata": {
        "id": "UxLcq63E1lZ0",
        "outputId": "da12fd15-0a66-4d47-8ace-2c4f0d644a5e",
        "colab": {
          "base_uri": "https://localhost:8080/"
        }
      },
      "source": [
        "data_diff = data.diff(periods = 1)\n",
        "data_diff.head()"
      ],
      "execution_count": 69,
      "outputs": [
        {
          "output_type": "execute_result",
          "data": {
            "text/plain": [
              "Date\n",
              "2012-01-30         NaN\n",
              "2012-01-30   -0.010382\n",
              "2012-01-30    0.000166\n",
              "2012-01-30   -0.000331\n",
              "2012-01-30   -0.000995\n",
              "Name: Price, dtype: float64"
            ]
          },
          "metadata": {
            "tags": []
          },
          "execution_count": 69
        }
      ]
    },
    {
      "cell_type": "code",
      "metadata": {
        "id": "HleHEikx1uVN",
        "outputId": "22fee4a0-64e1-4eb4-e32f-f215b95a8e4c",
        "colab": {
          "base_uri": "https://localhost:8080/",
          "height": 444
        }
      },
      "source": [
        "fig = plt.figure(figsize=(11,7))\n",
        "plt.plot(data_diff, color='blue',label='Stock Price - rolling mean')\n",
        "plt.legend(loc='best')\n",
        "plt.title('Differenced Stock Price series')\n",
        "plt.show(block=False)"
      ],
      "execution_count": 70,
      "outputs": [
        {
          "output_type": "display_data",
          "data": {
            "image/png": "[encoded data removed]",
            "text/plain": [
              "<Figure size 792x504 with 1 Axes>"
            ]
          },
          "metadata": {
            "tags": [],
            "needs_background": "light"
          }
        }
      ]
    },
    {
      "cell_type": "code",
      "metadata": {
        "id": "HIGUnaTqWGB_",
        "outputId": "dd8bb72d-77aa-4ba6-e5e4-87268e637344",
        "colab": {
          "base_uri": "https://localhost:8080/"
        }
      },
      "source": [
        "data_diff = data.diff().dropna()\n",
        "data_diff.head()"
      ],
      "execution_count": 71,
      "outputs": [
        {
          "output_type": "execute_result",
          "data": {
            "text/plain": [
              "Date\n",
              "2012-01-30   -0.010382\n",
              "2012-01-30    0.000166\n",
              "2012-01-30   -0.000331\n",
              "2012-01-30   -0.000995\n",
              "2012-01-30   -0.000498\n",
              "Name: Price, dtype: float64"
            ]
          },
          "metadata": {
            "tags": []
          },
          "execution_count": 71
        }
      ]
    },
    {
      "cell_type": "code",
      "metadata": {
        "id": "lBAbhqNzWR6M"
      },
      "source": [
        "# data_diff = data_diff.groupby(pd.Grouper(freq = 'A'))\n",
        "# data_diff.head()"
      ],
      "execution_count": 72,
      "outputs": []
    },
    {
      "cell_type": "markdown",
      "metadata": {
        "id": "WPCp3r9dq20n"
      },
      "source": [
        "### News Exploration"
      ]
    },
    {
      "cell_type": "code",
      "metadata": {
        "id": "6gQRLAJ3q8Cu",
        "outputId": "0f85e42e-7a87-4142-f425-e59078cc4c04",
        "colab": {
          "base_uri": "https://localhost:8080/",
          "height": 402
        }
      },
      "source": [
        "fig = plt.figure(figsize = (15, 8))\n",
        "sns.displot(news.category)\n",
        "plt.title('Headline Count of Each Genre');"
      ],
      "execution_count": 73,
      "outputs": [
        {
          "output_type": "display_data",
          "data": {
            "text/plain": [
              "<Figure size 1080x576 with 0 Axes>"
            ]
          },
          "metadata": {
            "tags": []
          }
        },
        {
          "output_type": "display_data",
          "data": {
            "image/png": "[encoded data removed]",
            "text/plain": [
              "<Figure size 360x360 with 1 Axes>"
            ]
          },
          "metadata": {
            "tags": [],
            "needs_background": "light"
          }
        }
      ]
    },
    {
      "cell_type": "code",
      "metadata": {
        "id": "b8dtkWF4rpdf"
      },
      "source": [
        "news['year'] = news.index.to_series().apply(lambda x: x.year)"
      ],
      "execution_count": 74,
      "outputs": []
    },
    {
      "cell_type": "code",
      "metadata": {
        "id": "SC8sBi14r2EJ",
        "outputId": "53716822-5af3-422a-cdd7-029471990958",
        "colab": {
          "base_uri": "https://localhost:8080/",
          "height": 575
        }
      },
      "source": [
        "news.head()"
      ],
      "execution_count": 75,
      "outputs": [
        {
          "output_type": "execute_result",
          "data": {
            "text/html": [
              "<div>\n",
              "<style scoped>\n",
              "    .dataframe tbody tr th:only-of-type {\n",
              "        vertical-align: middle;\n",
              "    }\n",
              "\n",
              "    .dataframe tbody tr th {\n",
              "        vertical-align: top;\n",
              "    }\n",
              "\n",
              "    .dataframe thead th {\n",
              "        text-align: right;\n",
              "    }\n",
              "</style>\n",
              "<table border=\"1\" class=\"dataframe\">\n",
              "  <thead>\n",
              "    <tr style=\"text-align: right;\">\n",
              "      <th></th>\n",
              "      <th>category</th>\n",
              "      <th>headline</th>\n",
              "      <th>authors</th>\n",
              "      <th>link</th>\n",
              "      <th>short_description</th>\n",
              "      <th>year</th>\n",
              "    </tr>\n",
              "    <tr>\n",
              "      <th>date</th>\n",
              "      <th></th>\n",
              "      <th></th>\n",
              "      <th></th>\n",
              "      <th></th>\n",
              "      <th></th>\n",
              "      <th></th>\n",
              "    </tr>\n",
              "  </thead>\n",
              "  <tbody>\n",
              "    <tr>\n",
              "      <th>2018-05-26</th>\n",
              "      <td>CRIME</td>\n",
              "      <td>There Were 2 Mass Shootings In Texas Last Week...</td>\n",
              "      <td>Melissa Jeltsen</td>\n",
              "      <td>https://www.huffingtonpost.com/entry/texas-ama...</td>\n",
              "      <td>She left her husband. He killed their children...</td>\n",
              "      <td>2018</td>\n",
              "    </tr>\n",
              "    <tr>\n",
              "      <th>2018-05-26</th>\n",
              "      <td>ENTERTAINMENT</td>\n",
              "      <td>Will Smith Joins Diplo And Nicky Jam For The 2...</td>\n",
              "      <td>Andy McDonald</td>\n",
              "      <td>https://www.huffingtonpost.com/entry/will-smit...</td>\n",
              "      <td>Of course it has a song.</td>\n",
              "      <td>2018</td>\n",
              "    </tr>\n",
              "    <tr>\n",
              "      <th>2018-05-26</th>\n",
              "      <td>ENTERTAINMENT</td>\n",
              "      <td>Hugh Grant Marries For The First Time At Age 57</td>\n",
              "      <td>Ron Dicker</td>\n",
              "      <td>https://www.huffingtonpost.com/entry/hugh-gran...</td>\n",
              "      <td>The actor and his longtime girlfriend Anna Ebe...</td>\n",
              "      <td>2018</td>\n",
              "    </tr>\n",
              "    <tr>\n",
              "      <th>2018-05-26</th>\n",
              "      <td>ENTERTAINMENT</td>\n",
              "      <td>Jim Carrey Blasts 'Castrato' Adam Schiff And D...</td>\n",
              "      <td>Ron Dicker</td>\n",
              "      <td>https://www.huffingtonpost.com/entry/jim-carre...</td>\n",
              "      <td>The actor gives Dems an ass-kicking for not fi...</td>\n",
              "      <td>2018</td>\n",
              "    </tr>\n",
              "    <tr>\n",
              "      <th>2018-05-26</th>\n",
              "      <td>ENTERTAINMENT</td>\n",
              "      <td>Julianna Margulies Uses Donald Trump Poop Bags...</td>\n",
              "      <td>Ron Dicker</td>\n",
              "      <td>https://www.huffingtonpost.com/entry/julianna-...</td>\n",
              "      <td>The \"Dietland\" actress said using the bags is ...</td>\n",
              "      <td>2018</td>\n",
              "    </tr>\n",
              "  </tbody>\n",
              "</table>\n",
              "</div>"
            ],
            "text/plain": [
              "                 category  ...  year\n",
              "date                       ...      \n",
              "2018-05-26          CRIME  ...  2018\n",
              "2018-05-26  ENTERTAINMENT  ...  2018\n",
              "2018-05-26  ENTERTAINMENT  ...  2018\n",
              "2018-05-26  ENTERTAINMENT  ...  2018\n",
              "2018-05-26  ENTERTAINMENT  ...  2018\n",
              "\n",
              "[5 rows x 6 columns]"
            ]
          },
          "metadata": {
            "tags": []
          },
          "execution_count": 75
        }
      ]
    },
    {
      "cell_type": "code",
      "metadata": {
        "id": "6qVl4w6hr4k0",
        "outputId": "ec9d1478-57c8-4fc7-a23e-dc2ecb122c3d",
        "colab": {
          "base_uri": "https://localhost:8080/",
          "height": 385
        }
      },
      "source": [
        "sns.displot(news.year)\n",
        "plt.title('Headline Count per Year');"
      ],
      "execution_count": 76,
      "outputs": [
        {
          "output_type": "display_data",
          "data": {
            "image/png": "[encoded data removed]",
            "text/plain": [
              "<Figure size 360x360 with 1 Axes>"
            ]
          },
          "metadata": {
            "tags": [],
            "needs_background": "light"
          }
        }
      ]
    },
    {
      "cell_type": "markdown",
      "metadata": {
        "id": "dtOafKs4SQR_"
      },
      "source": [
        "#Model"
      ]
    },
    {
      "cell_type": "markdown",
      "metadata": {
        "id": "Zy0OLuv7BOw1"
      },
      "source": [
        "#### Stocks Basic Time Series Model"
      ]
    },
    {
      "cell_type": "markdown",
      "metadata": {
        "id": "qAws9pSXBT9g"
      },
      "source": [
        "##### Random Walk Model\n",
        "- no specified mean or variance\n",
        "- a strong dependence over time"
      ]
    },
    {
      "cell_type": "code",
      "metadata": {
        "id": "iUx-9rMDEJRW"
      },
      "source": [
        "#series with the specified dates\n",
        "work = pd.date_range('2012-01-28', '2018-05-26', freq = 'D')\n",
        "\n",
        "#white noise error \n",
        "error = np.random.normal(0, 10, len(work))\n",
        "\n",
        "#random walk\n",
        "def random_walk(start, error):\n",
        "  Y_0 = start\n",
        "  cum_error = np.cumsum(error)\n",
        "  Y = cum_error + Y_0\n",
        "  return Y\n",
        "\n",
        "#value of share on first date\n",
        "share_value = random_walk(61, error)\n",
        "\n",
        "shares_series = pd.Series(share_value, index = work)"
      ],
      "execution_count": 77,
      "outputs": []
    },
    {
      "cell_type": "code",
      "metadata": {
        "id": "9SvsMVBFF1FL",
        "outputId": "4430168b-4b32-44fe-a0ea-904342e18d8d",
        "colab": {
          "base_uri": "https://localhost:8080/",
          "height": 507
        }
      },
      "source": [
        "ax = shares_series.plot(figsize = (15, 8))\n",
        "ax.set_xlabel('Date')\n",
        "ax.set_ylabel('Stock Price')\n",
        "ax.set_title('Random Walk')\n",
        "plt.show()"
      ],
      "execution_count": 78,
      "outputs": [
        {
          "output_type": "display_data",
          "data": {
            "image/png": "[encoded data removed]",
            "text/plain": [
              "<Figure size 1080x576 with 1 Axes>"
            ]
          },
          "metadata": {
            "tags": [],
            "needs_background": "light"
          }
        }
      ]
    },
    {
      "cell_type": "markdown",
      "metadata": {
        "id": "xvRkmb1wHOzo"
      },
      "source": [
        "##### Random Walk with a Drift"
      ]
    },
    {
      "cell_type": "code",
      "metadata": {
        "id": "SX0Ld5QTHgXt"
      },
      "source": [
        "#series with the specified dates\n",
        "work = pd.date_range('2012-01-28', '2018-05-26', freq = 'D')\n",
        "\n",
        "#white noise error \n",
        "error = np.random.normal(0, 10, len(work))\n",
        "\n",
        "#random walk\n",
        "def random_walk(start, error):\n",
        "  Y_0 = start\n",
        "  #add drift of 8\n",
        "  cum_error = np.cumsum(error + 8)\n",
        "  Y = cum_error + Y_0\n",
        "  return Y\n",
        "\n",
        "#value of share on first date\n",
        "share_value_drift = random_walk(61, error)\n",
        "\n",
        "shares_series_diff = pd.Series(share_value_drift, index = work)"
      ],
      "execution_count": 79,
      "outputs": []
    },
    {
      "cell_type": "code",
      "metadata": {
        "id": "AI2LJ8AYHlBP",
        "outputId": "693bebb3-0800-4a81-991c-5097efd23d2b",
        "colab": {
          "base_uri": "https://localhost:8080/",
          "height": 500
        }
      },
      "source": [
        "ax = shares_series_diff.plot(figsize = (15, 8))\n",
        "ax.set_xlabel('Date')\n",
        "ax.set_ylabel('Stock Price')\n",
        "ax.set_title('Random Walk with Drift')\n",
        "plt.show()"
      ],
      "execution_count": 80,
      "outputs": [
        {
          "output_type": "display_data",
          "data": {
            "image/png": "[encoded data removed]",
            "text/plain": [
              "<Figure size 1080x576 with 1 Axes>"
            ]
          },
          "metadata": {
            "tags": [],
            "needs_background": "light"
          }
        }
      ]
    },
    {
      "cell_type": "markdown",
      "metadata": {
        "id": "vhjuRkqRN_qd"
      },
      "source": [
        "##### Differencing in a Random Walk Model"
      ]
    },
    {
      "cell_type": "code",
      "metadata": {
        "id": "kqH1P_syOCRS",
        "outputId": "a10f0161-f066-4463-8ef0-0395a4d739cf",
        "colab": {
          "base_uri": "https://localhost:8080/",
          "height": 499
        }
      },
      "source": [
        "#no drift\n",
        "shares_diff = shares_series.diff(periods = 1)\n",
        "\n",
        "fig = plt.figure(figsize = (15, 8))\n",
        "plt.plot(shares_diff)\n",
        "plt.title('Differenced Shares Series')\n",
        "plt.show()"
      ],
      "execution_count": 81,
      "outputs": [
        {
          "output_type": "display_data",
          "data": {
            "image/png": "[encoded data removed]",
            "text/plain": [
              "<Figure size 1080x576 with 1 Axes>"
            ]
          },
          "metadata": {
            "tags": [],
            "needs_background": "light"
          }
        }
      ]
    },
    {
      "cell_type": "code",
      "metadata": {
        "id": "bF-yWTnOO8ke",
        "outputId": "85a8814a-727a-4b45-919b-ef91c86461eb",
        "colab": {
          "base_uri": "https://localhost:8080/",
          "height": 499
        }
      },
      "source": [
        "#drift\n",
        "shares_drift_diff = shares_series_diff.diff(periods = 1)\n",
        "\n",
        "fig = plt.figure(figsize = (15, 8))\n",
        "plt.plot(shares_drift_diff)\n",
        "plt.title('Differenced Shares Series')\n",
        "plt.show()"
      ],
      "execution_count": 82,
      "outputs": [
        {
          "output_type": "display_data",
          "data": {
            "image/png": "[encoded data removed]",
            "text/plain": [
              "<Figure size 1080x576 with 1 Axes>"
            ]
          },
          "metadata": {
            "tags": [],
            "needs_background": "light"
          }
        }
      ]
    },
    {
      "cell_type": "markdown",
      "metadata": {
        "id": "f7tkmgC9B9uG"
      },
      "source": [
        "###### ARMA Model "
      ]
    },
    {
      "cell_type": "code",
      "metadata": {
        "id": "NaVNe98jXZna",
        "outputId": "2afccd46-81eb-41f8-9232-567a91b919c1",
        "colab": {
          "base_uri": "https://localhost:8080/",
          "height": 235
        }
      },
      "source": [
        "stocks_news.head()"
      ],
      "execution_count": 83,
      "outputs": [
        {
          "output_type": "execute_result",
          "data": {
            "text/html": [
              "<div>\n",
              "<style scoped>\n",
              "    .dataframe tbody tr th:only-of-type {\n",
              "        vertical-align: middle;\n",
              "    }\n",
              "\n",
              "    .dataframe tbody tr th {\n",
              "        vertical-align: top;\n",
              "    }\n",
              "\n",
              "    .dataframe thead th {\n",
              "        text-align: right;\n",
              "    }\n",
              "</style>\n",
              "<table border=\"1\" class=\"dataframe\">\n",
              "  <thead>\n",
              "    <tr style=\"text-align: right;\">\n",
              "      <th></th>\n",
              "      <th>Time</th>\n",
              "      <th>Price</th>\n",
              "      <th>Bid</th>\n",
              "      <th>Ask</th>\n",
              "      <th>Size</th>\n",
              "    </tr>\n",
              "    <tr>\n",
              "      <th>Date</th>\n",
              "      <th></th>\n",
              "      <th></th>\n",
              "      <th></th>\n",
              "      <th></th>\n",
              "      <th></th>\n",
              "    </tr>\n",
              "  </thead>\n",
              "  <tbody>\n",
              "    <tr>\n",
              "      <th>2012-01-30</th>\n",
              "      <td>09:08:30</td>\n",
              "      <td>61.00</td>\n",
              "      <td>60.16</td>\n",
              "      <td>60.61</td>\n",
              "      <td>2119</td>\n",
              "    </tr>\n",
              "    <tr>\n",
              "      <th>2012-01-30</th>\n",
              "      <td>09:30:00</td>\n",
              "      <td>60.37</td>\n",
              "      <td>60.37</td>\n",
              "      <td>60.45</td>\n",
              "      <td>159</td>\n",
              "    </tr>\n",
              "    <tr>\n",
              "      <th>2012-01-30</th>\n",
              "      <td>09:30:00</td>\n",
              "      <td>60.38</td>\n",
              "      <td>60.38</td>\n",
              "      <td>60.43</td>\n",
              "      <td>100</td>\n",
              "    </tr>\n",
              "    <tr>\n",
              "      <th>2012-01-30</th>\n",
              "      <td>09:30:06</td>\n",
              "      <td>60.36</td>\n",
              "      <td>60.31</td>\n",
              "      <td>60.42</td>\n",
              "      <td>400</td>\n",
              "    </tr>\n",
              "    <tr>\n",
              "      <th>2012-01-30</th>\n",
              "      <td>09:30:17</td>\n",
              "      <td>60.30</td>\n",
              "      <td>60.29</td>\n",
              "      <td>60.39</td>\n",
              "      <td>150</td>\n",
              "    </tr>\n",
              "  </tbody>\n",
              "</table>\n",
              "</div>"
            ],
            "text/plain": [
              "                Time  Price    Bid    Ask  Size\n",
              "Date                                           \n",
              "2012-01-30  09:08:30  61.00  60.16  60.61  2119\n",
              "2012-01-30  09:30:00  60.37  60.37  60.45   159\n",
              "2012-01-30  09:30:00  60.38  60.38  60.43   100\n",
              "2012-01-30  09:30:06  60.36  60.31  60.42   400\n",
              "2012-01-30  09:30:17  60.30  60.29  60.39   150"
            ]
          },
          "metadata": {
            "tags": []
          },
          "execution_count": 83
        }
      ]
    },
    {
      "cell_type": "code",
      "metadata": {
        "id": "kCmKsjnZdXoH",
        "outputId": "48a31ecd-b036-4051-e908-397c731704bb",
        "colab": {
          "base_uri": "https://localhost:8080/"
        }
      },
      "source": [
        "data_diff.head()"
      ],
      "execution_count": 84,
      "outputs": [
        {
          "output_type": "execute_result",
          "data": {
            "text/plain": [
              "Date\n",
              "2012-01-30   -0.010382\n",
              "2012-01-30    0.000166\n",
              "2012-01-30   -0.000331\n",
              "2012-01-30   -0.000995\n",
              "2012-01-30   -0.000498\n",
              "Name: Price, dtype: float64"
            ]
          },
          "metadata": {
            "tags": []
          },
          "execution_count": 84
        }
      ]
    },
    {
      "cell_type": "code",
      "metadata": {
        "id": "XQJWkz_Tmyd9"
      },
      "source": [
        "# stocks_news2 = stocks_news.copy()"
      ],
      "execution_count": 85,
      "outputs": []
    },
    {
      "cell_type": "code",
      "metadata": {
        "id": "c-ztdSpfB9Gv"
      },
      "source": [
        "# #plotting the ACF\n",
        "# from statsmodels.graphics.tsaplots import plot_acf\n",
        "# fig, ax = plt.subplots(figsize = (8, 3))\n",
        "# plot_acf(data_diff, ax = ax, lags = 8)"
      ],
      "execution_count": 86,
      "outputs": []
    },
    {
      "cell_type": "code",
      "metadata": {
        "id": "DhruE7zxRAQe"
      },
      "source": [
        "# #plotting PACF\n",
        "# from statsmodels.graphics.tsaplots import plot_pacf\n",
        "# fig, ax = plt.subplots(figsize= (8, 3))\n",
        "# plot_pacf(data_diff, ax = ax, lags = 8);"
      ],
      "execution_count": 87,
      "outputs": []
    },
    {
      "cell_type": "code",
      "metadata": {
        "id": "yVHaeROqR8li"
      },
      "source": [
        "# #import arma\n",
        "# from statsmodels.tsa.arima_model import ARMA\n",
        "\n",
        "# #fit an ARMA model\n",
        "# mod_arma = ARMA(data_diff, order = (HOW DO I SELECT ORDER? CLASS HAS (1,0))\n",
        "# res_arma = mod_arma.fit()\n",
        "\n",
        "# print(res_arma.summary())"
      ],
      "execution_count": 88,
      "outputs": []
    },
    {
      "cell_type": "markdown",
      "metadata": {
        "id": "pUAOxBozeRxr"
      },
      "source": [
        "After figuring out ARMA model then try diff orders to select the best. Select it based on AIC or. BIC as model selection criterion."
      ]
    },
    {
      "cell_type": "markdown",
      "metadata": {
        "id": "bWGYv4E5ebnQ"
      },
      "source": [
        "#### ARIMA Model"
      ]
    },
    {
      "cell_type": "markdown",
      "metadata": {
        "id": "OqzCFf3KrzNN"
      },
      "source": [
        "q - auto regressive part of the model. effect of past values into model. \n",
        "d - amount of differnecing as it identifies the number of lag values to subtract from the current observation\n",
        "q - moving average part of the model which is used to set the error of the model as a linear combination of the error values observed at previous time points in the past."
      ]
    },
    {
      "cell_type": "code",
      "metadata": {
        "id": "7aEJNC-owgIb",
        "outputId": "44e6118d-950a-43d6-e14c-05d628ac313a",
        "colab": {
          "base_uri": "https://localhost:8080/",
          "height": 235
        }
      },
      "source": [
        "stocks_news2 = stocks_news.copy()\n",
        "stocks_news2.head()"
      ],
      "execution_count": 89,
      "outputs": [
        {
          "output_type": "execute_result",
          "data": {
            "text/html": [
              "<div>\n",
              "<style scoped>\n",
              "    .dataframe tbody tr th:only-of-type {\n",
              "        vertical-align: middle;\n",
              "    }\n",
              "\n",
              "    .dataframe tbody tr th {\n",
              "        vertical-align: top;\n",
              "    }\n",
              "\n",
              "    .dataframe thead th {\n",
              "        text-align: right;\n",
              "    }\n",
              "</style>\n",
              "<table border=\"1\" class=\"dataframe\">\n",
              "  <thead>\n",
              "    <tr style=\"text-align: right;\">\n",
              "      <th></th>\n",
              "      <th>Time</th>\n",
              "      <th>Price</th>\n",
              "      <th>Bid</th>\n",
              "      <th>Ask</th>\n",
              "      <th>Size</th>\n",
              "    </tr>\n",
              "    <tr>\n",
              "      <th>Date</th>\n",
              "      <th></th>\n",
              "      <th></th>\n",
              "      <th></th>\n",
              "      <th></th>\n",
              "      <th></th>\n",
              "    </tr>\n",
              "  </thead>\n",
              "  <tbody>\n",
              "    <tr>\n",
              "      <th>2012-01-30</th>\n",
              "      <td>09:08:30</td>\n",
              "      <td>61.00</td>\n",
              "      <td>60.16</td>\n",
              "      <td>60.61</td>\n",
              "      <td>2119</td>\n",
              "    </tr>\n",
              "    <tr>\n",
              "      <th>2012-01-30</th>\n",
              "      <td>09:30:00</td>\n",
              "      <td>60.37</td>\n",
              "      <td>60.37</td>\n",
              "      <td>60.45</td>\n",
              "      <td>159</td>\n",
              "    </tr>\n",
              "    <tr>\n",
              "      <th>2012-01-30</th>\n",
              "      <td>09:30:00</td>\n",
              "      <td>60.38</td>\n",
              "      <td>60.38</td>\n",
              "      <td>60.43</td>\n",
              "      <td>100</td>\n",
              "    </tr>\n",
              "    <tr>\n",
              "      <th>2012-01-30</th>\n",
              "      <td>09:30:06</td>\n",
              "      <td>60.36</td>\n",
              "      <td>60.31</td>\n",
              "      <td>60.42</td>\n",
              "      <td>400</td>\n",
              "    </tr>\n",
              "    <tr>\n",
              "      <th>2012-01-30</th>\n",
              "      <td>09:30:17</td>\n",
              "      <td>60.30</td>\n",
              "      <td>60.29</td>\n",
              "      <td>60.39</td>\n",
              "      <td>150</td>\n",
              "    </tr>\n",
              "  </tbody>\n",
              "</table>\n",
              "</div>"
            ],
            "text/plain": [
              "                Time  Price    Bid    Ask  Size\n",
              "Date                                           \n",
              "2012-01-30  09:08:30  61.00  60.16  60.61  2119\n",
              "2012-01-30  09:30:00  60.37  60.37  60.45   159\n",
              "2012-01-30  09:30:00  60.38  60.38  60.43   100\n",
              "2012-01-30  09:30:06  60.36  60.31  60.42   400\n",
              "2012-01-30  09:30:17  60.30  60.29  60.39   150"
            ]
          },
          "metadata": {
            "tags": []
          },
          "execution_count": 89
        }
      ]
    },
    {
      "cell_type": "code",
      "metadata": {
        "id": "EjzjBAeAwaVi",
        "outputId": "2026ad93-6135-4609-98a1-f661218947e8",
        "colab": {
          "base_uri": "https://localhost:8080/",
          "height": 507
        }
      },
      "source": [
        "# The 'MS' string groups the data in buckets by start of the month\n",
        "stocks_news2 = stocks_news2['Price'].resample('MS').mean()\n",
        "\n",
        "# The term bfill means that we use the value before filling in missing values\n",
        "stocks_news2 = stocks_news2.fillna(stocks_news2.bfill())\n",
        "\n",
        "# Plot the time series\n",
        "stocks_news2.plot(figsize=(15, 6))\n",
        "plt.show()\n",
        "print(stocks_news2.head())"
      ],
      "execution_count": 90,
      "outputs": [
        {
          "output_type": "display_data",
          "data": {
            "image/png": "[encoded data removed]",
            "text/plain": [
              "<Figure size 1080x432 with 1 Axes>"
            ]
          },
          "metadata": {
            "tags": [],
            "needs_background": "light"
          }
        },
        {
          "output_type": "stream",
          "text": [
            "Date\n",
            "2012-01-01    60.561473\n",
            "2012-02-01    62.663006\n",
            "2012-03-01    64.308922\n",
            "2012-04-01    63.655784\n",
            "2012-05-01    61.302074\n",
            "Freq: MS, Name: Price, dtype: float64\n"
          ],
          "name": "stdout"
        }
      ]
    },
    {
      "cell_type": "code",
      "metadata": {
        "id": "KkQPIzGQvUZ9"
      },
      "source": [
        "import itertools"
      ],
      "execution_count": 91,
      "outputs": []
    },
    {
      "cell_type": "code",
      "metadata": {
        "id": "nIpvcpo6ed2l"
      },
      "source": [
        "#define p,d,q with value between 0 & 2\n",
        "p = d = q = range(0, 2)\n",
        "\n",
        "#generate diff combos of p, q, & d triplets\n",
        "pdq = list(itertools.product(p, d, q))\n",
        "\n",
        "#generate all diff combos of seasonal p, d, q, triplets\n",
        "pdqs = [(x[0], x[1], x[2], 12) for x in list(itertools.product(p, d, q))]"
      ],
      "execution_count": 92,
      "outputs": []
    },
    {
      "cell_type": "markdown",
      "metadata": {
        "id": "ParcBtCfs6LU"
      },
      "source": [
        "Try to find the model with the lowest AIC score"
      ]
    },
    {
      "cell_type": "code",
      "metadata": {
        "id": "ZK63TkG9s93d"
      },
      "source": [
        "#initialize empty list\n",
        "answer = []\n",
        "\n",
        "#iterate through params\n",
        "for comb in pdq:\n",
        "  for combs in pdqs:\n",
        "    try:\n",
        "      mod = sm.tsa.statespace.ARIMAX(stocks_news2,\n",
        "                                      order = comb,\n",
        "                                      seasonal_order = combs,\n",
        "                                      enforce_stationarity = False,\n",
        "                                      enforce_invertibility = False)\n",
        "      \n",
        "      output = mod.fit()\n",
        "      answer.append([comb, combs, output.aic])\n",
        "      print('ARIMA{} x{}12: AIC Calculated = {}'.format(comb, combs, output.aic))\n",
        "    except:\n",
        "      continue"
      ],
      "execution_count": 93,
      "outputs": []
    },
    {
      "cell_type": "code",
      "metadata": {
        "id": "zmQdkVsZv7Y5",
        "outputId": "b09f51d7-b703-426f-9dc9-3bbb730510f9",
        "colab": {
          "base_uri": "https://localhost:8080/",
          "height": 341
        }
      },
      "source": [
        "# Find the parameters with minimal AIC value\n",
        "ans_df = pd.DataFrame(answer, columns=['pdq', 'pdqs', 'aic'])\n",
        "ans_df.loc[ans_df['aic'].idxmin()]"
      ],
      "execution_count": 94,
      "outputs": [
        {
          "output_type": "error",
          "ename": "TypeError",
          "evalue": "ignored",
          "traceback": [
            "\u001b[0;31m---------------------------------------------------------------------------\u001b[0m",
            "\u001b[0;31mTypeError\u001b[0m                                 Traceback (most recent call last)",
            "\u001b[0;32m<ipython-input-94-4036634a13ce>\u001b[0m in \u001b[0;36m<module>\u001b[0;34m()\u001b[0m\n\u001b[1;32m      1\u001b[0m \u001b[0;31m# Find the parameters with minimal AIC value\u001b[0m\u001b[0;34m\u001b[0m\u001b[0;34m\u001b[0m\u001b[0;34m\u001b[0m\u001b[0m\n\u001b[1;32m      2\u001b[0m \u001b[0mans_df\u001b[0m \u001b[0;34m=\u001b[0m \u001b[0mpd\u001b[0m\u001b[0;34m.\u001b[0m\u001b[0mDataFrame\u001b[0m\u001b[0;34m(\u001b[0m\u001b[0manswer\u001b[0m\u001b[0;34m,\u001b[0m \u001b[0mcolumns\u001b[0m\u001b[0;34m=\u001b[0m\u001b[0;34m[\u001b[0m\u001b[0;34m'pdq'\u001b[0m\u001b[0;34m,\u001b[0m \u001b[0;34m'pdqs'\u001b[0m\u001b[0;34m,\u001b[0m \u001b[0;34m'aic'\u001b[0m\u001b[0;34m]\u001b[0m\u001b[0;34m)\u001b[0m\u001b[0;34m\u001b[0m\u001b[0;34m\u001b[0m\u001b[0m\n\u001b[0;32m----> 3\u001b[0;31m \u001b[0mans_df\u001b[0m\u001b[0;34m.\u001b[0m\u001b[0mloc\u001b[0m\u001b[0;34m[\u001b[0m\u001b[0mans_df\u001b[0m\u001b[0;34m[\u001b[0m\u001b[0;34m'aic'\u001b[0m\u001b[0;34m]\u001b[0m\u001b[0;34m.\u001b[0m\u001b[0midxmin\u001b[0m\u001b[0;34m(\u001b[0m\u001b[0;34m)\u001b[0m\u001b[0;34m]\u001b[0m\u001b[0;34m\u001b[0m\u001b[0;34m\u001b[0m\u001b[0m\n\u001b[0m",
            "\u001b[0;32m/usr/local/lib/python3.6/dist-packages/pandas/core/series.py\u001b[0m in \u001b[0;36midxmin\u001b[0;34m(self, axis, skipna, *args, **kwargs)\u001b[0m\n\u001b[1;32m   2107\u001b[0m         \"\"\"\n\u001b[1;32m   2108\u001b[0m         \u001b[0mskipna\u001b[0m \u001b[0;34m=\u001b[0m \u001b[0mnv\u001b[0m\u001b[0;34m.\u001b[0m\u001b[0mvalidate_argmin_with_skipna\u001b[0m\u001b[0;34m(\u001b[0m\u001b[0mskipna\u001b[0m\u001b[0;34m,\u001b[0m \u001b[0margs\u001b[0m\u001b[0;34m,\u001b[0m \u001b[0mkwargs\u001b[0m\u001b[0;34m)\u001b[0m\u001b[0;34m\u001b[0m\u001b[0;34m\u001b[0m\u001b[0m\n\u001b[0;32m-> 2109\u001b[0;31m         \u001b[0mi\u001b[0m \u001b[0;34m=\u001b[0m \u001b[0mnanops\u001b[0m\u001b[0;34m.\u001b[0m\u001b[0mnanargmin\u001b[0m\u001b[0;34m(\u001b[0m\u001b[0mself\u001b[0m\u001b[0;34m.\u001b[0m\u001b[0m_values\u001b[0m\u001b[0;34m,\u001b[0m \u001b[0mskipna\u001b[0m\u001b[0;34m=\u001b[0m\u001b[0mskipna\u001b[0m\u001b[0;34m)\u001b[0m\u001b[0;34m\u001b[0m\u001b[0;34m\u001b[0m\u001b[0m\n\u001b[0m\u001b[1;32m   2110\u001b[0m         \u001b[0;32mif\u001b[0m \u001b[0mi\u001b[0m \u001b[0;34m==\u001b[0m \u001b[0;34m-\u001b[0m\u001b[0;36m1\u001b[0m\u001b[0;34m:\u001b[0m\u001b[0;34m\u001b[0m\u001b[0;34m\u001b[0m\u001b[0m\n\u001b[1;32m   2111\u001b[0m             \u001b[0;32mreturn\u001b[0m \u001b[0mnp\u001b[0m\u001b[0;34m.\u001b[0m\u001b[0mnan\u001b[0m\u001b[0;34m\u001b[0m\u001b[0;34m\u001b[0m\u001b[0m\n",
            "\u001b[0;32m/usr/local/lib/python3.6/dist-packages/pandas/core/nanops.py\u001b[0m in \u001b[0;36m_f\u001b[0;34m(*args, **kwargs)\u001b[0m\n\u001b[1;32m     65\u001b[0m                 \u001b[0mf_name\u001b[0m \u001b[0;34m=\u001b[0m \u001b[0mf\u001b[0m\u001b[0;34m.\u001b[0m\u001b[0m__name__\u001b[0m\u001b[0;34m.\u001b[0m\u001b[0mreplace\u001b[0m\u001b[0;34m(\u001b[0m\u001b[0;34m\"nan\"\u001b[0m\u001b[0;34m,\u001b[0m \u001b[0;34m\"\"\u001b[0m\u001b[0;34m)\u001b[0m\u001b[0;34m\u001b[0m\u001b[0;34m\u001b[0m\u001b[0m\n\u001b[1;32m     66\u001b[0m                 raise TypeError(\n\u001b[0;32m---> 67\u001b[0;31m                     \u001b[0;34mf\"reduction operation '{f_name}' not allowed for this dtype\"\u001b[0m\u001b[0;34m\u001b[0m\u001b[0;34m\u001b[0m\u001b[0m\n\u001b[0m\u001b[1;32m     68\u001b[0m                 )\n\u001b[1;32m     69\u001b[0m             \u001b[0;32mtry\u001b[0m\u001b[0;34m:\u001b[0m\u001b[0;34m\u001b[0m\u001b[0;34m\u001b[0m\u001b[0m\n",
            "\u001b[0;31mTypeError\u001b[0m: reduction operation 'argmin' not allowed for this dtype"
          ]
        }
      ]
    },
    {
      "cell_type": "markdown",
      "metadata": {
        "id": "xK43hkUtSQJj"
      },
      "source": [
        "#Interpret"
      ]
    },
    {
      "cell_type": "markdown",
      "metadata": {
        "id": "82Gj6RMRSXmy"
      },
      "source": [
        "#Summary"
      ]
    },
    {
      "cell_type": "markdown",
      "metadata": {
        "id": "o5HwAoqMSY2I"
      },
      "source": [
        "#Future Work"
      ]
    },
    {
      "cell_type": "code",
      "metadata": {
        "id": "Qk4DM6VxRpyE"
      },
      "source": [
        ""
      ],
      "execution_count": null,
      "outputs": []
    }
  ]
}