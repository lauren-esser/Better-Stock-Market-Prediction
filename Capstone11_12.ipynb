{
  "nbformat": 4,
  "nbformat_minor": 0,
  "metadata": {
    "colab": {
      "name": "Capstone11-12.ipynb",
      "provenance": [],
      "collapsed_sections": [
        "SIkhGZ2YkcWH",
        "l6OEEqcdp3hn",
        "WPCp3r9dq20n"
      ],
      "toc_visible": true,
      "authorship_tag": "ABX9TyNRcCPForNGrug1qhqalQEf",
      "include_colab_link": true
    },
    "kernelspec": {
      "display_name": "Python 3",
      "name": "python3"
    }
  },
  "cells": [
    {
      "cell_type": "markdown",
      "metadata": {
        "id": "view-in-github",
        "colab_type": "text"
      },
      "source": [
        "<a href=\"https://colab.research.google.com/github/lauren-esser/Better-Stock-Market-Prediction/blob/master/Capstone11_12.ipynb\" target=\"_parent\"><img src=\"https://colab.research.google.com/assets/colab-badge.svg\" alt=\"Open In Colab\"/></a>"
      ]
    },
    {
      "cell_type": "markdown",
      "metadata": {
        "id": "1v1si4QNR3QI"
      },
      "source": [
        "#Final Project Submission:"
      ]
    },
    {
      "cell_type": "markdown",
      "metadata": {
        "id": "_3XGAJiTR6Tj"
      },
      "source": [
        "**Student Name:** Lauren Esser\n",
        "\n",
        "**Student Pace:** Full Time\n",
        "\n",
        "**Scheduled Project Review Date/Time:**  \n",
        "\n",
        "**Instructor Name:** James Irving\n",
        "\n",
        "**Blog Post URLS:**  https://lauren-esser.github.io/how_to_use_newsapi and "
      ]
    },
    {
      "cell_type": "markdown",
      "metadata": {
        "id": "HSw-x3WESIjh"
      },
      "source": [
        "#Abstract"
      ]
    },
    {
      "cell_type": "markdown",
      "metadata": {
        "id": "ZHH93unLSKkj"
      },
      "source": [
        "An Abstract section that briefly explains your problem, your methodology, and your findings, and business recommendations as a result of your findings. This section should be 1-2 paragraphs long.\n"
      ]
    },
    {
      "cell_type": "markdown",
      "metadata": {
        "id": "uLKNK6x3Ts0v"
      },
      "source": [
        "#Import"
      ]
    },
    {
      "cell_type": "code",
      "metadata": {
        "id": "il5uJHiXT2ex"
      },
      "source": [
        "#set numpy random seed\n",
        "import numpy as np\n",
        "np.random.seed(1919)"
      ],
      "execution_count": 1,
      "outputs": []
    },
    {
      "cell_type": "code",
      "metadata": {
        "id": "AZ6z4dm-T218"
      },
      "source": [
        "#set tensor random seed\n",
        "import tensorflow as tf\n",
        "tf.random.set_seed(1919)"
      ],
      "execution_count": 2,
      "outputs": []
    },
    {
      "cell_type": "code",
      "metadata": {
        "id": "GVLnEWsYTujD",
        "outputId": "febf1abd-5982-4764-9ab7-a10452146134",
        "colab": {
          "base_uri": "https://localhost:8080/"
        }
      },
      "source": [
        "#then import other libraries\n",
        "import pandas as pd\n",
        "import matplotlib.pyplot as plt\n",
        "import matplotlib.image as mpimg\n",
        "%matplotlib inline\n",
        "import seaborn as sns\n",
        "import os, glob\n",
        "from statsmodels.tsa.stattools import adfuller\n",
        "import nltk\n",
        "nltk.download('punkt')\n",
        "nltk.download('stopwords')\n",
        "from nltk.tokenize import word_tokenize\n",
        "from nltk.corpus import stopwords\n",
        "import string\n",
        "from nltk import FreqDist\n",
        "from nltk.collocations import *\n",
        "from keras.preprocessing.sequence import TimeseriesGenerator\n",
        "from statsmodels.graphics.tsaplots import plot_acf, plot_pacf\n",
        "from statsmodels.tsa.arima_model import ARMA\n",
        "from sklearn.preprocessing import MinMaxScaler\n",
        "from tensorflow.keras.models import Sequential\n",
        "from tensorflow.keras.layers import Dense, LSTM, Bidirectional, Dropout\n",
        "from tensorflow.keras import optimizers \n",
        "from tensorflow.keras.regularizers import l2\n",
        "import itertools\n",
        "import statsmodels.api as sm\n",
        "from matplotlib.pylab import rcParams\n"
      ],
      "execution_count": 3,
      "outputs": [
        {
          "output_type": "stream",
          "text": [
            "/usr/local/lib/python3.6/dist-packages/statsmodels/tools/_testing.py:19: FutureWarning: pandas.util.testing is deprecated. Use the functions in the public API at pandas.testing instead.\n",
            "  import pandas.util.testing as tm\n"
          ],
          "name": "stderr"
        },
        {
          "output_type": "stream",
          "text": [
            "[nltk_data] Downloading package punkt to /root/nltk_data...\n",
            "[nltk_data]   Package punkt is already up-to-date!\n",
            "[nltk_data] Downloading package stopwords to /root/nltk_data...\n",
            "[nltk_data]   Package stopwords is already up-to-date!\n"
          ],
          "name": "stdout"
        }
      ]
    },
    {
      "cell_type": "code",
      "metadata": {
        "id": "U9hTtfQ-UdVI",
        "outputId": "b52b187d-9f10-45c0-9f29-cfe0c0ae246d",
        "colab": {
          "base_uri": "https://localhost:8080/"
        }
      },
      "source": [
        "#connect to google drive\n",
        "from google.colab import drive\n",
        "drive.mount('/gdrive', force_remount = True)"
      ],
      "execution_count": 4,
      "outputs": [
        {
          "output_type": "stream",
          "text": [
            "Mounted at /gdrive\n"
          ],
          "name": "stdout"
        }
      ]
    },
    {
      "cell_type": "code",
      "metadata": {
        "id": "0wspf0qVUrgM",
        "outputId": "a77fbd3e-660f-42f5-d4a6-ed3a04de050c",
        "colab": {
          "base_uri": "https://localhost:8080/"
        }
      },
      "source": [
        "%cd ~\n",
        "%cd .."
      ],
      "execution_count": 5,
      "outputs": [
        {
          "output_type": "stream",
          "text": [
            "/root\n",
            "/\n"
          ],
          "name": "stdout"
        }
      ]
    },
    {
      "cell_type": "code",
      "metadata": {
        "id": "a6tjz8moU2Gh",
        "outputId": "1ea935cf-212b-4f73-9b80-57232610e5fb",
        "colab": {
          "base_uri": "https://localhost:8080/"
        }
      },
      "source": [
        "!ls \"/gdrive/My Drive/Colab Notebooks/DataSets\""
      ],
      "execution_count": 6,
      "outputs": [
        {
          "output_type": "stream",
          "text": [
            "archive.zip\t\t      IVE_tickbidask.txt\n",
            "chest-xray-pneumonia-jmi.zip  Megatable-2016.sql\n",
            "dogs-vs-cats-sorted.zip       News_Category_Dataset_v2.json\n"
          ],
          "name": "stdout"
        }
      ]
    },
    {
      "cell_type": "code",
      "metadata": {
        "id": "9c2SOshwXc86",
        "outputId": "bcd33f48-c5c4-487f-ad34-619447579c80",
        "colab": {
          "base_uri": "https://localhost:8080/"
        }
      },
      "source": [
        "print(os.path.abspath(os.curdir))\n",
        "os.listdir()"
      ],
      "execution_count": 7,
      "outputs": [
        {
          "output_type": "stream",
          "text": [
            "/\n"
          ],
          "name": "stdout"
        },
        {
          "output_type": "execute_result",
          "data": {
            "text/plain": [
              "['etc',\n",
              " 'root',\n",
              " 'media',\n",
              " 'lib64',\n",
              " 'srv',\n",
              " 'home',\n",
              " 'sys',\n",
              " 'boot',\n",
              " 'tmp',\n",
              " 'lib',\n",
              " 'opt',\n",
              " 'var',\n",
              " 'usr',\n",
              " 'sbin',\n",
              " 'run',\n",
              " 'dev',\n",
              " 'proc',\n",
              " 'bin',\n",
              " 'mnt',\n",
              " 'gdrive',\n",
              " 'News_Category_Dataset_v2.json',\n",
              " '.dockerenv',\n",
              " 'datalab',\n",
              " 'tools',\n",
              " 'swift',\n",
              " 'tensorflow-1.15.2',\n",
              " 'content',\n",
              " 'lib32']"
            ]
          },
          "metadata": {
            "tags": []
          },
          "execution_count": 7
        }
      ]
    },
    {
      "cell_type": "markdown",
      "metadata": {
        "id": "yd565cN7SQj6"
      },
      "source": [
        "#Obtain"
      ]
    },
    {
      "cell_type": "markdown",
      "metadata": {
        "id": "KdJhpVnkfpgl"
      },
      "source": [
        "Obtain Stocks Dataset:\n",
        "1. Go to http://www.kibot.com/free_historical_data.aspx\n",
        "2. Scroll to bottom of page and download \"Tick with bid/ask data\" under IVE(S&P 500 Value Index) \n",
        "3. Upload to Google drive\n",
        "4. Follow below steps"
      ]
    },
    {
      "cell_type": "code",
      "metadata": {
        "id": "VZF-FyyFWeYb",
        "outputId": "581b9fe7-f868-4c05-fe4d-f9ab5c5b2ff4",
        "colab": {
          "base_uri": "https://localhost:8080/",
          "height": 35
        }
      },
      "source": [
        "#import and assign txt file\n",
        "source_folder = r'/gdrive/My Drive/Colab Notebooks/DataSets/'\n",
        "target_folder = r'/content/'\n",
        "file = glob.glob(source_folder+ 'IVE_tickbidask.txt', recursive = True)\n",
        "file = file[0]\n",
        "file"
      ],
      "execution_count": 8,
      "outputs": [
        {
          "output_type": "execute_result",
          "data": {
            "application/vnd.google.colaboratory.intrinsic+json": {
              "type": "string"
            },
            "text/plain": [
              "'/gdrive/My Drive/Colab Notebooks/DataSets/IVE_tickbidask.txt'"
            ]
          },
          "metadata": {
            "tags": []
          },
          "execution_count": 8
        }
      ]
    },
    {
      "cell_type": "code",
      "metadata": {
        "id": "GT1dbt4ggcCq",
        "outputId": "ee52cc4f-5767-49c0-e11f-d578cadd5d2a",
        "colab": {
          "base_uri": "https://localhost:8080/",
          "height": 197
        }
      },
      "source": [
        "#define and view txt file\n",
        "stocks = pd.read_csv(file, header = None)\n",
        "stocks.head()"
      ],
      "execution_count": 9,
      "outputs": [
        {
          "output_type": "execute_result",
          "data": {
            "text/html": [
              "<div>\n",
              "<style scoped>\n",
              "    .dataframe tbody tr th:only-of-type {\n",
              "        vertical-align: middle;\n",
              "    }\n",
              "\n",
              "    .dataframe tbody tr th {\n",
              "        vertical-align: top;\n",
              "    }\n",
              "\n",
              "    .dataframe thead th {\n",
              "        text-align: right;\n",
              "    }\n",
              "</style>\n",
              "<table border=\"1\" class=\"dataframe\">\n",
              "  <thead>\n",
              "    <tr style=\"text-align: right;\">\n",
              "      <th></th>\n",
              "      <th>0</th>\n",
              "      <th>1</th>\n",
              "      <th>2</th>\n",
              "      <th>3</th>\n",
              "      <th>4</th>\n",
              "      <th>5</th>\n",
              "    </tr>\n",
              "  </thead>\n",
              "  <tbody>\n",
              "    <tr>\n",
              "      <th>0</th>\n",
              "      <td>09/28/2009</td>\n",
              "      <td>09:30:00</td>\n",
              "      <td>50.79</td>\n",
              "      <td>50.70</td>\n",
              "      <td>50.79</td>\n",
              "      <td>100</td>\n",
              "    </tr>\n",
              "    <tr>\n",
              "      <th>1</th>\n",
              "      <td>09/28/2009</td>\n",
              "      <td>09:30:00</td>\n",
              "      <td>50.71</td>\n",
              "      <td>50.70</td>\n",
              "      <td>50.79</td>\n",
              "      <td>638</td>\n",
              "    </tr>\n",
              "    <tr>\n",
              "      <th>2</th>\n",
              "      <td>09/28/2009</td>\n",
              "      <td>09:31:32</td>\n",
              "      <td>50.75</td>\n",
              "      <td>50.75</td>\n",
              "      <td>50.76</td>\n",
              "      <td>100</td>\n",
              "    </tr>\n",
              "    <tr>\n",
              "      <th>3</th>\n",
              "      <td>09/28/2009</td>\n",
              "      <td>09:31:32</td>\n",
              "      <td>50.75</td>\n",
              "      <td>50.75</td>\n",
              "      <td>50.76</td>\n",
              "      <td>100</td>\n",
              "    </tr>\n",
              "    <tr>\n",
              "      <th>4</th>\n",
              "      <td>09/28/2009</td>\n",
              "      <td>09:31:33</td>\n",
              "      <td>50.75</td>\n",
              "      <td>50.75</td>\n",
              "      <td>50.76</td>\n",
              "      <td>100</td>\n",
              "    </tr>\n",
              "  </tbody>\n",
              "</table>\n",
              "</div>"
            ],
            "text/plain": [
              "            0         1      2      3      4    5\n",
              "0  09/28/2009  09:30:00  50.79  50.70  50.79  100\n",
              "1  09/28/2009  09:30:00  50.71  50.70  50.79  638\n",
              "2  09/28/2009  09:31:32  50.75  50.75  50.76  100\n",
              "3  09/28/2009  09:31:32  50.75  50.75  50.76  100\n",
              "4  09/28/2009  09:31:33  50.75  50.75  50.76  100"
            ]
          },
          "metadata": {
            "tags": []
          },
          "execution_count": 9
        }
      ]
    },
    {
      "cell_type": "code",
      "metadata": {
        "id": "PhDa88vgiGVk",
        "outputId": "c75fe96d-976a-4684-c1f6-920abbc55fe2",
        "colab": {
          "base_uri": "https://localhost:8080/",
          "height": 406
        }
      },
      "source": [
        "#rename column headers\n",
        "stocks = stocks.rename(columns={0: 'Date', 1:'Time', 2: 'Price', 3:'Bid',\n",
        "                                4: 'Ask', 5:'Size'})\n",
        "stocks"
      ],
      "execution_count": 10,
      "outputs": [
        {
          "output_type": "execute_result",
          "data": {
            "text/html": [
              "<div>\n",
              "<style scoped>\n",
              "    .dataframe tbody tr th:only-of-type {\n",
              "        vertical-align: middle;\n",
              "    }\n",
              "\n",
              "    .dataframe tbody tr th {\n",
              "        vertical-align: top;\n",
              "    }\n",
              "\n",
              "    .dataframe thead th {\n",
              "        text-align: right;\n",
              "    }\n",
              "</style>\n",
              "<table border=\"1\" class=\"dataframe\">\n",
              "  <thead>\n",
              "    <tr style=\"text-align: right;\">\n",
              "      <th></th>\n",
              "      <th>Date</th>\n",
              "      <th>Time</th>\n",
              "      <th>Price</th>\n",
              "      <th>Bid</th>\n",
              "      <th>Ask</th>\n",
              "      <th>Size</th>\n",
              "    </tr>\n",
              "  </thead>\n",
              "  <tbody>\n",
              "    <tr>\n",
              "      <th>0</th>\n",
              "      <td>09/28/2009</td>\n",
              "      <td>09:30:00</td>\n",
              "      <td>50.79</td>\n",
              "      <td>50.70</td>\n",
              "      <td>50.79</td>\n",
              "      <td>100</td>\n",
              "    </tr>\n",
              "    <tr>\n",
              "      <th>1</th>\n",
              "      <td>09/28/2009</td>\n",
              "      <td>09:30:00</td>\n",
              "      <td>50.71</td>\n",
              "      <td>50.70</td>\n",
              "      <td>50.79</td>\n",
              "      <td>638</td>\n",
              "    </tr>\n",
              "    <tr>\n",
              "      <th>2</th>\n",
              "      <td>09/28/2009</td>\n",
              "      <td>09:31:32</td>\n",
              "      <td>50.75</td>\n",
              "      <td>50.75</td>\n",
              "      <td>50.76</td>\n",
              "      <td>100</td>\n",
              "    </tr>\n",
              "    <tr>\n",
              "      <th>3</th>\n",
              "      <td>09/28/2009</td>\n",
              "      <td>09:31:32</td>\n",
              "      <td>50.75</td>\n",
              "      <td>50.75</td>\n",
              "      <td>50.76</td>\n",
              "      <td>100</td>\n",
              "    </tr>\n",
              "    <tr>\n",
              "      <th>4</th>\n",
              "      <td>09/28/2009</td>\n",
              "      <td>09:31:33</td>\n",
              "      <td>50.75</td>\n",
              "      <td>50.75</td>\n",
              "      <td>50.76</td>\n",
              "      <td>100</td>\n",
              "    </tr>\n",
              "    <tr>\n",
              "      <th>...</th>\n",
              "      <td>...</td>\n",
              "      <td>...</td>\n",
              "      <td>...</td>\n",
              "      <td>...</td>\n",
              "      <td>...</td>\n",
              "      <td>...</td>\n",
              "    </tr>\n",
              "    <tr>\n",
              "      <th>8467941</th>\n",
              "      <td>11/05/2020</td>\n",
              "      <td>16:10:00</td>\n",
              "      <td>116.57</td>\n",
              "      <td>114.01</td>\n",
              "      <td>120.25</td>\n",
              "      <td>0</td>\n",
              "    </tr>\n",
              "    <tr>\n",
              "      <th>8467942</th>\n",
              "      <td>11/05/2020</td>\n",
              "      <td>16:25:33</td>\n",
              "      <td>116.35</td>\n",
              "      <td>114.68</td>\n",
              "      <td>118.73</td>\n",
              "      <td>900</td>\n",
              "    </tr>\n",
              "    <tr>\n",
              "      <th>8467943</th>\n",
              "      <td>11/05/2020</td>\n",
              "      <td>16:25:33</td>\n",
              "      <td>115.68</td>\n",
              "      <td>114.68</td>\n",
              "      <td>118.73</td>\n",
              "      <td>795</td>\n",
              "    </tr>\n",
              "    <tr>\n",
              "      <th>8467944</th>\n",
              "      <td>11/05/2020</td>\n",
              "      <td>18:30:00</td>\n",
              "      <td>116.57</td>\n",
              "      <td>114.54</td>\n",
              "      <td>118.40</td>\n",
              "      <td>0</td>\n",
              "    </tr>\n",
              "    <tr>\n",
              "      <th>8467945</th>\n",
              "      <td>11/05/2020</td>\n",
              "      <td>20:00:00</td>\n",
              "      <td>116.57</td>\n",
              "      <td>114.54</td>\n",
              "      <td>118.40</td>\n",
              "      <td>0</td>\n",
              "    </tr>\n",
              "  </tbody>\n",
              "</table>\n",
              "<p>8467946 rows × 6 columns</p>\n",
              "</div>"
            ],
            "text/plain": [
              "               Date      Time   Price     Bid     Ask  Size\n",
              "0        09/28/2009  09:30:00   50.79   50.70   50.79   100\n",
              "1        09/28/2009  09:30:00   50.71   50.70   50.79   638\n",
              "2        09/28/2009  09:31:32   50.75   50.75   50.76   100\n",
              "3        09/28/2009  09:31:32   50.75   50.75   50.76   100\n",
              "4        09/28/2009  09:31:33   50.75   50.75   50.76   100\n",
              "...             ...       ...     ...     ...     ...   ...\n",
              "8467941  11/05/2020  16:10:00  116.57  114.01  120.25     0\n",
              "8467942  11/05/2020  16:25:33  116.35  114.68  118.73   900\n",
              "8467943  11/05/2020  16:25:33  115.68  114.68  118.73   795\n",
              "8467944  11/05/2020  18:30:00  116.57  114.54  118.40     0\n",
              "8467945  11/05/2020  20:00:00  116.57  114.54  118.40     0\n",
              "\n",
              "[8467946 rows x 6 columns]"
            ]
          },
          "metadata": {
            "tags": []
          },
          "execution_count": 10
        }
      ]
    },
    {
      "cell_type": "markdown",
      "metadata": {
        "id": "SIkhGZ2YkcWH"
      },
      "source": [
        "#### News API: Can only access up to one month of news headlines for free"
      ]
    },
    {
      "cell_type": "code",
      "metadata": {
        "id": "Dy_k0uB5zw0v"
      },
      "source": [
        "#pip install newsapi-python"
      ],
      "execution_count": null,
      "outputs": []
    },
    {
      "cell_type": "code",
      "metadata": {
        "id": "Ityz-d3IznaY"
      },
      "source": [
        "# from newsapi import NewsApiClient"
      ],
      "execution_count": null,
      "outputs": []
    },
    {
      "cell_type": "code",
      "metadata": {
        "id": "DVZp4WaqK-fA"
      },
      "source": [
        "\n",
        "# connect with API key\n",
        "# newsapi = NewsApiClient(api_key = '')"
      ],
      "execution_count": null,
      "outputs": []
    },
    {
      "cell_type": "code",
      "metadata": {
        "id": "ToQECBlJZlPL"
      },
      "source": [
        "#identify news source options\n",
        "# news_sources = newsapi.get_sources()\n",
        "# news_sourcecs_list = []\n",
        "# for sources in news_sources['sources']:\n",
        "#   news_sourcecs_list.append(sources['name'])\n",
        "#   print(sources['name'])"
      ],
      "execution_count": null,
      "outputs": []
    },
    {
      "cell_type": "code",
      "metadata": {
        "id": "jqcXdTH_L_J6"
      },
      "source": [
        "# #test out newsapi.get_everything for specific date\n",
        "# date = '2020-11-01'\n",
        "# news_headlines_everything = newsapi.get_everything('&from = (date)', '&to = (date1)', language = 'en')\n",
        "                                                \n",
        "# news_titles_everything = []\n",
        "# for article in news_headlines_everything['articles']:\n",
        "#   news_titles_everything.append(article['title'])\n",
        "#   print(article['title'])"
      ],
      "execution_count": null,
      "outputs": []
    },
    {
      "cell_type": "code",
      "metadata": {
        "id": "W0CSfHCkOk61"
      },
      "source": [
        "# #create empty list\n",
        "# news_titles = []\n",
        "\n",
        "# #create function\n",
        "# def get_news_titles(date):\n",
        "#   '''Used to get a list of 20 news titles from usatoday on date specified via newsapi.org.\n",
        "\n",
        "#   Args: date = desired date\n",
        "\n",
        "#   Returns: List of 20 news articles from the specified date with the date listed after\n",
        "\n",
        "#   Example: get_news_titles('2020-11-01')'''\n",
        "  \n",
        "#   date = date\n",
        "#   news_headlines_everything = newsapi.get_everything(from_param = (date), to = (date), language = 'en', domains = 'usatoday.com')\n",
        "#   for article in news_headlines_everything['articles']:\n",
        "#     news_titles.append([article['title'], date])\n",
        "#     #print(article['title'])\n",
        "#     #return news_titles"
      ],
      "execution_count": null,
      "outputs": []
    },
    {
      "cell_type": "code",
      "metadata": {
        "id": "Ou2M7gYa0d9t"
      },
      "source": [
        "# get_news_titles('2020-11-01')"
      ],
      "execution_count": null,
      "outputs": []
    },
    {
      "cell_type": "code",
      "metadata": {
        "id": "LUSb13CM08ny"
      },
      "source": [
        "# news_titles"
      ],
      "execution_count": null,
      "outputs": []
    },
    {
      "cell_type": "code",
      "metadata": {
        "id": "HhYe_oC24QoI"
      },
      "source": [
        "# get_news_titles('2020-10-25')\n",
        "# news_titles"
      ],
      "execution_count": null,
      "outputs": []
    },
    {
      "cell_type": "code",
      "metadata": {
        "id": "1PeKybtZ4sKa"
      },
      "source": [
        "# len(news_titles)"
      ],
      "execution_count": null,
      "outputs": []
    },
    {
      "cell_type": "code",
      "metadata": {
        "id": "CqiaSuks9Lfp"
      },
      "source": [
        "# # sunday_news = ['2020-01-05', '2020-01-12', '2020-01-19', '2020-01-26', '2020-02-02', \n",
        "#                '2020-02-09', '2020-02-16', '2020-02-23', '2020-03-01', '2020-03-08',\n",
        "#                '2020-03-15', '2020-03-22', '2020-03-29', '2020-04-05', '2020-04-12',\n",
        "#                '2020-04-19', '2020-04-26', '2020-05-03', '2020-05-10', '2020-05-17',\n",
        "#                '2020-05-24', '2020-05-31', '2020-06-07', '2020-06-14', '2020-06-21',\n",
        "#                '2020-06-28', '2020-07-05', '2020-07-12', '2020-07-19', '2020-07-26', \n",
        "#                '2020-08-02', '2020-08-09', '2020-08-16', '2020-08-23', '2020-08-30',\n",
        "#                '2020-09-06', '2020-09-13', '2020-09-20', '2020-09-27', '2020-10-04', \n",
        "#                '2020-10-11', '2020-10-18', '2020-10-25', '2020-11-01']"
      ],
      "execution_count": null,
      "outputs": []
    },
    {
      "cell_type": "code",
      "metadata": {
        "id": "wo5Twcuv-9qc"
      },
      "source": [
        "# for date in sunday_news:\n",
        "#   new = get_news_titles(date)\n",
        "#   news_titles.append(new)\n",
        "# return news_titles"
      ],
      "execution_count": null,
      "outputs": []
    },
    {
      "cell_type": "code",
      "metadata": {
        "id": "Qt6AswAGLG9w"
      },
      "source": [
        "#newsapi.get_top_headlines for today\n",
        "# news_headlines = newsapi.get_top_headlines(language = 'en', country = 'us')\n",
        "# news_titles = []\n",
        "# for article in news_headlines['articles']:\n",
        "#   news_titles.append(article['title'])\n",
        "#   print(article['title'])"
      ],
      "execution_count": null,
      "outputs": []
    },
    {
      "cell_type": "markdown",
      "metadata": {
        "id": "WM646mq6f_po"
      },
      "source": [
        "#### Obtain News Dataset"
      ]
    },
    {
      "cell_type": "markdown",
      "metadata": {
        "id": "vItcMDVDg-pF"
      },
      "source": [
        "News Category Dataset from Kaggle:\n",
        "1. Go to https://www.kaggle.com/rmisra/news-category-dataset\n",
        "2. Download dataset to your computer\n",
        "3. Upload dataset into your Google Drive folder\n",
        "4. Follow steps below"
      ]
    },
    {
      "cell_type": "code",
      "metadata": {
        "id": "eyn2JyKPgQJW"
      },
      "source": [
        "!ls \"/gdrive/My Drive/Colab Notebooks/DataSets\""
      ],
      "execution_count": null,
      "outputs": []
    },
    {
      "cell_type": "code",
      "metadata": {
        "id": "NxQW3XGtgbJa"
      },
      "source": [
        "print(os.path.abspath(os.curdir))\n",
        "os.listdir()"
      ],
      "execution_count": null,
      "outputs": []
    },
    {
      "cell_type": "code",
      "metadata": {
        "id": "1M0dx1Nvgec1"
      },
      "source": [
        "source_folder = r'/gdrive/My Drive/Colab Notebooks/DataSets/'\n",
        "target_folder = r'/content/'\n",
        "file = glob.glob(source_folder+ 'archive.zip', recursive = True)\n",
        "file = file[0]\n",
        "file"
      ],
      "execution_count": null,
      "outputs": []
    },
    {
      "cell_type": "code",
      "metadata": {
        "id": "vc00gpz_gkwq"
      },
      "source": [
        "#upzip data\n",
        "zip_path = file\n",
        "!cp '{zip_path}' .\n",
        "\n",
        "!unzip -q archive.zip\n",
        "!rm archive.zip"
      ],
      "execution_count": null,
      "outputs": []
    },
    {
      "cell_type": "code",
      "metadata": {
        "id": "-NyPkmyyhj_C"
      },
      "source": [
        "#open file for viewing\n",
        "news = pd.read_json('/gdrive/My Drive/Colab Notebooks/DataSets/News_Category_Dataset_v2.json', lines = True)"
      ],
      "execution_count": null,
      "outputs": []
    },
    {
      "cell_type": "code",
      "metadata": {
        "id": "2Zu0vnx1i4iH"
      },
      "source": [
        "news.head(20)"
      ],
      "execution_count": null,
      "outputs": []
    },
    {
      "cell_type": "markdown",
      "metadata": {
        "id": "LglEFbnDSQed"
      },
      "source": [
        "#Scrub"
      ]
    },
    {
      "cell_type": "markdown",
      "metadata": {
        "id": "XQIhHZNiX_qI"
      },
      "source": [
        "### Scrubbing Stocks"
      ]
    },
    {
      "cell_type": "code",
      "metadata": {
        "id": "iz5bAH0VOUGP",
        "outputId": "c5b37036-6d88-4d1a-88a2-b542cabf6dec",
        "colab": {
          "base_uri": "https://localhost:8080/"
        }
      },
      "source": [
        "#check nulls\n",
        "stocks.isna().sum()"
      ],
      "execution_count": 11,
      "outputs": [
        {
          "output_type": "execute_result",
          "data": {
            "text/plain": [
              "Date     0\n",
              "Time     0\n",
              "Price    0\n",
              "Bid      0\n",
              "Ask      0\n",
              "Size     0\n",
              "dtype: int64"
            ]
          },
          "metadata": {
            "tags": []
          },
          "execution_count": 11
        }
      ]
    },
    {
      "cell_type": "code",
      "metadata": {
        "id": "Q9dFabUjleUh",
        "outputId": "87750664-1694-4d6f-bc2f-57725616fdff",
        "colab": {
          "base_uri": "https://localhost:8080/"
        }
      },
      "source": [
        "stocks.info()"
      ],
      "execution_count": 12,
      "outputs": [
        {
          "output_type": "stream",
          "text": [
            "<class 'pandas.core.frame.DataFrame'>\n",
            "RangeIndex: 8467946 entries, 0 to 8467945\n",
            "Data columns (total 6 columns):\n",
            " #   Column  Dtype  \n",
            "---  ------  -----  \n",
            " 0   Date    object \n",
            " 1   Time    object \n",
            " 2   Price   float64\n",
            " 3   Bid     float64\n",
            " 4   Ask     float64\n",
            " 5   Size    int64  \n",
            "dtypes: float64(3), int64(1), object(2)\n",
            "memory usage: 387.6+ MB\n"
          ],
          "name": "stdout"
        }
      ]
    },
    {
      "cell_type": "code",
      "metadata": {
        "id": "VxCuo9yjXQxa"
      },
      "source": [
        "#convert date to a datetime column\n",
        "stocks['Date'] = pd.to_datetime(stocks['Date'])"
      ],
      "execution_count": 13,
      "outputs": []
    },
    {
      "cell_type": "code",
      "metadata": {
        "id": "L1eapxSsXp9U",
        "outputId": "168e8215-c31d-4bf4-82ac-203b814621eb",
        "colab": {
          "base_uri": "https://localhost:8080/"
        }
      },
      "source": [
        "stocks.info()"
      ],
      "execution_count": 14,
      "outputs": [
        {
          "output_type": "stream",
          "text": [
            "<class 'pandas.core.frame.DataFrame'>\n",
            "RangeIndex: 8467946 entries, 0 to 8467945\n",
            "Data columns (total 6 columns):\n",
            " #   Column  Dtype         \n",
            "---  ------  -----         \n",
            " 0   Date    datetime64[ns]\n",
            " 1   Time    object        \n",
            " 2   Price   float64       \n",
            " 3   Bid     float64       \n",
            " 4   Ask     float64       \n",
            " 5   Size    int64         \n",
            "dtypes: datetime64[ns](1), float64(3), int64(1), object(1)\n",
            "memory usage: 387.6+ MB\n"
          ],
          "name": "stdout"
        }
      ]
    },
    {
      "cell_type": "code",
      "metadata": {
        "id": "iOqD0N_7Xvje"
      },
      "source": [
        "#set date to index\n",
        "stocks.set_index('Date', inplace= True)"
      ],
      "execution_count": 15,
      "outputs": []
    },
    {
      "cell_type": "code",
      "metadata": {
        "id": "hELeZhv9zItu",
        "outputId": "458a56d1-d034-4adb-ac3e-c716566be58f",
        "colab": {
          "base_uri": "https://localhost:8080/"
        }
      },
      "source": [
        "stocks.index"
      ],
      "execution_count": 16,
      "outputs": [
        {
          "output_type": "execute_result",
          "data": {
            "text/plain": [
              "DatetimeIndex(['2009-09-28', '2009-09-28', '2009-09-28', '2009-09-28',\n",
              "               '2009-09-28', '2009-09-28', '2009-09-28', '2009-09-28',\n",
              "               '2009-09-28', '2009-09-28',\n",
              "               ...\n",
              "               '2020-11-05', '2020-11-05', '2020-11-05', '2020-11-05',\n",
              "               '2020-11-05', '2020-11-05', '2020-11-05', '2020-11-05',\n",
              "               '2020-11-05', '2020-11-05'],\n",
              "              dtype='datetime64[ns]', name='Date', length=8467946, freq=None)"
            ]
          },
          "metadata": {
            "tags": []
          },
          "execution_count": 16
        }
      ]
    },
    {
      "cell_type": "markdown",
      "metadata": {
        "id": "wiyBgKhSbRdM"
      },
      "source": [
        "In order to make sure we are looking at the same time frame for both stocks and news articles, I will slice and save the correct dates for stocks to correspond to the news articles: 2012-01-28 to 2018-05-26 for later use.\n"
      ]
    },
    {
      "cell_type": "code",
      "metadata": {
        "id": "WvXDJwoebQvz",
        "outputId": "f4b75e59-a2b1-4f68-f93d-cd28160bb1d6",
        "colab": {
          "base_uri": "https://localhost:8080/",
          "height": 227
        }
      },
      "source": [
        "#slice dates\n",
        "stocks = stocks['2012-01-28': '2018-05-26']\n",
        "stocks.head()"
      ],
      "execution_count": 17,
      "outputs": [
        {
          "output_type": "execute_result",
          "data": {
            "text/html": [
              "<div>\n",
              "<style scoped>\n",
              "    .dataframe tbody tr th:only-of-type {\n",
              "        vertical-align: middle;\n",
              "    }\n",
              "\n",
              "    .dataframe tbody tr th {\n",
              "        vertical-align: top;\n",
              "    }\n",
              "\n",
              "    .dataframe thead th {\n",
              "        text-align: right;\n",
              "    }\n",
              "</style>\n",
              "<table border=\"1\" class=\"dataframe\">\n",
              "  <thead>\n",
              "    <tr style=\"text-align: right;\">\n",
              "      <th></th>\n",
              "      <th>Time</th>\n",
              "      <th>Price</th>\n",
              "      <th>Bid</th>\n",
              "      <th>Ask</th>\n",
              "      <th>Size</th>\n",
              "    </tr>\n",
              "    <tr>\n",
              "      <th>Date</th>\n",
              "      <th></th>\n",
              "      <th></th>\n",
              "      <th></th>\n",
              "      <th></th>\n",
              "      <th></th>\n",
              "    </tr>\n",
              "  </thead>\n",
              "  <tbody>\n",
              "    <tr>\n",
              "      <th>2012-01-30</th>\n",
              "      <td>09:08:30</td>\n",
              "      <td>61.00</td>\n",
              "      <td>60.16</td>\n",
              "      <td>60.61</td>\n",
              "      <td>2119</td>\n",
              "    </tr>\n",
              "    <tr>\n",
              "      <th>2012-01-30</th>\n",
              "      <td>09:30:00</td>\n",
              "      <td>60.37</td>\n",
              "      <td>60.37</td>\n",
              "      <td>60.45</td>\n",
              "      <td>159</td>\n",
              "    </tr>\n",
              "    <tr>\n",
              "      <th>2012-01-30</th>\n",
              "      <td>09:30:00</td>\n",
              "      <td>60.38</td>\n",
              "      <td>60.38</td>\n",
              "      <td>60.43</td>\n",
              "      <td>100</td>\n",
              "    </tr>\n",
              "    <tr>\n",
              "      <th>2012-01-30</th>\n",
              "      <td>09:30:06</td>\n",
              "      <td>60.36</td>\n",
              "      <td>60.31</td>\n",
              "      <td>60.42</td>\n",
              "      <td>400</td>\n",
              "    </tr>\n",
              "    <tr>\n",
              "      <th>2012-01-30</th>\n",
              "      <td>09:30:17</td>\n",
              "      <td>60.30</td>\n",
              "      <td>60.29</td>\n",
              "      <td>60.39</td>\n",
              "      <td>150</td>\n",
              "    </tr>\n",
              "  </tbody>\n",
              "</table>\n",
              "</div>"
            ],
            "text/plain": [
              "                Time  Price    Bid    Ask  Size\n",
              "Date                                           \n",
              "2012-01-30  09:08:30  61.00  60.16  60.61  2119\n",
              "2012-01-30  09:30:00  60.37  60.37  60.45   159\n",
              "2012-01-30  09:30:00  60.38  60.38  60.43   100\n",
              "2012-01-30  09:30:06  60.36  60.31  60.42   400\n",
              "2012-01-30  09:30:17  60.30  60.29  60.39   150"
            ]
          },
          "metadata": {
            "tags": []
          },
          "execution_count": 17
        }
      ]
    },
    {
      "cell_type": "code",
      "metadata": {
        "id": "g2P9ti6cPE1R",
        "outputId": "44537214-26d7-4690-ad9d-1053110d5a2e",
        "colab": {
          "base_uri": "https://localhost:8080/",
          "height": 227
        }
      },
      "source": [
        "#resample stocks to business day frequency\n",
        "stocks = stocks.resample('B').last()\n",
        "stocks.head()"
      ],
      "execution_count": 18,
      "outputs": [
        {
          "output_type": "execute_result",
          "data": {
            "text/html": [
              "<div>\n",
              "<style scoped>\n",
              "    .dataframe tbody tr th:only-of-type {\n",
              "        vertical-align: middle;\n",
              "    }\n",
              "\n",
              "    .dataframe tbody tr th {\n",
              "        vertical-align: top;\n",
              "    }\n",
              "\n",
              "    .dataframe thead th {\n",
              "        text-align: right;\n",
              "    }\n",
              "</style>\n",
              "<table border=\"1\" class=\"dataframe\">\n",
              "  <thead>\n",
              "    <tr style=\"text-align: right;\">\n",
              "      <th></th>\n",
              "      <th>Time</th>\n",
              "      <th>Price</th>\n",
              "      <th>Bid</th>\n",
              "      <th>Ask</th>\n",
              "      <th>Size</th>\n",
              "    </tr>\n",
              "    <tr>\n",
              "      <th>Date</th>\n",
              "      <th></th>\n",
              "      <th></th>\n",
              "      <th></th>\n",
              "      <th></th>\n",
              "      <th></th>\n",
              "    </tr>\n",
              "  </thead>\n",
              "  <tbody>\n",
              "    <tr>\n",
              "      <th>2012-01-30</th>\n",
              "      <td>16:00:00</td>\n",
              "      <td>60.73</td>\n",
              "      <td>60.71</td>\n",
              "      <td>60.73</td>\n",
              "      <td>174.0</td>\n",
              "    </tr>\n",
              "    <tr>\n",
              "      <th>2012-01-31</th>\n",
              "      <td>16:00:05</td>\n",
              "      <td>60.66</td>\n",
              "      <td>60.65</td>\n",
              "      <td>60.65</td>\n",
              "      <td>600.0</td>\n",
              "    </tr>\n",
              "    <tr>\n",
              "      <th>2012-02-01</th>\n",
              "      <td>16:01:35</td>\n",
              "      <td>61.33</td>\n",
              "      <td>61.33</td>\n",
              "      <td>61.38</td>\n",
              "      <td>1200.0</td>\n",
              "    </tr>\n",
              "    <tr>\n",
              "      <th>2012-02-02</th>\n",
              "      <td>16:00:03</td>\n",
              "      <td>61.46</td>\n",
              "      <td>61.46</td>\n",
              "      <td>61.47</td>\n",
              "      <td>200.0</td>\n",
              "    </tr>\n",
              "    <tr>\n",
              "      <th>2012-02-03</th>\n",
              "      <td>16:00:00</td>\n",
              "      <td>62.50</td>\n",
              "      <td>62.51</td>\n",
              "      <td>62.52</td>\n",
              "      <td>1378.0</td>\n",
              "    </tr>\n",
              "  </tbody>\n",
              "</table>\n",
              "</div>"
            ],
            "text/plain": [
              "                Time  Price    Bid    Ask    Size\n",
              "Date                                             \n",
              "2012-01-30  16:00:00  60.73  60.71  60.73   174.0\n",
              "2012-01-31  16:00:05  60.66  60.65  60.65   600.0\n",
              "2012-02-01  16:01:35  61.33  61.33  61.38  1200.0\n",
              "2012-02-02  16:00:03  61.46  61.46  61.47   200.0\n",
              "2012-02-03  16:00:00  62.50  62.51  62.52  1378.0"
            ]
          },
          "metadata": {
            "tags": []
          },
          "execution_count": 18
        }
      ]
    },
    {
      "cell_type": "code",
      "metadata": {
        "id": "A00iGe7xEKAL",
        "outputId": "a0c94ed1-f5bc-4991-993f-a067a391ceee",
        "colab": {
          "base_uri": "https://localhost:8080/"
        }
      },
      "source": [
        "#check for duplicates\n",
        "stocks.duplicated().sum()"
      ],
      "execution_count": 19,
      "outputs": [
        {
          "output_type": "execute_result",
          "data": {
            "text/plain": [
              "57"
            ]
          },
          "metadata": {
            "tags": []
          },
          "execution_count": 19
        }
      ]
    },
    {
      "cell_type": "code",
      "metadata": {
        "id": "fxCKdmZ4E1Eu"
      },
      "source": [
        "#drop duplicates\n",
        "stocks.drop_duplicates(keep='last', inplace=True)"
      ],
      "execution_count": 20,
      "outputs": []
    },
    {
      "cell_type": "code",
      "metadata": {
        "id": "Ae9AP4rRX3nU",
        "outputId": "d7bbdf43-a86c-46bd-f3da-e1940a822ace",
        "colab": {
          "base_uri": "https://localhost:8080/"
        }
      },
      "source": [
        "stocks.info()"
      ],
      "execution_count": 21,
      "outputs": [
        {
          "output_type": "stream",
          "text": [
            "<class 'pandas.core.frame.DataFrame'>\n",
            "DatetimeIndex: 1593 entries, 2012-01-30 to 2018-05-25\n",
            "Data columns (total 5 columns):\n",
            " #   Column  Non-Null Count  Dtype  \n",
            "---  ------  --------------  -----  \n",
            " 0   Time    1592 non-null   object \n",
            " 1   Price   1592 non-null   float64\n",
            " 2   Bid     1592 non-null   float64\n",
            " 3   Ask     1592 non-null   float64\n",
            " 4   Size    1592 non-null   float64\n",
            "dtypes: float64(4), object(1)\n",
            "memory usage: 74.7+ KB\n"
          ],
          "name": "stdout"
        }
      ]
    },
    {
      "cell_type": "code",
      "metadata": {
        "id": "IQ5vV8iFTyrQ"
      },
      "source": [
        "#check nulls\n",
        "stocks.ffill(inplace = True)"
      ],
      "execution_count": 24,
      "outputs": []
    },
    {
      "cell_type": "code",
      "metadata": {
        "id": "ELmiGP7x7Tck",
        "outputId": "14aea33a-cfe8-4340-ace9-257abc4d0ed0",
        "colab": {
          "base_uri": "https://localhost:8080/"
        }
      },
      "source": [
        "stocks.isna().sum()"
      ],
      "execution_count": 25,
      "outputs": [
        {
          "output_type": "execute_result",
          "data": {
            "text/plain": [
              "Time     0\n",
              "Price    0\n",
              "Bid      0\n",
              "Ask      0\n",
              "Size     0\n",
              "dtype: int64"
            ]
          },
          "metadata": {
            "tags": []
          },
          "execution_count": 25
        }
      ]
    },
    {
      "cell_type": "markdown",
      "metadata": {
        "id": "l6OEEqcdp3hn"
      },
      "source": [
        "### Scrubbing News"
      ]
    },
    {
      "cell_type": "code",
      "metadata": {
        "id": "7alyNMzSph5O"
      },
      "source": [
        "#end date\n",
        "news.date.max()"
      ],
      "execution_count": null,
      "outputs": []
    },
    {
      "cell_type": "code",
      "metadata": {
        "id": "EX7DtioMpjoy"
      },
      "source": [
        "#start date\n",
        "news.date.min()"
      ],
      "execution_count": null,
      "outputs": []
    },
    {
      "cell_type": "code",
      "metadata": {
        "id": "uXQtITmhrOBi"
      },
      "source": [
        "news.head()"
      ],
      "execution_count": null,
      "outputs": []
    },
    {
      "cell_type": "code",
      "metadata": {
        "id": "-BeMZF-Ej4E8"
      },
      "source": [
        "news.info()"
      ],
      "execution_count": null,
      "outputs": []
    },
    {
      "cell_type": "code",
      "metadata": {
        "id": "H_Hua7k_jwZb"
      },
      "source": [
        "news.nunique()"
      ],
      "execution_count": null,
      "outputs": []
    },
    {
      "cell_type": "code",
      "metadata": {
        "id": "-OysOZ05qFyh"
      },
      "source": [
        "#check diff categories\n",
        "news.category.value_counts()"
      ],
      "execution_count": null,
      "outputs": []
    },
    {
      "cell_type": "code",
      "metadata": {
        "id": "16Opc79Mrh5N"
      },
      "source": [
        "#set index to date\n",
        "news.set_index('date', inplace= True)"
      ],
      "execution_count": null,
      "outputs": []
    },
    {
      "cell_type": "code",
      "metadata": {
        "id": "JDSAh9Q8rm3m"
      },
      "source": [
        "news.head(20)"
      ],
      "execution_count": null,
      "outputs": []
    },
    {
      "cell_type": "code",
      "metadata": {
        "id": "YBXRohWQkBBk"
      },
      "source": [
        "# import nltk\n",
        "# nltk.download('punkt')\n",
        "# nltk.download('stopwords')"
      ],
      "execution_count": null,
      "outputs": []
    },
    {
      "cell_type": "code",
      "metadata": {
        "id": "uVLHAagJj1dZ"
      },
      "source": [
        "# from nltk.tokenize import word_tokenize\n",
        "# from nltk.corpus import stopwords\n",
        "# import string"
      ],
      "execution_count": null,
      "outputs": []
    },
    {
      "cell_type": "code",
      "metadata": {
        "id": "9UQFB-oBmI72"
      },
      "source": [
        "#create stopwords list\n",
        "stopwords = stopwords.words('english')\n",
        "stopwords += list(string.punctuation)"
      ],
      "execution_count": null,
      "outputs": []
    },
    {
      "cell_type": "code",
      "metadata": {
        "id": "Nrb2snuond6N"
      },
      "source": [
        "#identify patterns to exclude\n",
        "pattern = \"([a-zA-Z]+(?:'[a-z]+)?)\"\n",
        "\n",
        "#create empty list\n",
        "news_tokens = []\n",
        "\n",
        "#iterate through headlines\n",
        "for headline in news.headline:\n",
        "  tokens = nltk.regexp_tokenize(headline, pattern)\n",
        "  stopped_token = [w.lower() for w in tokens if w.lower() not in stopwords]\n",
        "  stopped_token = \" \".join(stopped_token)\n",
        "  news_tokens.append(stopped_token)\n",
        "  news['clean'] = stopped_token"
      ],
      "execution_count": null,
      "outputs": []
    },
    {
      "cell_type": "code",
      "metadata": {
        "id": "g9tnbeHDLEfp"
      },
      "source": [
        "news.head()"
      ],
      "execution_count": null,
      "outputs": []
    },
    {
      "cell_type": "code",
      "metadata": {
        "id": "8H2X5ATxBomc"
      },
      "source": [
        "news_tokens[:200]"
      ],
      "execution_count": null,
      "outputs": []
    },
    {
      "cell_type": "code",
      "metadata": {
        "id": "qN4Qz9lAhgVq",
        "colab": {
          "background_save": true
        }
      },
      "source": [
        "#join into one string\n",
        "news_tokens = \" \".join(news_tokens)\n",
        "news_tokens"
      ],
      "execution_count": null,
      "outputs": []
    },
    {
      "cell_type": "code",
      "metadata": {
        "id": "wj-qNqDWjkj4",
        "colab": {
          "background_save": true
        }
      },
      "source": [
        "#tokenize final set\n",
        "final_tokenize = word_tokenize(news_tokens)\n",
        "final_tokenize[:50]"
      ],
      "execution_count": null,
      "outputs": []
    },
    {
      "cell_type": "code",
      "metadata": {
        "id": "nXrjrqKPpK6p",
        "colab": {
          "background_save": true
        }
      },
      "source": [
        "#remove 's from list\n",
        "final_tokenize = list(filter(lambda x: x != \"'s\", final_tokenize))"
      ],
      "execution_count": null,
      "outputs": []
    },
    {
      "cell_type": "code",
      "metadata": {
        "id": "HyRm2nd7rK7_",
        "colab": {
          "background_save": true
        }
      },
      "source": [
        "final_tokenize = list(filter(lambda x: x != \"u\", final_tokenize))"
      ],
      "execution_count": null,
      "outputs": []
    },
    {
      "cell_type": "code",
      "metadata": {
        "id": "yHHtL7j6oUIG",
        "colab": {
          "background_save": true
        }
      },
      "source": [
        "# from nltk import FreqDist\n"
      ],
      "execution_count": null,
      "outputs": []
    },
    {
      "cell_type": "code",
      "metadata": {
        "id": "d4kSCW7Po_-m",
        "colab": {
          "background_save": true
        }
      },
      "source": [
        "#identify top 50 most freq words\n",
        "freqdist = FreqDist(final_tokenize)\n",
        "most_common = freqdist.most_common(50)\n",
        "most_common"
      ],
      "execution_count": null,
      "outputs": []
    },
    {
      "cell_type": "code",
      "metadata": {
        "id": "B9aLfidqp_3v",
        "colab": {
          "background_save": true
        }
      },
      "source": [
        "#normlized word frequency of top 50\n",
        "total_word_count = sum(freqdist.values())\n",
        "most_common = freqdist.most_common(50)\n",
        "print('Word\\t\\t\\tNormalized Frequency')\n",
        "for word in most_common:\n",
        "  normalized_frequency = word[1] / total_word_count\n",
        "  print('{}\\t\\t\\t{:.4}'.format(word[0], normalized_frequency))"
      ],
      "execution_count": null,
      "outputs": []
    },
    {
      "cell_type": "code",
      "metadata": {
        "id": "ZOk0dAz0sK-l",
        "colab": {
          "background_save": true
        }
      },
      "source": [
        "#from nltk.collocations import *"
      ],
      "execution_count": null,
      "outputs": []
    },
    {
      "cell_type": "code",
      "metadata": {
        "id": "esU_82imrY9i"
      },
      "source": [
        "#create bigram to show word association\n",
        "bigram_measures = nltk.collocations.BigramAssocMeasures()\n",
        "news_finder = BigramCollocationFinder.from_words(final_tokenize)\n",
        "news_scored = news_finder.score_ngrams(bigram_measures.raw_freq)\n",
        "news_scored[:50]"
      ],
      "execution_count": null,
      "outputs": []
    },
    {
      "cell_type": "code",
      "metadata": {
        "id": "NUhYV7ksspiC"
      },
      "source": [
        "#create mutual information scores\n",
        "news_pmi_finder = BigramCollocationFinder.from_words(final_tokenize)\n",
        "news_pmi_finder.apply_freq_filter(5)\n",
        "news_pmi_scored = news_pmi_finder.score_ngrams(bigram_measures.pmi)\n",
        "news_pmi_scored[:50]"
      ],
      "execution_count": null,
      "outputs": []
    },
    {
      "cell_type": "markdown",
      "metadata": {
        "id": "86xW_lb8SQYu"
      },
      "source": [
        "#Explore"
      ]
    },
    {
      "cell_type": "markdown",
      "metadata": {
        "id": "KVOIpEwbZD5n"
      },
      "source": [
        "### Stocks Exploration"
      ]
    },
    {
      "cell_type": "markdown",
      "metadata": {
        "id": "0bRHxqWohk_A"
      },
      "source": [
        "###### Line Plot"
      ]
    },
    {
      "cell_type": "code",
      "metadata": {
        "id": "8vRptZfdZGKM",
        "outputId": "a3e6be1c-e55f-4601-8b12-c8512955a69f",
        "colab": {
          "base_uri": "https://localhost:8080/",
          "height": 375
        }
      },
      "source": [
        "#line plot of stocks price over the years\n",
        "fig = plt.figure(figsize = (15, 8))\n",
        "plt.plot(stocks['Price'])\n",
        "plt.title('Stock Price Through The Years')\n",
        "plt.ylabel('Price')\n",
        "plt.xlabel('Year');\n"
      ],
      "execution_count": 26,
      "outputs": [
        {
          "output_type": "display_data",
          "data": {
            "image/png": "[encoded data removed]",
            "text/plain": [
              "<Figure size 1080x576 with 1 Axes>"
            ]
          },
          "metadata": {
            "tags": [],
            "needs_background": "light"
          }
        }
      ]
    },
    {
      "cell_type": "markdown",
      "metadata": {
        "id": "73mIr_Rx0q3d"
      },
      "source": [
        "---"
      ]
    },
    {
      "cell_type": "markdown",
      "metadata": {
        "id": "er_xD-bkYkjw"
      },
      "source": [
        "###### Dot Plot"
      ]
    },
    {
      "cell_type": "code",
      "metadata": {
        "id": "-6oVhdqC2LUM",
        "outputId": "e19f8fd8-4bd4-4086-fedf-008e09bf98dc",
        "colab": {
          "base_uri": "https://localhost:8080/",
          "height": 375
        }
      },
      "source": [
        "#dot plot of stocks price over the years\n",
        "fig = plt.figure(2, figsize = (15, 8))\n",
        "plt.plot(stocks['Price'], '.')\n",
        "plt.title('Stock Price Through The Years')\n",
        "plt.ylabel('Price')\n",
        "plt.xlabel('Year');\n"
      ],
      "execution_count": 27,
      "outputs": [
        {
          "output_type": "display_data",
          "data": {
            "image/png": "[encoded data removed]",
            "text/plain": [
              "<Figure size 1080x576 with 1 Axes>"
            ]
          },
          "metadata": {
            "tags": [],
            "needs_background": "light"
          }
        }
      ]
    },
    {
      "cell_type": "markdown",
      "metadata": {
        "id": "poeuvpivYmkR"
      },
      "source": [
        "---"
      ]
    },
    {
      "cell_type": "markdown",
      "metadata": {
        "id": "1z4x5XID4ZrT"
      },
      "source": [
        "###### Rolling Statistics"
      ]
    },
    {
      "cell_type": "code",
      "metadata": {
        "id": "uQyvzMPK4ZHz"
      },
      "source": [
        "#identify rolling mean and rolling standard deviation\n",
        "roll_mean = stocks['Price'].rolling(window = 90, center = False).mean()\n",
        "roll_std = stocks['Price'].rolling(window = 90, center = False).std()"
      ],
      "execution_count": 28,
      "outputs": []
    },
    {
      "cell_type": "code",
      "metadata": {
        "id": "KiLB48MQ4rt6",
        "outputId": "ea03238c-4f49-409f-be08-fe651e88c215",
        "colab": {
          "base_uri": "https://localhost:8080/",
          "height": 382
        }
      },
      "source": [
        "#visualize rolling mean, rolling std, and original\n",
        "fig = plt.figure(figsize = (15, 8))\n",
        "plt.plot(stocks['Price'], color = 'blue', label = 'Original')\n",
        "plt.plot(roll_mean, color = 'green', label = 'Rolling Mean')\n",
        "plt.plot(roll_std, color = 'black', label = 'Rolling Std')\n",
        "plt.legend()\n",
        "plt.title('Rolling Mean & Standard Deviation')\n",
        "plt.xlabel('Year')\n",
        "plt.show()"
      ],
      "execution_count": 29,
      "outputs": [
        {
          "output_type": "display_data",
          "data": {
            "image/png": "[encoded data removed]",
            "text/plain": [
              "<Figure size 1080x576 with 1 Axes>"
            ]
          },
          "metadata": {
            "tags": [],
            "needs_background": "light"
          }
        }
      ]
    },
    {
      "cell_type": "markdown",
      "metadata": {
        "id": "ryDESIE0YoxY"
      },
      "source": [
        "---"
      ]
    },
    {
      "cell_type": "markdown",
      "metadata": {
        "id": "qlv7_4wz9Kyf"
      },
      "source": [
        "###### The Dickey-Fuller Test"
      ]
    },
    {
      "cell_type": "code",
      "metadata": {
        "id": "Ch9VZoNu9KYS",
        "outputId": "a0416d4a-01e1-4364-b048-0501927982d5",
        "colab": {
          "base_uri": "https://localhost:8080/"
        }
      },
      "source": [
        "dftest = adfuller(stocks['Price'])\n",
        "\n",
        "dfoutput = pd.Series(dftest[0:4], index = ['Test Statistic', 'p-value', '#Lags Used',\n",
        "                                           'Number of Observations Used'])\n",
        "for key, value in dftest[4].items():\n",
        "  dfoutput['Critical Values (%s)' %key] = value\n",
        "print(dftest)"
      ],
      "execution_count": 30,
      "outputs": [
        {
          "output_type": "stream",
          "text": [
            "(-1.1169362158182274, 0.7082708993443256, 5, 1587, {'1%': -3.43447722667209, '5%': -2.86336292616561, '10%': -2.567740491497354}, 3373.5166713832914)\n"
          ],
          "name": "stdout"
        }
      ]
    },
    {
      "cell_type": "code",
      "metadata": {
        "id": "qifW0Lj_90uM",
        "outputId": "d2f250dc-5444-45d6-9bb1-5fa63a187741",
        "colab": {
          "base_uri": "https://localhost:8080/"
        }
      },
      "source": [
        "print('Results of Dicky-Fuller test: \\n')\n",
        "\n",
        "print(dfoutput)"
      ],
      "execution_count": 31,
      "outputs": [
        {
          "output_type": "stream",
          "text": [
            "Results of Dicky-Fuller test: \n",
            "\n",
            "Test Statistic                   -1.116936\n",
            "p-value                           0.708271\n",
            "#Lags Used                        5.000000\n",
            "Number of Observations Used    1587.000000\n",
            "Critical Values (1%)             -3.434477\n",
            "Critical Values (5%)             -2.863363\n",
            "Critical Values (10%)            -2.567740\n",
            "dtype: float64\n"
          ],
          "name": "stdout"
        }
      ]
    },
    {
      "cell_type": "markdown",
      "metadata": {
        "id": "qufL13LW3pkT"
      },
      "source": [
        "**Summary:**\n",
        "- Not a stationary series\n",
        "- Linear upward trend\n",
        "- Slight drop near the end of 2015.\n"
      ]
    },
    {
      "cell_type": "markdown",
      "metadata": {
        "id": "TrTsA9ugYq9X"
      },
      "source": [
        "---"
      ]
    },
    {
      "cell_type": "markdown",
      "metadata": {
        "id": "H1Ue9wp0huy-"
      },
      "source": [
        "###### Histograms"
      ]
    },
    {
      "cell_type": "code",
      "metadata": {
        "id": "jRa9dxuuh0Xh",
        "outputId": "275151c1-d3b8-4de0-e6b4-fa8944d94d3b",
        "colab": {
          "base_uri": "https://localhost:8080/",
          "height": 306
        }
      },
      "source": [
        "#build histogram to check distribution\n",
        "fig, ax = plt.subplots(figsize = (12, 5))\n",
        "ax.hist(stocks['Price'])\n",
        "ax.set_title('Stock Price')\n",
        "plt.show()"
      ],
      "execution_count": 32,
      "outputs": [
        {
          "output_type": "display_data",
          "data": {
            "image/png": "[encoded data removed]",
            "text/plain": [
              "<Figure size 864x360 with 1 Axes>"
            ]
          },
          "metadata": {
            "tags": [],
            "needs_background": "light"
          }
        }
      ]
    },
    {
      "cell_type": "markdown",
      "metadata": {
        "id": "38Its6qrZCta"
      },
      "source": [
        "###### Density Plot"
      ]
    },
    {
      "cell_type": "code",
      "metadata": {
        "id": "3tXwqxMMiKPB",
        "outputId": "78624405-b18c-4a58-a140-d042c8b7e2a8",
        "colab": {
          "base_uri": "https://localhost:8080/",
          "height": 301
        }
      },
      "source": [
        "#build density plot to check distribution\n",
        "stocks['Price'].plot(kind = 'kde', figsize = (12, 5));\n",
        "ax.set_title('Density Plot of Stock Price')"
      ],
      "execution_count": 33,
      "outputs": [
        {
          "output_type": "execute_result",
          "data": {
            "text/plain": [
              "Text(0.5, 1.0, 'Density Plot of Stock Price')"
            ]
          },
          "metadata": {
            "tags": []
          },
          "execution_count": 33
        },
        {
          "output_type": "display_data",
          "data": {
            "image/png": "[encoded data removed]",
            "text/plain": [
              "<Figure size 864x360 with 1 Axes>"
            ]
          },
          "metadata": {
            "tags": [],
            "needs_background": "light"
          }
        }
      ]
    },
    {
      "cell_type": "markdown",
      "metadata": {
        "id": "QuOXNlooAa5t"
      },
      "source": [
        "#### Eliminating the trend"
      ]
    },
    {
      "cell_type": "markdown",
      "metadata": {
        "id": "2AGweExQ0YBR"
      },
      "source": [
        "##### Square Root Transform"
      ]
    },
    {
      "cell_type": "code",
      "metadata": {
        "id": "I3oKEOx0AeNF",
        "outputId": "94d41782-fc12-480a-bc3e-62322fc1f044",
        "colab": {
          "base_uri": "https://localhost:8080/",
          "height": 363
        }
      },
      "source": [
        "data = pd.Series(np.sqrt(stocks['Price']))\n",
        "fig = plt.figure(figsize = (15, 8))\n",
        "plt.plot(data, color = 'blue')\n",
        "plt.xlabel('Year')\n",
        "plt.ylabel('sqrt(yearly sales')\n",
        "plt.show()"
      ],
      "execution_count": 34,
      "outputs": [
        {
          "output_type": "display_data",
          "data": {
            "image/png": "[encoded data removed]",
            "text/plain": [
              "<Figure size 1080x576 with 1 Axes>"
            ]
          },
          "metadata": {
            "tags": [],
            "needs_background": "light"
          }
        }
      ]
    },
    {
      "cell_type": "markdown",
      "metadata": {
        "id": "HrXa0vmXzWmk"
      },
      "source": [
        "##### Log Transformation"
      ]
    },
    {
      "cell_type": "code",
      "metadata": {
        "id": "JoCF47rzAeVn",
        "outputId": "6871c469-aabb-4290-a606-32d5ed0089c4",
        "colab": {
          "base_uri": "https://localhost:8080/",
          "height": 365
        }
      },
      "source": [
        "data = pd.Series(np.log(stocks['Price']))\n",
        "fig = plt.figure(figsize = (15, 8))\n",
        "plt.plot(data, color = 'blue')\n",
        "plt.xlabel('Year')\n",
        "plt.ylabel('log(yearly sales')\n",
        "plt.show()"
      ],
      "execution_count": 35,
      "outputs": [
        {
          "output_type": "display_data",
          "data": {
            "image/png": "[encoded data removed]",
            "text/plain": [
              "<Figure size 1080x576 with 1 Axes>"
            ]
          },
          "metadata": {
            "tags": [],
            "needs_background": "light"
          }
        }
      ]
    },
    {
      "cell_type": "markdown",
      "metadata": {
        "id": "LtIunri20g-W"
      },
      "source": [
        "##### Differencing\n"
      ]
    },
    {
      "cell_type": "code",
      "metadata": {
        "id": "UxLcq63E1lZ0",
        "outputId": "6bd54a87-1df8-4d86-b1ed-73218be44742",
        "colab": {
          "base_uri": "https://localhost:8080/"
        }
      },
      "source": [
        "data_diff = data.diff(periods = 1)\n",
        "data_diff.head()"
      ],
      "execution_count": 36,
      "outputs": [
        {
          "output_type": "execute_result",
          "data": {
            "text/plain": [
              "Date\n",
              "2012-01-30         NaN\n",
              "2012-01-31   -0.001153\n",
              "2012-02-01    0.010985\n",
              "2012-02-02    0.002117\n",
              "2012-02-03    0.016780\n",
              "Name: Price, dtype: float64"
            ]
          },
          "metadata": {
            "tags": []
          },
          "execution_count": 36
        }
      ]
    },
    {
      "cell_type": "code",
      "metadata": {
        "id": "HleHEikx1uVN",
        "outputId": "8f0217ef-8c6e-45f5-b272-f074c764f05b",
        "colab": {
          "base_uri": "https://localhost:8080/",
          "height": 431
        }
      },
      "source": [
        "fig = plt.figure(figsize=(11,7))\n",
        "plt.plot(data_diff, color='blue',label='Stock Price - rolling mean')\n",
        "plt.legend(loc='best')\n",
        "plt.title('Differenced Stock Price series')\n",
        "plt.show(block=False)"
      ],
      "execution_count": 37,
      "outputs": [
        {
          "output_type": "display_data",
          "data": {
            "image/png": "[encoded data removed]",
            "text/plain": [
              "<Figure size 792x504 with 1 Axes>"
            ]
          },
          "metadata": {
            "tags": [],
            "needs_background": "light"
          }
        }
      ]
    },
    {
      "cell_type": "code",
      "metadata": {
        "id": "HIGUnaTqWGB_",
        "outputId": "b38eb478-db9e-492b-b49b-02e046e60646",
        "colab": {
          "base_uri": "https://localhost:8080/"
        }
      },
      "source": [
        "data_diff = data.diff().dropna()\n",
        "data_diff.head()"
      ],
      "execution_count": 38,
      "outputs": [
        {
          "output_type": "execute_result",
          "data": {
            "text/plain": [
              "Date\n",
              "2012-01-31   -0.001153\n",
              "2012-02-01    0.010985\n",
              "2012-02-02    0.002117\n",
              "2012-02-03    0.016780\n",
              "2012-02-06   -0.000800\n",
              "Name: Price, dtype: float64"
            ]
          },
          "metadata": {
            "tags": []
          },
          "execution_count": 38
        }
      ]
    },
    {
      "cell_type": "markdown",
      "metadata": {
        "id": "WPCp3r9dq20n"
      },
      "source": [
        "### News Exploration"
      ]
    },
    {
      "cell_type": "code",
      "metadata": {
        "id": "6gQRLAJ3q8Cu"
      },
      "source": [
        "fig = plt.figure(figsize = (15, 8))\n",
        "g = sns.displot(news.category, height = 5, aspect = 2)\n",
        "g.set_xticklabels(rotation = 80)\n",
        "plt.title('Headline Count of Each Genre');"
      ],
      "execution_count": null,
      "outputs": []
    },
    {
      "cell_type": "code",
      "metadata": {
        "id": "b8dtkWF4rpdf"
      },
      "source": [
        "news['year'] = news.index.to_series().apply(lambda x: x.year)"
      ],
      "execution_count": null,
      "outputs": []
    },
    {
      "cell_type": "code",
      "metadata": {
        "id": "SC8sBi14r2EJ"
      },
      "source": [
        "news.head()"
      ],
      "execution_count": null,
      "outputs": []
    },
    {
      "cell_type": "code",
      "metadata": {
        "id": "6qVl4w6hr4k0"
      },
      "source": [
        "sns.displot(news.year)\n",
        "plt.title('Headline Count per Year');"
      ],
      "execution_count": null,
      "outputs": []
    },
    {
      "cell_type": "markdown",
      "metadata": {
        "id": "wW1JNFjgFm9O"
      },
      "source": [
        "PLOT MOST COMMON WORDS HERE"
      ]
    },
    {
      "cell_type": "markdown",
      "metadata": {
        "id": "dtOafKs4SQR_"
      },
      "source": [
        "#Model"
      ]
    },
    {
      "cell_type": "markdown",
      "metadata": {
        "id": "Zy0OLuv7BOw1"
      },
      "source": [
        "## Stocks Time Series Models"
      ]
    },
    {
      "cell_type": "markdown",
      "metadata": {
        "id": "qAws9pSXBT9g"
      },
      "source": [
        "##### Random Walk Model\n",
        "- no specified mean or variance\n",
        "- a strong dependence over time"
      ]
    },
    {
      "cell_type": "code",
      "metadata": {
        "id": "iUx-9rMDEJRW"
      },
      "source": [
        "#series with the specified dates\n",
        "work = pd.date_range('2012-01-28', '2018-05-26', freq = 'B')\n",
        "\n",
        "#white noise error \n",
        "error = np.random.normal(0, 10, len(work))\n",
        "\n",
        "#random walk\n",
        "def random_walk(start, error):\n",
        "  Y_0 = start\n",
        "  cum_error = np.cumsum(error)\n",
        "  Y = cum_error + Y_0\n",
        "  return Y\n",
        "\n",
        "#value of share on first date\n",
        "share_value = random_walk(61, error)\n",
        "\n",
        "shares_series = pd.Series(share_value, index = work)"
      ],
      "execution_count": 39,
      "outputs": []
    },
    {
      "cell_type": "code",
      "metadata": {
        "id": "9SvsMVBFF1FL",
        "outputId": "6dc13e3c-1c37-47c6-bb67-e06ce09dbf63",
        "colab": {
          "base_uri": "https://localhost:8080/",
          "height": 375
        }
      },
      "source": [
        "#plt random walk visualization\n",
        "ax = shares_series.plot(figsize = (15, 8))\n",
        "ax.set_xlabel('Date')\n",
        "ax.set_ylabel('Stock Price')\n",
        "ax.set_title('Random Walk')\n",
        "plt.show()"
      ],
      "execution_count": 40,
      "outputs": [
        {
          "output_type": "display_data",
          "data": {
            "image/png": "[encoded data removed]",
            "text/plain": [
              "<Figure size 1080x576 with 1 Axes>"
            ]
          },
          "metadata": {
            "tags": [],
            "needs_background": "light"
          }
        }
      ]
    },
    {
      "cell_type": "markdown",
      "metadata": {
        "id": "xvRkmb1wHOzo"
      },
      "source": [
        "##### Random Walk with a Drift"
      ]
    },
    {
      "cell_type": "code",
      "metadata": {
        "id": "SX0Ld5QTHgXt"
      },
      "source": [
        "#series with the specified dates\n",
        "work = pd.date_range('2012-01-28', '2018-05-26', freq = 'B')\n",
        "\n",
        "#white noise error \n",
        "error = np.random.normal(0, 10, len(work))\n",
        "\n",
        "#random walk\n",
        "def random_walk(start, error):\n",
        "  Y_0 = start\n",
        "  #add drift of 8\n",
        "  cum_error = np.cumsum(error + 8)\n",
        "  Y = cum_error + Y_0\n",
        "  return Y\n",
        "\n",
        "#value of share on first date\n",
        "share_value_drift = random_walk(61, error)\n",
        "\n",
        "shares_series_diff = pd.Series(share_value_drift, index = work)"
      ],
      "execution_count": 41,
      "outputs": []
    },
    {
      "cell_type": "code",
      "metadata": {
        "id": "AI2LJ8AYHlBP",
        "outputId": "dd4e703c-2ba7-4874-f2b2-47af66f93cbc",
        "colab": {
          "base_uri": "https://localhost:8080/",
          "height": 371
        }
      },
      "source": [
        "#plot random walk with drift visualization\n",
        "ax = shares_series_diff.plot(figsize = (15, 8))\n",
        "ax.set_xlabel('Date')\n",
        "ax.set_ylabel('Stock Price')\n",
        "ax.set_title('Random Walk with Drift')\n",
        "plt.show()"
      ],
      "execution_count": 42,
      "outputs": [
        {
          "output_type": "display_data",
          "data": {
            "image/png": "[encoded data removed]",
            "text/plain": [
              "<Figure size 1080x576 with 1 Axes>"
            ]
          },
          "metadata": {
            "tags": [],
            "needs_background": "light"
          }
        }
      ]
    },
    {
      "cell_type": "markdown",
      "metadata": {
        "id": "vhjuRkqRN_qd"
      },
      "source": [
        "##### Differencing in a Random Walk Model"
      ]
    },
    {
      "cell_type": "code",
      "metadata": {
        "id": "kqH1P_syOCRS",
        "outputId": "3546974b-1887-45d3-b6f0-fbc10585aeb9",
        "colab": {
          "base_uri": "https://localhost:8080/",
          "height": 371
        }
      },
      "source": [
        "#no drift\n",
        "shares_diff = shares_series.diff(periods = 1)\n",
        "\n",
        "fig = plt.figure(figsize = (15, 8))\n",
        "plt.plot(shares_diff)\n",
        "plt.title('Differenced Shares Series')\n",
        "plt.show()"
      ],
      "execution_count": 43,
      "outputs": [
        {
          "output_type": "display_data",
          "data": {
            "image/png": "[encoded data removed]",
            "text/plain": [
              "<Figure size 1080x576 with 1 Axes>"
            ]
          },
          "metadata": {
            "tags": [],
            "needs_background": "light"
          }
        }
      ]
    },
    {
      "cell_type": "code",
      "metadata": {
        "id": "bF-yWTnOO8ke",
        "outputId": "a8490cac-dad9-4647-fd52-e00855c8467c",
        "colab": {
          "base_uri": "https://localhost:8080/",
          "height": 371
        }
      },
      "source": [
        "#drift\n",
        "shares_drift_diff = shares_series_diff.diff(periods = 1)\n",
        "\n",
        "fig = plt.figure(figsize = (15, 8))\n",
        "plt.plot(shares_drift_diff)\n",
        "plt.title('Differenced Shares Series')\n",
        "plt.show()"
      ],
      "execution_count": 44,
      "outputs": [
        {
          "output_type": "display_data",
          "data": {
            "image/png": "[encoded data removed]",
            "text/plain": [
              "<Figure size 1080x576 with 1 Axes>"
            ]
          },
          "metadata": {
            "tags": [],
            "needs_background": "light"
          }
        }
      ]
    },
    {
      "cell_type": "markdown",
      "metadata": {
        "id": "f7tkmgC9B9uG"
      },
      "source": [
        "##### ARMA Model "
      ]
    },
    {
      "cell_type": "code",
      "metadata": {
        "id": "kCmKsjnZdXoH",
        "outputId": "f8459256-ad55-40e7-cef2-73791419eb04",
        "colab": {
          "base_uri": "https://localhost:8080/"
        }
      },
      "source": [
        "data_diff.head()"
      ],
      "execution_count": 45,
      "outputs": [
        {
          "output_type": "execute_result",
          "data": {
            "text/plain": [
              "Date\n",
              "2012-01-31   -0.001153\n",
              "2012-02-01    0.010985\n",
              "2012-02-02    0.002117\n",
              "2012-02-03    0.016780\n",
              "2012-02-06   -0.000800\n",
              "Name: Price, dtype: float64"
            ]
          },
          "metadata": {
            "tags": []
          },
          "execution_count": 45
        }
      ]
    },
    {
      "cell_type": "code",
      "metadata": {
        "id": "ZjTjQQsc6dSY"
      },
      "source": [
        "#set index to be business days\n",
        "data_diff.index = pd.DatetimeIndex(data_diff.index).to_period('B')"
      ],
      "execution_count": 46,
      "outputs": []
    },
    {
      "cell_type": "code",
      "metadata": {
        "id": "c-ztdSpfB9Gv",
        "outputId": "2a88f66a-e21d-4676-ff79-c6ca2876ec38",
        "colab": {
          "base_uri": "https://localhost:8080/",
          "height": 226
        }
      },
      "source": [
        "#plotting the ACF\n",
        "#from statsmodels.graphics.tsaplots import plot_acf\n",
        "fig, ax = plt.subplots(figsize = (8, 3))\n",
        "\n",
        "plot_acf(data_diff, ax = ax, lags = 8);"
      ],
      "execution_count": 47,
      "outputs": [
        {
          "output_type": "display_data",
          "data": {
            "image/png": "[encoded data removed]",
            "text/plain": [
              "<Figure size 576x216 with 1 Axes>"
            ]
          },
          "metadata": {
            "tags": [],
            "needs_background": "light"
          }
        }
      ]
    },
    {
      "cell_type": "code",
      "metadata": {
        "id": "DhruE7zxRAQe",
        "outputId": "a89ec4e1-a4f6-456b-e5c0-893a08cdd73f",
        "colab": {
          "base_uri": "https://localhost:8080/",
          "height": 226
        }
      },
      "source": [
        "#plotting PACF\n",
        "#from statsmodels.graphics.tsaplots import plot_pacf\n",
        "fig, ax = plt.subplots(figsize= (8, 3))\n",
        "plot_pacf(data_diff, ax = ax, lags = 8);"
      ],
      "execution_count": 48,
      "outputs": [
        {
          "output_type": "display_data",
          "data": {
            "image/png": "[encoded data removed]",
            "text/plain": [
              "<Figure size 576x216 with 1 Axes>"
            ]
          },
          "metadata": {
            "tags": [],
            "needs_background": "light"
          }
        }
      ]
    },
    {
      "cell_type": "code",
      "metadata": {
        "id": "yVHaeROqR8li",
        "outputId": "6d7a1738-fd19-4c01-e922-44a4ac02e01b",
        "colab": {
          "base_uri": "https://localhost:8080/"
        }
      },
      "source": [
        "#import arma\n",
        "#from statsmodels.tsa.arima_model import ARMA\n",
        "\n",
        "#fit an ARMA 1 model\n",
        "mod_arma = ARMA(data_diff, order = (1,0))\n",
        "res_arma = mod_arma.fit()\n",
        "\n",
        "print(res_arma.summary())"
      ],
      "execution_count": 49,
      "outputs": [
        {
          "output_type": "stream",
          "text": [
            "                              ARMA Model Results                              \n",
            "==============================================================================\n",
            "Dep. Variable:                  Price   No. Observations:                 1592\n",
            "Model:                     ARMA(1, 0)   Log Likelihood                5418.016\n",
            "Method:                       css-mle   S.D. of innovations              0.008\n",
            "Date:                Mon, 16 Nov 2020   AIC                         -10830.032\n",
            "Time:                        19:58:55   BIC                         -10813.914\n",
            "Sample:                    01-31-2012   HQIC                        -10824.045\n",
            "                         - 05-25-2018                                         \n",
            "===============================================================================\n",
            "                  coef    std err          z      P>|z|      [0.025      0.975]\n",
            "-------------------------------------------------------------------------------\n",
            "const           0.0004      0.000      1.899      0.058   -1.22e-05       0.001\n",
            "ar.L1.Price    -0.0105      0.025     -0.417      0.677      -0.060       0.039\n",
            "                                    Roots                                    \n",
            "=============================================================================\n",
            "                  Real          Imaginary           Modulus         Frequency\n",
            "-----------------------------------------------------------------------------\n",
            "AR.1          -95.6846           +0.0000j           95.6846            0.5000\n",
            "-----------------------------------------------------------------------------\n"
          ],
          "name": "stdout"
        }
      ]
    },
    {
      "cell_type": "code",
      "metadata": {
        "id": "amhcjdlDnTVx",
        "outputId": "4e02d1cc-3290-445a-e5c5-89fd56edb760",
        "colab": {
          "base_uri": "https://localhost:8080/"
        }
      },
      "source": [
        "#ARMA 2\n",
        "mod_arma = ARMA(data_diff, order = (2,2))\n",
        "res_arma = mod_arma.fit()\n",
        "\n",
        "print(res_arma.summary())"
      ],
      "execution_count": 50,
      "outputs": [
        {
          "output_type": "stream",
          "text": [
            "                              ARMA Model Results                              \n",
            "==============================================================================\n",
            "Dep. Variable:                  Price   No. Observations:                 1592\n",
            "Model:                     ARMA(2, 2)   Log Likelihood                5422.044\n",
            "Method:                       css-mle   S.D. of innovations              0.008\n",
            "Date:                Mon, 16 Nov 2020   AIC                         -10832.088\n",
            "Time:                        19:58:59   BIC                         -10799.852\n",
            "Sample:                    01-31-2012   HQIC                        -10820.115\n",
            "                         - 05-25-2018                                         \n",
            "===============================================================================\n",
            "                  coef    std err          z      P>|z|      [0.025      0.975]\n",
            "-------------------------------------------------------------------------------\n",
            "const           0.0004      0.000      3.207      0.001       0.000       0.001\n",
            "ar.L1.Price     0.3425      0.350      0.979      0.327      -0.343       1.028\n",
            "ar.L2.Price     0.5700      0.334      1.709      0.088      -0.084       1.224\n",
            "ma.L1.Price    -0.3491      0.344     -1.015      0.310      -1.023       0.325\n",
            "ma.L2.Price    -0.6004      0.335     -1.795      0.073      -1.256       0.055\n",
            "                                    Roots                                    \n",
            "=============================================================================\n",
            "                  Real          Imaginary           Modulus         Frequency\n",
            "-----------------------------------------------------------------------------\n",
            "AR.1            1.0577           +0.0000j            1.0577            0.0000\n",
            "AR.2           -1.6586           +0.0000j            1.6586            0.5000\n",
            "MA.1            1.0322           +0.0000j            1.0322            0.0000\n",
            "MA.2           -1.6137           +0.0000j            1.6137            0.5000\n",
            "-----------------------------------------------------------------------------\n"
          ],
          "name": "stdout"
        }
      ]
    },
    {
      "cell_type": "code",
      "metadata": {
        "id": "f_yWknDSqb5O",
        "outputId": "76171422-9688-4ca6-82c8-abc784534aab",
        "colab": {
          "base_uri": "https://localhost:8080/"
        }
      },
      "source": [
        "#ARMA 3\n",
        "mod_arma = ARMA(data_diff, order = (4,3))\n",
        "res_arma = mod_arma.fit()\n",
        "\n",
        "print(res_arma.summary())"
      ],
      "execution_count": 51,
      "outputs": [
        {
          "output_type": "stream",
          "text": [
            "                              ARMA Model Results                              \n",
            "==============================================================================\n",
            "Dep. Variable:                  Price   No. Observations:                 1592\n",
            "Model:                     ARMA(4, 3)   Log Likelihood                5426.120\n",
            "Method:                       css-mle   S.D. of innovations              0.008\n",
            "Date:                Mon, 16 Nov 2020   AIC                         -10834.240\n",
            "Time:                        19:59:03   BIC                         -10785.885\n",
            "Sample:                    01-31-2012   HQIC                        -10816.280\n",
            "                         - 05-25-2018                                         \n",
            "===============================================================================\n",
            "                  coef    std err          z      P>|z|      [0.025      0.975]\n",
            "-------------------------------------------------------------------------------\n",
            "const           0.0004      0.000      2.354      0.019    6.31e-05       0.001\n",
            "ar.L1.Price     1.1466      0.243      4.716      0.000       0.670       1.623\n",
            "ar.L2.Price    -1.1957      0.095    -12.570      0.000      -1.382      -1.009\n",
            "ar.L3.Price     0.7593      0.238      3.185      0.001       0.292       1.227\n",
            "ar.L4.Price    -0.0485      0.037     -1.325      0.185      -0.120       0.023\n",
            "ma.L1.Price    -1.1621      0.243     -4.776      0.000      -1.639      -0.685\n",
            "ma.L2.Price     1.1944      0.110     10.839      0.000       0.978       1.410\n",
            "ma.L3.Price    -0.7627      0.248     -3.072      0.002      -1.249      -0.276\n",
            "                                    Roots                                    \n",
            "=============================================================================\n",
            "                  Real          Imaginary           Modulus         Frequency\n",
            "-----------------------------------------------------------------------------\n",
            "AR.1            0.1733           -1.0497j            1.0639           -0.2240\n",
            "AR.2            0.1733           +1.0497j            1.0639            0.2240\n",
            "AR.3            1.3004           -0.0000j            1.3004           -0.0000\n",
            "AR.4           14.0015           -0.0000j           14.0015           -0.0000\n",
            "MA.1            1.2047           -0.0000j            1.2047           -0.0000\n",
            "MA.2            0.1807           -1.0275j            1.0433           -0.2223\n",
            "MA.3            0.1807           +1.0275j            1.0433            0.2223\n",
            "-----------------------------------------------------------------------------\n"
          ],
          "name": "stdout"
        }
      ]
    },
    {
      "cell_type": "markdown",
      "metadata": {
        "id": "sHK-jQyPrFWC"
      },
      "source": [
        "> Attempted higher order numbers but received RunTime errors."
      ]
    },
    {
      "cell_type": "markdown",
      "metadata": {
        "id": "hTvPy90a3gsf"
      },
      "source": [
        "##### STOCKS TIME SERIES"
      ]
    },
    {
      "cell_type": "code",
      "metadata": {
        "id": "pPC_4FXKe-7I",
        "outputId": "4864ede3-d8d4-4991-e06d-028b3a5da116",
        "colab": {
          "base_uri": "https://localhost:8080/",
          "height": 502
        }
      },
      "source": [
        "#replace any 0 values\n",
        "stocks_ts = stocks[['Price']]\n",
        "stocks_ts[stocks_ts == 0] = np.nan\n",
        "stocks_ts = stocks_ts.ffill()\n",
        "\n",
        "#select a shorter time period\n",
        "stocks_ts = stocks_ts.loc['2012':'2018']\n",
        "stocks_ts.plot()\n"
      ],
      "execution_count": 293,
      "outputs": [
        {
          "output_type": "stream",
          "text": [
            "/usr/local/lib/python3.6/dist-packages/ipykernel_launcher.py:3: SettingWithCopyWarning: \n",
            "A value is trying to be set on a copy of a slice from a DataFrame.\n",
            "Try using .loc[row_indexer,col_indexer] = value instead\n",
            "\n",
            "See the caveats in the documentation: https://pandas.pydata.org/pandas-docs/stable/user_guide/indexing.html#returning-a-view-versus-a-copy\n",
            "  This is separate from the ipykernel package so we can avoid doing imports until\n",
            "/usr/local/lib/python3.6/dist-packages/pandas/core/frame.py:3093: SettingWithCopyWarning: \n",
            "A value is trying to be set on a copy of a slice from a DataFrame\n",
            "\n",
            "See the caveats in the documentation: https://pandas.pydata.org/pandas-docs/stable/user_guide/indexing.html#returning-a-view-versus-a-copy\n",
            "  self._where(-key, value, inplace=True)\n"
          ],
          "name": "stderr"
        },
        {
          "output_type": "execute_result",
          "data": {
            "text/plain": [
              "<matplotlib.axes._subplots.AxesSubplot at 0x7fefa6555d30>"
            ]
          },
          "metadata": {
            "tags": []
          },
          "execution_count": 293
        },
        {
          "output_type": "display_data",
          "data": {
            "image/png": "[encoded data removed]",
            "text/plain": [
              "<Figure size 432x288 with 1 Axes>"
            ]
          },
          "metadata": {
            "tags": [],
            "needs_background": "light"
          }
        }
      ]
    },
    {
      "cell_type": "code",
      "metadata": {
        "id": "HLTZYkWL03Hn"
      },
      "source": [
        "#set index to datetime business days\n",
        "stocks_ts.index = pd.DatetimeIndex(stocks_ts.index).to_period('B')"
      ],
      "execution_count": 294,
      "outputs": []
    },
    {
      "cell_type": "code",
      "metadata": {
        "id": "_RzL0Qrbf2yV",
        "outputId": "46f8283f-4504-4f10-b443-1a08217d7a8a",
        "colab": {
          "base_uri": "https://localhost:8080/",
          "height": 227
        }
      },
      "source": [
        "stocks_ts.head()"
      ],
      "execution_count": 295,
      "outputs": [
        {
          "output_type": "execute_result",
          "data": {
            "text/html": [
              "<div>\n",
              "<style scoped>\n",
              "    .dataframe tbody tr th:only-of-type {\n",
              "        vertical-align: middle;\n",
              "    }\n",
              "\n",
              "    .dataframe tbody tr th {\n",
              "        vertical-align: top;\n",
              "    }\n",
              "\n",
              "    .dataframe thead th {\n",
              "        text-align: right;\n",
              "    }\n",
              "</style>\n",
              "<table border=\"1\" class=\"dataframe\">\n",
              "  <thead>\n",
              "    <tr style=\"text-align: right;\">\n",
              "      <th></th>\n",
              "      <th>Price</th>\n",
              "    </tr>\n",
              "    <tr>\n",
              "      <th>Date</th>\n",
              "      <th></th>\n",
              "    </tr>\n",
              "  </thead>\n",
              "  <tbody>\n",
              "    <tr>\n",
              "      <th>2012-01-30</th>\n",
              "      <td>60.73</td>\n",
              "    </tr>\n",
              "    <tr>\n",
              "      <th>2012-01-31</th>\n",
              "      <td>60.66</td>\n",
              "    </tr>\n",
              "    <tr>\n",
              "      <th>2012-02-01</th>\n",
              "      <td>61.33</td>\n",
              "    </tr>\n",
              "    <tr>\n",
              "      <th>2012-02-02</th>\n",
              "      <td>61.46</td>\n",
              "    </tr>\n",
              "    <tr>\n",
              "      <th>2012-02-03</th>\n",
              "      <td>62.50</td>\n",
              "    </tr>\n",
              "  </tbody>\n",
              "</table>\n",
              "</div>"
            ],
            "text/plain": [
              "            Price\n",
              "Date             \n",
              "2012-01-30  60.73\n",
              "2012-01-31  60.66\n",
              "2012-02-01  61.33\n",
              "2012-02-02  61.46\n",
              "2012-02-03  62.50"
            ]
          },
          "metadata": {
            "tags": []
          },
          "execution_count": 295
        }
      ]
    },
    {
      "cell_type": "code",
      "metadata": {
        "id": "Q9ssx9Ez5ebC",
        "outputId": "b80ae286-866a-4880-9dbf-b37b9de379d5",
        "colab": {
          "base_uri": "https://localhost:8080/"
        }
      },
      "source": [
        "#check for nulls\n",
        "stocks_ts.isna().sum()"
      ],
      "execution_count": 296,
      "outputs": [
        {
          "output_type": "execute_result",
          "data": {
            "text/plain": [
              "Price    0\n",
              "dtype: int64"
            ]
          },
          "metadata": {
            "tags": []
          },
          "execution_count": 296
        }
      ]
    },
    {
      "cell_type": "code",
      "metadata": {
        "id": "hkiVJX8UCv5R",
        "outputId": "e8fdbf17-ace4-4935-999f-559ae9c4c3b2",
        "colab": {
          "base_uri": "https://localhost:8080/"
        }
      },
      "source": [
        "len(stocks_ts)"
      ],
      "execution_count": 297,
      "outputs": [
        {
          "output_type": "execute_result",
          "data": {
            "text/plain": [
              "1593"
            ]
          },
          "metadata": {
            "tags": []
          },
          "execution_count": 297
        }
      ]
    },
    {
      "cell_type": "code",
      "metadata": {
        "id": "WBPeCT3O33Xu",
        "outputId": "387bed60-94b7-48a5-d652-e68b1ad93781",
        "colab": {
          "base_uri": "https://localhost:8080/",
          "height": 278
        }
      },
      "source": [
        "#train test split\n",
        "int_split = round(len(stocks_ts)*.8) \n",
        "train = stocks_ts.iloc[:int_split]\n",
        "test = stocks_ts.iloc[int_split:]\n",
        "\n",
        "#visualize\n",
        "fig, ax = plt.subplots()\n",
        "\n",
        "train.plot(ax = ax)\n",
        "test.plot(ax = ax);\n",
        "L = plt.legend()\n",
        "L.get_texts()[0].set_text('Train')\n",
        "L.get_texts()[1].set_text('Test')"
      ],
      "execution_count": 300,
      "outputs": [
        {
          "output_type": "display_data",
          "data": {
            "image/png": "[encoded data removed]",
            "text/plain": [
              "<Figure size 432x288 with 1 Axes>"
            ]
          },
          "metadata": {
            "tags": [],
            "needs_background": "light"
          }
        }
      ]
    },
    {
      "cell_type": "code",
      "metadata": {
        "id": "UVmrmXICd02L",
        "outputId": "62ae360a-c66c-4680-8b06-1475aaf152dd",
        "colab": {
          "base_uri": "https://localhost:8080/"
        }
      },
      "source": [
        "#from sklearn.preprocessing import MinMaxScaler\n",
        "#instantiate scaler\n",
        "scaler = MinMaxScaler()\n",
        "X_train = scaler.fit_transform(train) \n",
        "X_test = scaler.transform(test) \n",
        "\n",
        "X_train"
      ],
      "execution_count": 277,
      "outputs": [
        {
          "output_type": "execute_result",
          "data": {
            "text/plain": [
              "array([[0.05599666],\n",
              "       [0.05453406],\n",
              "       [0.06853322],\n",
              "       ...,\n",
              "       [0.98244881],\n",
              "       [0.98495612],\n",
              "       [1.        ]])"
            ]
          },
          "metadata": {
            "tags": []
          },
          "execution_count": 277
        }
      ]
    },
    {
      "cell_type": "code",
      "metadata": {
        "id": "SlxUzuu6gNC7",
        "outputId": "92220104-3c72-4fb6-b112-a8fcd8a78bd4",
        "colab": {
          "base_uri": "https://localhost:8080/",
          "height": 278
        }
      },
      "source": [
        "#convert to dataframe\n",
        "X_train = pd.DataFrame(X_train, index = train.index, columns = ['Price'])\n",
        "X_test = pd.DataFrame(X_test, index = test.index, columns = ['Price'])\n",
        "\n",
        "fig, ax = plt.subplots()\n",
        "X_train.plot(ax = ax)\n",
        "X_test.plot(ax = ax)\n",
        "L = plt.legend()\n",
        "L.get_texts()[0].set_text('Train')\n",
        "L.get_texts()[1].set_text('Test')"
      ],
      "execution_count": 301,
      "outputs": [
        {
          "output_type": "display_data",
          "data": {
            "image/png": "[encoded data removed]",
            "text/plain": [
              "<Figure size 432x288 with 1 Axes>"
            ]
          },
          "metadata": {
            "tags": [],
            "needs_background": "light"
          }
        }
      ]
    },
    {
      "cell_type": "code",
      "metadata": {
        "id": "KIjYs6cGGTh-",
        "outputId": "3ce5d00b-7e1e-429a-df78-47d7243b406a",
        "colab": {
          "base_uri": "https://localhost:8080/"
        }
      },
      "source": [
        "series[:1]"
      ],
      "execution_count": 338,
      "outputs": [
        {
          "output_type": "execute_result",
          "data": {
            "text/plain": [
              "array([[0.05599666]])"
            ]
          },
          "metadata": {
            "tags": []
          },
          "execution_count": 338
        }
      ]
    },
    {
      "cell_type": "code",
      "metadata": {
        "id": "EsdgOsyjgqnm",
        "outputId": "611df25b-343d-4382-b59a-89d14da0c8b7",
        "colab": {
          "base_uri": "https://localhost:8080/"
        }
      },
      "source": [
        "#set feature number\n",
        "n_features = X_train.shape[1]\n",
        "\n",
        "series = X_train.values\n",
        "series = series.reshape((len(series), n_features))\n",
        "series"
      ],
      "execution_count": 302,
      "outputs": [
        {
          "output_type": "execute_result",
          "data": {
            "text/plain": [
              "array([[0.05599666],\n",
              "       [0.05453406],\n",
              "       [0.06853322],\n",
              "       ...,\n",
              "       [0.98244881],\n",
              "       [0.98495612],\n",
              "       [1.        ]])"
            ]
          },
          "metadata": {
            "tags": []
          },
          "execution_count": 302
        }
      ]
    },
    {
      "cell_type": "code",
      "metadata": {
        "id": "N9iuKJbU6sTo"
      },
      "source": [
        "#from keras.preprocessing.sequence import TimeseriesGenerator"
      ],
      "execution_count": 280,
      "outputs": []
    },
    {
      "cell_type": "code",
      "metadata": {
        "id": "j6Bh_-Kygz67",
        "outputId": "60d67086-a121-4dfd-8005-01a951d8cc6b",
        "colab": {
          "base_uri": "https://localhost:8080/"
        }
      },
      "source": [
        "#number of timesteps for the sequences \n",
        "length = 50\n",
        "\n",
        "#create time series generator\n",
        "generator = TimeseriesGenerator(series, series, length, batch_size = 32)\n",
        "generator\n"
      ],
      "execution_count": 340,
      "outputs": [
        {
          "output_type": "execute_result",
          "data": {
            "text/plain": [
              "<tensorflow.python.keras.preprocessing.sequence.TimeseriesGenerator at 0x7fefa8d8b208>"
            ]
          },
          "metadata": {
            "tags": []
          },
          "execution_count": 340
        }
      ]
    },
    {
      "cell_type": "code",
      "metadata": {
        "id": "OyrxsElDhTm_",
        "outputId": "cb979610-9766-48c3-cdad-e7a48a5650ee",
        "colab": {
          "base_uri": "https://localhost:8080/"
        }
      },
      "source": [
        "#testing out ind. output\n",
        "ex_X, ex_y = generator[1]\n",
        "ex_X.shape"
      ],
      "execution_count": 304,
      "outputs": [
        {
          "output_type": "execute_result",
          "data": {
            "text/plain": [
              "(32, 50, 1)"
            ]
          },
          "metadata": {
            "tags": []
          },
          "execution_count": 304
        }
      ]
    },
    {
      "cell_type": "code",
      "metadata": {
        "id": "Ktbp1IdPhe-2"
      },
      "source": [
        "#create test data\n",
        "test_series = X_test.values \n",
        "test_series = test_series.reshape((len(test_series), n_features))\n",
        "test_gen = TimeseriesGenerator(test_series, test_series, length, batch_size = 32)\n"
      ],
      "execution_count": 305,
      "outputs": []
    },
    {
      "cell_type": "code",
      "metadata": {
        "id": "lsESfgwV7cm6"
      },
      "source": [
        "# from tensorflow.keras.models import Sequential\n",
        "# from tensorflow.keras.layers import Dense, LSTM, Bidirectional, Dropout\n",
        "# from tensorflow.keras import optimizers \n",
        "# from tensorflow.keras.regularizers import l2"
      ],
      "execution_count": 284,
      "outputs": []
    },
    {
      "cell_type": "code",
      "metadata": {
        "id": "RQT0DjTu3ivJ",
        "outputId": "d220b171-7989-4139-eccd-541b41f7604a",
        "colab": {
          "base_uri": "https://localhost:8080/"
        }
      },
      "source": [
        "#define generator\n",
        "input_shape = (length, n_features)\n",
        "#number of samples\n",
        "print('Samples: %d' % len(generator))\n"
      ],
      "execution_count": 306,
      "outputs": [
        {
          "output_type": "stream",
          "text": [
            "Samples: 39\n"
          ],
          "name": "stdout"
        }
      ]
    },
    {
      "cell_type": "code",
      "metadata": {
        "id": "5g6e8qtc66ic",
        "outputId": "5bea352c-c1a2-4233-9232-4b31e28ae95b",
        "colab": {
          "base_uri": "https://localhost:8080/",
          "height": 1000
        }
      },
      "source": [
        "#define model\n",
        "model = Sequential()\n",
        "model.add(Dense(64, activation = 'relu', input_shape = input_shape))\n",
        "model.add(Dense(32, activation = 'relu'))\n",
        "model.add(Dense(1))\n",
        "\n",
        "model.compile(optimizer= optimizers.Nadam(), loss = 'mse', metrics = ['mse'])\n",
        "\n",
        "display(model.summary())\n",
        "history = model.fit(generator, epochs = 20)\n"
      ],
      "execution_count": 341,
      "outputs": [
        {
          "output_type": "stream",
          "text": [
            "Model: \"sequential_41\"\n",
            "_________________________________________________________________\n",
            "Layer (type)                 Output Shape              Param #   \n",
            "=================================================================\n",
            "dense_88 (Dense)             (None, 50, 64)            128       \n",
            "_________________________________________________________________\n",
            "dense_89 (Dense)             (None, 50, 32)            2080      \n",
            "_________________________________________________________________\n",
            "dense_90 (Dense)             (None, 50, 1)             33        \n",
            "=================================================================\n",
            "Total params: 2,241\n",
            "Trainable params: 2,241\n",
            "Non-trainable params: 0\n",
            "_________________________________________________________________\n"
          ],
          "name": "stdout"
        },
        {
          "output_type": "display_data",
          "data": {
            "text/plain": [
              "None"
            ]
          },
          "metadata": {
            "tags": []
          }
        },
        {
          "output_type": "stream",
          "text": [
            "Epoch 1/20\n",
            "39/39 [==============================] - 0s 3ms/step - loss: 0.1345 - mse: 0.1345\n",
            "Epoch 2/20\n",
            "39/39 [==============================] - 0s 3ms/step - loss: 0.0118 - mse: 0.0118\n",
            "Epoch 3/20\n",
            "39/39 [==============================] - 0s 3ms/step - loss: 0.0072 - mse: 0.0072\n",
            "Epoch 4/20\n",
            "39/39 [==============================] - 0s 3ms/step - loss: 0.0060 - mse: 0.0060\n",
            "Epoch 5/20\n",
            "39/39 [==============================] - 0s 3ms/step - loss: 0.0049 - mse: 0.0049\n",
            "Epoch 6/20\n",
            "39/39 [==============================] - 0s 3ms/step - loss: 0.0042 - mse: 0.0042\n",
            "Epoch 7/20\n",
            "39/39 [==============================] - 0s 3ms/step - loss: 0.0040 - mse: 0.0040\n",
            "Epoch 8/20\n",
            "39/39 [==============================] - 0s 3ms/step - loss: 0.0039 - mse: 0.0039\n",
            "Epoch 9/20\n",
            "39/39 [==============================] - 0s 3ms/step - loss: 0.0038 - mse: 0.0038\n",
            "Epoch 10/20\n",
            "39/39 [==============================] - 0s 3ms/step - loss: 0.0039 - mse: 0.0039\n",
            "Epoch 11/20\n",
            "39/39 [==============================] - 0s 3ms/step - loss: 0.0038 - mse: 0.0038\n",
            "Epoch 12/20\n",
            "39/39 [==============================] - 0s 3ms/step - loss: 0.0037 - mse: 0.0037\n",
            "Epoch 13/20\n",
            "39/39 [==============================] - 0s 3ms/step - loss: 0.0038 - mse: 0.0038\n",
            "Epoch 14/20\n",
            "39/39 [==============================] - 0s 3ms/step - loss: 0.0039 - mse: 0.0039\n",
            "Epoch 15/20\n",
            "39/39 [==============================] - 0s 3ms/step - loss: 0.0038 - mse: 0.0038\n",
            "Epoch 16/20\n",
            "39/39 [==============================] - 0s 3ms/step - loss: 0.0038 - mse: 0.0038\n",
            "Epoch 17/20\n",
            "39/39 [==============================] - 0s 3ms/step - loss: 0.0036 - mse: 0.0036\n",
            "Epoch 18/20\n",
            "39/39 [==============================] - 0s 3ms/step - loss: 0.0039 - mse: 0.0039\n",
            "Epoch 19/20\n",
            "39/39 [==============================] - 0s 3ms/step - loss: 0.0038 - mse: 0.0038\n",
            "Epoch 20/20\n",
            "39/39 [==============================] - 0s 3ms/step - loss: 0.0038 - mse: 0.0038\n"
          ],
          "name": "stdout"
        }
      ]
    },
    {
      "cell_type": "code",
      "metadata": {
        "id": "aYQnJ3Bn7UIF",
        "outputId": "f635e5eb-8220-432c-b012-00b70c71e027",
        "colab": {
          "base_uri": "https://localhost:8080/",
          "height": 647
        }
      },
      "source": [
        "results = pd.DataFrame(history.history)\n",
        "results"
      ],
      "execution_count": 322,
      "outputs": [
        {
          "output_type": "execute_result",
          "data": {
            "text/html": [
              "<div>\n",
              "<style scoped>\n",
              "    .dataframe tbody tr th:only-of-type {\n",
              "        vertical-align: middle;\n",
              "    }\n",
              "\n",
              "    .dataframe tbody tr th {\n",
              "        vertical-align: top;\n",
              "    }\n",
              "\n",
              "    .dataframe thead th {\n",
              "        text-align: right;\n",
              "    }\n",
              "</style>\n",
              "<table border=\"1\" class=\"dataframe\">\n",
              "  <thead>\n",
              "    <tr style=\"text-align: right;\">\n",
              "      <th></th>\n",
              "      <th>loss</th>\n",
              "      <th>mse</th>\n",
              "    </tr>\n",
              "  </thead>\n",
              "  <tbody>\n",
              "    <tr>\n",
              "      <th>0</th>\n",
              "      <td>0.167694</td>\n",
              "      <td>0.167694</td>\n",
              "    </tr>\n",
              "    <tr>\n",
              "      <th>1</th>\n",
              "      <td>0.039522</td>\n",
              "      <td>0.039522</td>\n",
              "    </tr>\n",
              "    <tr>\n",
              "      <th>2</th>\n",
              "      <td>0.013687</td>\n",
              "      <td>0.013687</td>\n",
              "    </tr>\n",
              "    <tr>\n",
              "      <th>3</th>\n",
              "      <td>0.011355</td>\n",
              "      <td>0.011355</td>\n",
              "    </tr>\n",
              "    <tr>\n",
              "      <th>4</th>\n",
              "      <td>0.010124</td>\n",
              "      <td>0.010124</td>\n",
              "    </tr>\n",
              "    <tr>\n",
              "      <th>5</th>\n",
              "      <td>0.009575</td>\n",
              "      <td>0.009575</td>\n",
              "    </tr>\n",
              "    <tr>\n",
              "      <th>6</th>\n",
              "      <td>0.008552</td>\n",
              "      <td>0.008552</td>\n",
              "    </tr>\n",
              "    <tr>\n",
              "      <th>7</th>\n",
              "      <td>0.007951</td>\n",
              "      <td>0.007951</td>\n",
              "    </tr>\n",
              "    <tr>\n",
              "      <th>8</th>\n",
              "      <td>0.007100</td>\n",
              "      <td>0.007100</td>\n",
              "    </tr>\n",
              "    <tr>\n",
              "      <th>9</th>\n",
              "      <td>0.006353</td>\n",
              "      <td>0.006353</td>\n",
              "    </tr>\n",
              "    <tr>\n",
              "      <th>10</th>\n",
              "      <td>0.005790</td>\n",
              "      <td>0.005790</td>\n",
              "    </tr>\n",
              "    <tr>\n",
              "      <th>11</th>\n",
              "      <td>0.005254</td>\n",
              "      <td>0.005254</td>\n",
              "    </tr>\n",
              "    <tr>\n",
              "      <th>12</th>\n",
              "      <td>0.004971</td>\n",
              "      <td>0.004971</td>\n",
              "    </tr>\n",
              "    <tr>\n",
              "      <th>13</th>\n",
              "      <td>0.004692</td>\n",
              "      <td>0.004692</td>\n",
              "    </tr>\n",
              "    <tr>\n",
              "      <th>14</th>\n",
              "      <td>0.004383</td>\n",
              "      <td>0.004383</td>\n",
              "    </tr>\n",
              "    <tr>\n",
              "      <th>15</th>\n",
              "      <td>0.004240</td>\n",
              "      <td>0.004240</td>\n",
              "    </tr>\n",
              "    <tr>\n",
              "      <th>16</th>\n",
              "      <td>0.004096</td>\n",
              "      <td>0.004096</td>\n",
              "    </tr>\n",
              "    <tr>\n",
              "      <th>17</th>\n",
              "      <td>0.003999</td>\n",
              "      <td>0.003999</td>\n",
              "    </tr>\n",
              "    <tr>\n",
              "      <th>18</th>\n",
              "      <td>0.003876</td>\n",
              "      <td>0.003876</td>\n",
              "    </tr>\n",
              "    <tr>\n",
              "      <th>19</th>\n",
              "      <td>0.003893</td>\n",
              "      <td>0.003893</td>\n",
              "    </tr>\n",
              "  </tbody>\n",
              "</table>\n",
              "</div>"
            ],
            "text/plain": [
              "        loss       mse\n",
              "0   0.167694  0.167694\n",
              "1   0.039522  0.039522\n",
              "2   0.013687  0.013687\n",
              "3   0.011355  0.011355\n",
              "4   0.010124  0.010124\n",
              "5   0.009575  0.009575\n",
              "6   0.008552  0.008552\n",
              "7   0.007951  0.007951\n",
              "8   0.007100  0.007100\n",
              "9   0.006353  0.006353\n",
              "10  0.005790  0.005790\n",
              "11  0.005254  0.005254\n",
              "12  0.004971  0.004971\n",
              "13  0.004692  0.004692\n",
              "14  0.004383  0.004383\n",
              "15  0.004240  0.004240\n",
              "16  0.004096  0.004096\n",
              "17  0.003999  0.003999\n",
              "18  0.003876  0.003876\n",
              "19  0.003893  0.003893"
            ]
          },
          "metadata": {
            "tags": []
          },
          "execution_count": 322
        }
      ]
    },
    {
      "cell_type": "code",
      "metadata": {
        "id": "p8TnQOF0BMlM"
      },
      "source": [
        "y_hat_test = model.predict(test_gen)"
      ],
      "execution_count": 323,
      "outputs": []
    },
    {
      "cell_type": "code",
      "metadata": {
        "id": "zyp1Cvh0pOEU",
        "outputId": "9271f04f-2a22-4763-db5b-a5c3bdc60e20",
        "colab": {
          "base_uri": "https://localhost:8080/"
        }
      },
      "source": [
        "y_hat_test.shape"
      ],
      "execution_count": 324,
      "outputs": [
        {
          "output_type": "execute_result",
          "data": {
            "text/plain": [
              "(269, 50, 1)"
            ]
          },
          "metadata": {
            "tags": []
          },
          "execution_count": 324
        }
      ]
    },
    {
      "cell_type": "code",
      "metadata": {
        "id": "6BAXJPKAETHA",
        "outputId": "8b3ada54-dfe5-40b4-d462-3a748460af56",
        "colab": {
          "base_uri": "https://localhost:8080/"
        }
      },
      "source": [
        "X_test[:length].shape"
      ],
      "execution_count": 325,
      "outputs": [
        {
          "output_type": "execute_result",
          "data": {
            "text/plain": [
              "(50, 1)"
            ]
          },
          "metadata": {
            "tags": []
          },
          "execution_count": 325
        }
      ]
    },
    {
      "cell_type": "code",
      "metadata": {
        "id": "Hp1A8MSFwJzK",
        "outputId": "3b4fca3e-afb3-4d79-9996-abbcd07d69af",
        "colab": {
          "base_uri": "https://localhost:8080/",
          "height": 436
        }
      },
      "source": [
        "X_test[length:]"
      ],
      "execution_count": 326,
      "outputs": [
        {
          "output_type": "execute_result",
          "data": {
            "text/html": [
              "<div>\n",
              "<style scoped>\n",
              "    .dataframe tbody tr th:only-of-type {\n",
              "        vertical-align: middle;\n",
              "    }\n",
              "\n",
              "    .dataframe tbody tr th {\n",
              "        vertical-align: top;\n",
              "    }\n",
              "\n",
              "    .dataframe thead th {\n",
              "        text-align: right;\n",
              "    }\n",
              "</style>\n",
              "<table border=\"1\" class=\"dataframe\">\n",
              "  <thead>\n",
              "    <tr style=\"text-align: right;\">\n",
              "      <th></th>\n",
              "      <th>Price</th>\n",
              "    </tr>\n",
              "    <tr>\n",
              "      <th>Date</th>\n",
              "      <th></th>\n",
              "    </tr>\n",
              "  </thead>\n",
              "  <tbody>\n",
              "    <tr>\n",
              "      <th>2017-05-04</th>\n",
              "      <td>0.959256</td>\n",
              "    </tr>\n",
              "    <tr>\n",
              "      <th>2017-05-05</th>\n",
              "      <td>0.968868</td>\n",
              "    </tr>\n",
              "    <tr>\n",
              "      <th>2017-05-08</th>\n",
              "      <td>0.966360</td>\n",
              "    </tr>\n",
              "    <tr>\n",
              "      <th>2017-05-09</th>\n",
              "      <td>0.959883</td>\n",
              "    </tr>\n",
              "    <tr>\n",
              "      <th>2017-05-10</th>\n",
              "      <td>0.964480</td>\n",
              "    </tr>\n",
              "    <tr>\n",
              "      <th>...</th>\n",
              "      <td>...</td>\n",
              "    </tr>\n",
              "    <tr>\n",
              "      <th>2018-05-21</th>\n",
              "      <td>1.133932</td>\n",
              "    </tr>\n",
              "    <tr>\n",
              "      <th>2018-05-22</th>\n",
              "      <td>1.130380</td>\n",
              "    </tr>\n",
              "    <tr>\n",
              "      <th>2018-05-23</th>\n",
              "      <td>1.126410</td>\n",
              "    </tr>\n",
              "    <tr>\n",
              "      <th>2018-05-24</th>\n",
              "      <td>1.118053</td>\n",
              "    </tr>\n",
              "    <tr>\n",
              "      <th>2018-05-25</th>\n",
              "      <td>1.107188</td>\n",
              "    </tr>\n",
              "  </tbody>\n",
              "</table>\n",
              "<p>269 rows × 1 columns</p>\n",
              "</div>"
            ],
            "text/plain": [
              "               Price\n",
              "Date                \n",
              "2017-05-04  0.959256\n",
              "2017-05-05  0.968868\n",
              "2017-05-08  0.966360\n",
              "2017-05-09  0.959883\n",
              "2017-05-10  0.964480\n",
              "...              ...\n",
              "2018-05-21  1.133932\n",
              "2018-05-22  1.130380\n",
              "2018-05-23  1.126410\n",
              "2018-05-24  1.118053\n",
              "2018-05-25  1.107188\n",
              "\n",
              "[269 rows x 1 columns]"
            ]
          },
          "metadata": {
            "tags": []
          },
          "execution_count": 326
        }
      ]
    },
    {
      "cell_type": "code",
      "metadata": {
        "id": "kC34b5u1jXwq",
        "outputId": "7d32d891-e05c-4871-d3d1-32d57ed773bf",
        "colab": {
          "base_uri": "https://localhost:8080/",
          "height": 721
        }
      },
      "source": [
        "fig, ax = plt.subplots()\n",
        "X_train.plot(ax = ax)\n",
        "X_test['Price'].plot(ax = ax, label = 'Test')\n",
        "ax.plot(X_test[:length].index, y_hat_test.flatten(), label = 'Predicted')\n",
        "ax.set_title('S&P 500 - Model 1')\n",
        "ax.legend();"
      ],
      "execution_count": 327,
      "outputs": [
        {
          "output_type": "error",
          "ename": "ValueError",
          "evalue": "ignored",
          "traceback": [
            "\u001b[0;31m---------------------------------------------------------------------------\u001b[0m",
            "\u001b[0;31mValueError\u001b[0m                                Traceback (most recent call last)",
            "\u001b[0;32m<ipython-input-327-ef40d8b97303>\u001b[0m in \u001b[0;36m<module>\u001b[0;34m()\u001b[0m\n\u001b[1;32m      2\u001b[0m \u001b[0mX_train\u001b[0m\u001b[0;34m.\u001b[0m\u001b[0mplot\u001b[0m\u001b[0;34m(\u001b[0m\u001b[0max\u001b[0m \u001b[0;34m=\u001b[0m \u001b[0max\u001b[0m\u001b[0;34m)\u001b[0m\u001b[0;34m\u001b[0m\u001b[0;34m\u001b[0m\u001b[0m\n\u001b[1;32m      3\u001b[0m \u001b[0mX_test\u001b[0m\u001b[0;34m[\u001b[0m\u001b[0;34m'Price'\u001b[0m\u001b[0;34m]\u001b[0m\u001b[0;34m.\u001b[0m\u001b[0mplot\u001b[0m\u001b[0;34m(\u001b[0m\u001b[0max\u001b[0m \u001b[0;34m=\u001b[0m \u001b[0max\u001b[0m\u001b[0;34m,\u001b[0m \u001b[0mlabel\u001b[0m \u001b[0;34m=\u001b[0m \u001b[0;34m'Test'\u001b[0m\u001b[0;34m)\u001b[0m\u001b[0;34m\u001b[0m\u001b[0;34m\u001b[0m\u001b[0m\n\u001b[0;32m----> 4\u001b[0;31m \u001b[0max\u001b[0m\u001b[0;34m.\u001b[0m\u001b[0mplot\u001b[0m\u001b[0;34m(\u001b[0m\u001b[0mX_test\u001b[0m\u001b[0;34m[\u001b[0m\u001b[0;34m:\u001b[0m\u001b[0mlength\u001b[0m\u001b[0;34m]\u001b[0m\u001b[0;34m.\u001b[0m\u001b[0mindex\u001b[0m\u001b[0;34m,\u001b[0m \u001b[0my_hat_test\u001b[0m\u001b[0;34m.\u001b[0m\u001b[0mflatten\u001b[0m\u001b[0;34m(\u001b[0m\u001b[0;34m)\u001b[0m\u001b[0;34m,\u001b[0m \u001b[0mlabel\u001b[0m \u001b[0;34m=\u001b[0m \u001b[0;34m'Predicted'\u001b[0m\u001b[0;34m)\u001b[0m\u001b[0;34m\u001b[0m\u001b[0;34m\u001b[0m\u001b[0m\n\u001b[0m\u001b[1;32m      5\u001b[0m \u001b[0max\u001b[0m\u001b[0;34m.\u001b[0m\u001b[0mset_title\u001b[0m\u001b[0;34m(\u001b[0m\u001b[0;34m'S&P 500 - Model 1'\u001b[0m\u001b[0;34m)\u001b[0m\u001b[0;34m\u001b[0m\u001b[0;34m\u001b[0m\u001b[0m\n\u001b[1;32m      6\u001b[0m \u001b[0max\u001b[0m\u001b[0;34m.\u001b[0m\u001b[0mlegend\u001b[0m\u001b[0;34m(\u001b[0m\u001b[0;34m)\u001b[0m\u001b[0;34m;\u001b[0m\u001b[0;34m\u001b[0m\u001b[0;34m\u001b[0m\u001b[0m\n",
            "\u001b[0;32m/usr/local/lib/python3.6/dist-packages/matplotlib/axes/_axes.py\u001b[0m in \u001b[0;36mplot\u001b[0;34m(self, scalex, scaley, data, *args, **kwargs)\u001b[0m\n\u001b[1;32m   1645\u001b[0m         \"\"\"\n\u001b[1;32m   1646\u001b[0m         \u001b[0mkwargs\u001b[0m \u001b[0;34m=\u001b[0m \u001b[0mcbook\u001b[0m\u001b[0;34m.\u001b[0m\u001b[0mnormalize_kwargs\u001b[0m\u001b[0;34m(\u001b[0m\u001b[0mkwargs\u001b[0m\u001b[0;34m,\u001b[0m \u001b[0mmlines\u001b[0m\u001b[0;34m.\u001b[0m\u001b[0mLine2D\u001b[0m\u001b[0;34m)\u001b[0m\u001b[0;34m\u001b[0m\u001b[0;34m\u001b[0m\u001b[0m\n\u001b[0;32m-> 1647\u001b[0;31m         \u001b[0mlines\u001b[0m \u001b[0;34m=\u001b[0m \u001b[0;34m[\u001b[0m\u001b[0;34m*\u001b[0m\u001b[0mself\u001b[0m\u001b[0;34m.\u001b[0m\u001b[0m_get_lines\u001b[0m\u001b[0;34m(\u001b[0m\u001b[0;34m*\u001b[0m\u001b[0margs\u001b[0m\u001b[0;34m,\u001b[0m \u001b[0mdata\u001b[0m\u001b[0;34m=\u001b[0m\u001b[0mdata\u001b[0m\u001b[0;34m,\u001b[0m \u001b[0;34m**\u001b[0m\u001b[0mkwargs\u001b[0m\u001b[0;34m)\u001b[0m\u001b[0;34m]\u001b[0m\u001b[0;34m\u001b[0m\u001b[0;34m\u001b[0m\u001b[0m\n\u001b[0m\u001b[1;32m   1648\u001b[0m         \u001b[0;32mfor\u001b[0m \u001b[0mline\u001b[0m \u001b[0;32min\u001b[0m \u001b[0mlines\u001b[0m\u001b[0;34m:\u001b[0m\u001b[0;34m\u001b[0m\u001b[0;34m\u001b[0m\u001b[0m\n\u001b[1;32m   1649\u001b[0m             \u001b[0mself\u001b[0m\u001b[0;34m.\u001b[0m\u001b[0madd_line\u001b[0m\u001b[0;34m(\u001b[0m\u001b[0mline\u001b[0m\u001b[0;34m)\u001b[0m\u001b[0;34m\u001b[0m\u001b[0;34m\u001b[0m\u001b[0m\n",
            "\u001b[0;32m/usr/local/lib/python3.6/dist-packages/matplotlib/axes/_base.py\u001b[0m in \u001b[0;36m__call__\u001b[0;34m(self, *args, **kwargs)\u001b[0m\n\u001b[1;32m    214\u001b[0m                 \u001b[0mthis\u001b[0m \u001b[0;34m+=\u001b[0m \u001b[0margs\u001b[0m\u001b[0;34m[\u001b[0m\u001b[0;36m0\u001b[0m\u001b[0;34m]\u001b[0m\u001b[0;34m,\u001b[0m\u001b[0;34m\u001b[0m\u001b[0;34m\u001b[0m\u001b[0m\n\u001b[1;32m    215\u001b[0m                 \u001b[0margs\u001b[0m \u001b[0;34m=\u001b[0m \u001b[0margs\u001b[0m\u001b[0;34m[\u001b[0m\u001b[0;36m1\u001b[0m\u001b[0;34m:\u001b[0m\u001b[0;34m]\u001b[0m\u001b[0;34m\u001b[0m\u001b[0;34m\u001b[0m\u001b[0m\n\u001b[0;32m--> 216\u001b[0;31m             \u001b[0;32myield\u001b[0m \u001b[0;32mfrom\u001b[0m \u001b[0mself\u001b[0m\u001b[0;34m.\u001b[0m\u001b[0m_plot_args\u001b[0m\u001b[0;34m(\u001b[0m\u001b[0mthis\u001b[0m\u001b[0;34m,\u001b[0m \u001b[0mkwargs\u001b[0m\u001b[0;34m)\u001b[0m\u001b[0;34m\u001b[0m\u001b[0;34m\u001b[0m\u001b[0m\n\u001b[0m\u001b[1;32m    217\u001b[0m \u001b[0;34m\u001b[0m\u001b[0m\n\u001b[1;32m    218\u001b[0m     \u001b[0;32mdef\u001b[0m \u001b[0mget_next_color\u001b[0m\u001b[0;34m(\u001b[0m\u001b[0mself\u001b[0m\u001b[0;34m)\u001b[0m\u001b[0;34m:\u001b[0m\u001b[0;34m\u001b[0m\u001b[0;34m\u001b[0m\u001b[0m\n",
            "\u001b[0;32m/usr/local/lib/python3.6/dist-packages/matplotlib/axes/_base.py\u001b[0m in \u001b[0;36m_plot_args\u001b[0;34m(self, tup, kwargs)\u001b[0m\n\u001b[1;32m    340\u001b[0m \u001b[0;34m\u001b[0m\u001b[0m\n\u001b[1;32m    341\u001b[0m         \u001b[0;32mif\u001b[0m \u001b[0mx\u001b[0m\u001b[0;34m.\u001b[0m\u001b[0mshape\u001b[0m\u001b[0;34m[\u001b[0m\u001b[0;36m0\u001b[0m\u001b[0;34m]\u001b[0m \u001b[0;34m!=\u001b[0m \u001b[0my\u001b[0m\u001b[0;34m.\u001b[0m\u001b[0mshape\u001b[0m\u001b[0;34m[\u001b[0m\u001b[0;36m0\u001b[0m\u001b[0;34m]\u001b[0m\u001b[0;34m:\u001b[0m\u001b[0;34m\u001b[0m\u001b[0;34m\u001b[0m\u001b[0m\n\u001b[0;32m--> 342\u001b[0;31m             raise ValueError(f\"x and y must have same first dimension, but \"\n\u001b[0m\u001b[1;32m    343\u001b[0m                              f\"have shapes {x.shape} and {y.shape}\")\n\u001b[1;32m    344\u001b[0m         \u001b[0;32mif\u001b[0m \u001b[0mx\u001b[0m\u001b[0;34m.\u001b[0m\u001b[0mndim\u001b[0m \u001b[0;34m>\u001b[0m \u001b[0;36m2\u001b[0m \u001b[0;32mor\u001b[0m \u001b[0my\u001b[0m\u001b[0;34m.\u001b[0m\u001b[0mndim\u001b[0m \u001b[0;34m>\u001b[0m \u001b[0;36m2\u001b[0m\u001b[0;34m:\u001b[0m\u001b[0;34m\u001b[0m\u001b[0;34m\u001b[0m\u001b[0m\n",
            "\u001b[0;31mValueError\u001b[0m: x and y must have same first dimension, but have shapes (50,) and (13450,)"
          ]
        },
        {
          "output_type": "display_data",
          "data": {
            "image/png": "[encoded data removed]",
            "text/plain": [
              "<Figure size 432x288 with 1 Axes>"
            ]
          },
          "metadata": {
            "tags": [],
            "needs_background": "light"
          }
        }
      ]
    },
    {
      "cell_type": "code",
      "metadata": {
        "id": "eowZvfUCz2Pz",
        "outputId": "32401508-589e-4446-bdd6-11454571d023",
        "colab": {
          "base_uri": "https://localhost:8080/",
          "height": 978
        }
      },
      "source": [
        "#define model 2\n",
        "model2 = Sequential()\n",
        "model2.add(LSTM(units = 64, activation = 'relu', input_shape = input_shape))\n",
        "model2.add(Dense(1))\n",
        "\n",
        "model2.compile(optimizer= optimizers.Nadam(), loss = 'mse', metrics = ['mse'])\n",
        "\n",
        "display(model2.summary())\n",
        "history = model2.fit(generator, epochs = 20)\n"
      ],
      "execution_count": 329,
      "outputs": [
        {
          "output_type": "stream",
          "text": [
            "Model: \"sequential_40\"\n",
            "_________________________________________________________________\n",
            "Layer (type)                 Output Shape              Param #   \n",
            "=================================================================\n",
            "lstm_16 (LSTM)               (None, 64)                16896     \n",
            "_________________________________________________________________\n",
            "dense_87 (Dense)             (None, 1)                 65        \n",
            "=================================================================\n",
            "Total params: 16,961\n",
            "Trainable params: 16,961\n",
            "Non-trainable params: 0\n",
            "_________________________________________________________________\n"
          ],
          "name": "stdout"
        },
        {
          "output_type": "display_data",
          "data": {
            "text/plain": [
              "None"
            ]
          },
          "metadata": {
            "tags": []
          }
        },
        {
          "output_type": "stream",
          "text": [
            "Epoch 1/20\n",
            "39/39 [==============================] - 1s 24ms/step - loss: 0.1870 - mse: 0.1870\n",
            "Epoch 2/20\n",
            "39/39 [==============================] - 1s 24ms/step - loss: 0.0116 - mse: 0.0116\n",
            "Epoch 3/20\n",
            "39/39 [==============================] - 1s 25ms/step - loss: 0.0023 - mse: 0.0023\n",
            "Epoch 4/20\n",
            "39/39 [==============================] - 1s 25ms/step - loss: 0.0020 - mse: 0.0020\n",
            "Epoch 5/20\n",
            "39/39 [==============================] - 1s 24ms/step - loss: 0.0016 - mse: 0.0016\n",
            "Epoch 6/20\n",
            "39/39 [==============================] - 1s 23ms/step - loss: 0.0013 - mse: 0.0013\n",
            "Epoch 7/20\n",
            "39/39 [==============================] - 1s 24ms/step - loss: 9.9569e-04 - mse: 9.9569e-04\n",
            "Epoch 8/20\n",
            "39/39 [==============================] - 1s 24ms/step - loss: 0.0012 - mse: 0.0012\n",
            "Epoch 9/20\n",
            "39/39 [==============================] - 1s 24ms/step - loss: 9.9401e-04 - mse: 9.9401e-04\n",
            "Epoch 10/20\n",
            "39/39 [==============================] - 1s 24ms/step - loss: 9.5417e-04 - mse: 9.5417e-04\n",
            "Epoch 11/20\n",
            "39/39 [==============================] - 1s 23ms/step - loss: 9.5713e-04 - mse: 9.5713e-04\n",
            "Epoch 12/20\n",
            "39/39 [==============================] - 1s 23ms/step - loss: 8.7383e-04 - mse: 8.7383e-04\n",
            "Epoch 13/20\n",
            "39/39 [==============================] - 1s 24ms/step - loss: 9.1924e-04 - mse: 9.1924e-04\n",
            "Epoch 14/20\n",
            "39/39 [==============================] - 1s 24ms/step - loss: 9.6494e-04 - mse: 9.6494e-04\n",
            "Epoch 15/20\n",
            "39/39 [==============================] - 1s 25ms/step - loss: 0.0010 - mse: 0.0010\n",
            "Epoch 16/20\n",
            "39/39 [==============================] - 1s 24ms/step - loss: 8.8856e-04 - mse: 8.8856e-04\n",
            "Epoch 17/20\n",
            "39/39 [==============================] - 1s 25ms/step - loss: 9.4067e-04 - mse: 9.4067e-04\n",
            "Epoch 18/20\n",
            "39/39 [==============================] - 1s 25ms/step - loss: 8.5921e-04 - mse: 8.5921e-04\n",
            "Epoch 19/20\n",
            "39/39 [==============================] - 1s 24ms/step - loss: 8.4519e-04 - mse: 8.4519e-04\n",
            "Epoch 20/20\n",
            "39/39 [==============================] - 1s 23ms/step - loss: 7.9783e-04 - mse: 7.9783e-04\n"
          ],
          "name": "stdout"
        }
      ]
    },
    {
      "cell_type": "code",
      "metadata": {
        "id": "Vypb4Sfc6XZ6",
        "outputId": "e3a59735-1d5b-47ca-f357-46388e842d6d",
        "colab": {
          "base_uri": "https://localhost:8080/",
          "height": 647
        }
      },
      "source": [
        "results = pd.DataFrame(history.history)\n",
        "results"
      ],
      "execution_count": 330,
      "outputs": [
        {
          "output_type": "execute_result",
          "data": {
            "text/html": [
              "<div>\n",
              "<style scoped>\n",
              "    .dataframe tbody tr th:only-of-type {\n",
              "        vertical-align: middle;\n",
              "    }\n",
              "\n",
              "    .dataframe tbody tr th {\n",
              "        vertical-align: top;\n",
              "    }\n",
              "\n",
              "    .dataframe thead th {\n",
              "        text-align: right;\n",
              "    }\n",
              "</style>\n",
              "<table border=\"1\" class=\"dataframe\">\n",
              "  <thead>\n",
              "    <tr style=\"text-align: right;\">\n",
              "      <th></th>\n",
              "      <th>loss</th>\n",
              "      <th>mse</th>\n",
              "    </tr>\n",
              "  </thead>\n",
              "  <tbody>\n",
              "    <tr>\n",
              "      <th>0</th>\n",
              "      <td>0.187017</td>\n",
              "      <td>0.187017</td>\n",
              "    </tr>\n",
              "    <tr>\n",
              "      <th>1</th>\n",
              "      <td>0.011618</td>\n",
              "      <td>0.011618</td>\n",
              "    </tr>\n",
              "    <tr>\n",
              "      <th>2</th>\n",
              "      <td>0.002316</td>\n",
              "      <td>0.002316</td>\n",
              "    </tr>\n",
              "    <tr>\n",
              "      <th>3</th>\n",
              "      <td>0.001971</td>\n",
              "      <td>0.001971</td>\n",
              "    </tr>\n",
              "    <tr>\n",
              "      <th>4</th>\n",
              "      <td>0.001601</td>\n",
              "      <td>0.001601</td>\n",
              "    </tr>\n",
              "    <tr>\n",
              "      <th>5</th>\n",
              "      <td>0.001291</td>\n",
              "      <td>0.001291</td>\n",
              "    </tr>\n",
              "    <tr>\n",
              "      <th>6</th>\n",
              "      <td>0.000996</td>\n",
              "      <td>0.000996</td>\n",
              "    </tr>\n",
              "    <tr>\n",
              "      <th>7</th>\n",
              "      <td>0.001247</td>\n",
              "      <td>0.001247</td>\n",
              "    </tr>\n",
              "    <tr>\n",
              "      <th>8</th>\n",
              "      <td>0.000994</td>\n",
              "      <td>0.000994</td>\n",
              "    </tr>\n",
              "    <tr>\n",
              "      <th>9</th>\n",
              "      <td>0.000954</td>\n",
              "      <td>0.000954</td>\n",
              "    </tr>\n",
              "    <tr>\n",
              "      <th>10</th>\n",
              "      <td>0.000957</td>\n",
              "      <td>0.000957</td>\n",
              "    </tr>\n",
              "    <tr>\n",
              "      <th>11</th>\n",
              "      <td>0.000874</td>\n",
              "      <td>0.000874</td>\n",
              "    </tr>\n",
              "    <tr>\n",
              "      <th>12</th>\n",
              "      <td>0.000919</td>\n",
              "      <td>0.000919</td>\n",
              "    </tr>\n",
              "    <tr>\n",
              "      <th>13</th>\n",
              "      <td>0.000965</td>\n",
              "      <td>0.000965</td>\n",
              "    </tr>\n",
              "    <tr>\n",
              "      <th>14</th>\n",
              "      <td>0.001002</td>\n",
              "      <td>0.001002</td>\n",
              "    </tr>\n",
              "    <tr>\n",
              "      <th>15</th>\n",
              "      <td>0.000889</td>\n",
              "      <td>0.000889</td>\n",
              "    </tr>\n",
              "    <tr>\n",
              "      <th>16</th>\n",
              "      <td>0.000941</td>\n",
              "      <td>0.000941</td>\n",
              "    </tr>\n",
              "    <tr>\n",
              "      <th>17</th>\n",
              "      <td>0.000859</td>\n",
              "      <td>0.000859</td>\n",
              "    </tr>\n",
              "    <tr>\n",
              "      <th>18</th>\n",
              "      <td>0.000845</td>\n",
              "      <td>0.000845</td>\n",
              "    </tr>\n",
              "    <tr>\n",
              "      <th>19</th>\n",
              "      <td>0.000798</td>\n",
              "      <td>0.000798</td>\n",
              "    </tr>\n",
              "  </tbody>\n",
              "</table>\n",
              "</div>"
            ],
            "text/plain": [
              "        loss       mse\n",
              "0   0.187017  0.187017\n",
              "1   0.011618  0.011618\n",
              "2   0.002316  0.002316\n",
              "3   0.001971  0.001971\n",
              "4   0.001601  0.001601\n",
              "5   0.001291  0.001291\n",
              "6   0.000996  0.000996\n",
              "7   0.001247  0.001247\n",
              "8   0.000994  0.000994\n",
              "9   0.000954  0.000954\n",
              "10  0.000957  0.000957\n",
              "11  0.000874  0.000874\n",
              "12  0.000919  0.000919\n",
              "13  0.000965  0.000965\n",
              "14  0.001002  0.001002\n",
              "15  0.000889  0.000889\n",
              "16  0.000941  0.000941\n",
              "17  0.000859  0.000859\n",
              "18  0.000845  0.000845\n",
              "19  0.000798  0.000798"
            ]
          },
          "metadata": {
            "tags": []
          },
          "execution_count": 330
        }
      ]
    },
    {
      "cell_type": "code",
      "metadata": {
        "id": "hbNc3IGA6rkH"
      },
      "source": [
        "y_hat_test = model2.predict(generator)"
      ],
      "execution_count": 331,
      "outputs": []
    },
    {
      "cell_type": "code",
      "metadata": {
        "id": "AT-SarRrGBHW",
        "outputId": "fa6e1c9a-e12f-410d-8b61-4390a82b0df2",
        "colab": {
          "base_uri": "https://localhost:8080/"
        }
      },
      "source": [
        "y_hat_test.shape"
      ],
      "execution_count": 332,
      "outputs": [
        {
          "output_type": "execute_result",
          "data": {
            "text/plain": [
              "(1224, 1)"
            ]
          },
          "metadata": {
            "tags": []
          },
          "execution_count": 332
        }
      ]
    },
    {
      "cell_type": "code",
      "metadata": {
        "id": "-JP-tg15GDji",
        "outputId": "e0cf920b-9852-4c2c-bad6-a6a80eca6236",
        "colab": {
          "base_uri": "https://localhost:8080/"
        }
      },
      "source": [
        "X_test[length:].shape"
      ],
      "execution_count": 335,
      "outputs": [
        {
          "output_type": "execute_result",
          "data": {
            "text/plain": [
              "(269, 1)"
            ]
          },
          "metadata": {
            "tags": []
          },
          "execution_count": 335
        }
      ]
    },
    {
      "cell_type": "code",
      "metadata": {
        "id": "xS0JExP367uI",
        "outputId": "c21f0ce7-b2f2-43aa-e0e9-c75a643b2e6b",
        "colab": {
          "base_uri": "https://localhost:8080/",
          "height": 721
        }
      },
      "source": [
        "fig, ax = plt.subplots()\n",
        "X_train.plot(ax = ax)\n",
        "X_test.plot(ax = ax, label = 'Test')\n",
        "ax.plot(X_test[:length].index, y_hat_test.flatten(), label = 'Predicted')\n",
        "ax.set_title('S&P 500 - Model 1')\n",
        "ax.legend();"
      ],
      "execution_count": 336,
      "outputs": [
        {
          "output_type": "error",
          "ename": "ValueError",
          "evalue": "ignored",
          "traceback": [
            "\u001b[0;31m---------------------------------------------------------------------------\u001b[0m",
            "\u001b[0;31mValueError\u001b[0m                                Traceback (most recent call last)",
            "\u001b[0;32m<ipython-input-336-338f67edc5b0>\u001b[0m in \u001b[0;36m<module>\u001b[0;34m()\u001b[0m\n\u001b[1;32m      2\u001b[0m \u001b[0mX_train\u001b[0m\u001b[0;34m.\u001b[0m\u001b[0mplot\u001b[0m\u001b[0;34m(\u001b[0m\u001b[0max\u001b[0m \u001b[0;34m=\u001b[0m \u001b[0max\u001b[0m\u001b[0;34m)\u001b[0m\u001b[0;34m\u001b[0m\u001b[0;34m\u001b[0m\u001b[0m\n\u001b[1;32m      3\u001b[0m \u001b[0mX_test\u001b[0m\u001b[0;34m.\u001b[0m\u001b[0mplot\u001b[0m\u001b[0;34m(\u001b[0m\u001b[0max\u001b[0m \u001b[0;34m=\u001b[0m \u001b[0max\u001b[0m\u001b[0;34m,\u001b[0m \u001b[0mlabel\u001b[0m \u001b[0;34m=\u001b[0m \u001b[0;34m'Test'\u001b[0m\u001b[0;34m)\u001b[0m\u001b[0;34m\u001b[0m\u001b[0;34m\u001b[0m\u001b[0m\n\u001b[0;32m----> 4\u001b[0;31m \u001b[0max\u001b[0m\u001b[0;34m.\u001b[0m\u001b[0mplot\u001b[0m\u001b[0;34m(\u001b[0m\u001b[0mX_test\u001b[0m\u001b[0;34m[\u001b[0m\u001b[0;34m:\u001b[0m\u001b[0mlength\u001b[0m\u001b[0;34m]\u001b[0m\u001b[0;34m.\u001b[0m\u001b[0mindex\u001b[0m\u001b[0;34m,\u001b[0m \u001b[0my_hat_test\u001b[0m\u001b[0;34m.\u001b[0m\u001b[0mflatten\u001b[0m\u001b[0;34m(\u001b[0m\u001b[0;34m)\u001b[0m\u001b[0;34m,\u001b[0m \u001b[0mlabel\u001b[0m \u001b[0;34m=\u001b[0m \u001b[0;34m'Predicted'\u001b[0m\u001b[0;34m)\u001b[0m\u001b[0;34m\u001b[0m\u001b[0;34m\u001b[0m\u001b[0m\n\u001b[0m\u001b[1;32m      5\u001b[0m \u001b[0max\u001b[0m\u001b[0;34m.\u001b[0m\u001b[0mset_title\u001b[0m\u001b[0;34m(\u001b[0m\u001b[0;34m'S&P 500 - Model 1'\u001b[0m\u001b[0;34m)\u001b[0m\u001b[0;34m\u001b[0m\u001b[0;34m\u001b[0m\u001b[0m\n\u001b[1;32m      6\u001b[0m \u001b[0max\u001b[0m\u001b[0;34m.\u001b[0m\u001b[0mlegend\u001b[0m\u001b[0;34m(\u001b[0m\u001b[0;34m)\u001b[0m\u001b[0;34m;\u001b[0m\u001b[0;34m\u001b[0m\u001b[0;34m\u001b[0m\u001b[0m\n",
            "\u001b[0;32m/usr/local/lib/python3.6/dist-packages/matplotlib/axes/_axes.py\u001b[0m in \u001b[0;36mplot\u001b[0;34m(self, scalex, scaley, data, *args, **kwargs)\u001b[0m\n\u001b[1;32m   1645\u001b[0m         \"\"\"\n\u001b[1;32m   1646\u001b[0m         \u001b[0mkwargs\u001b[0m \u001b[0;34m=\u001b[0m \u001b[0mcbook\u001b[0m\u001b[0;34m.\u001b[0m\u001b[0mnormalize_kwargs\u001b[0m\u001b[0;34m(\u001b[0m\u001b[0mkwargs\u001b[0m\u001b[0;34m,\u001b[0m \u001b[0mmlines\u001b[0m\u001b[0;34m.\u001b[0m\u001b[0mLine2D\u001b[0m\u001b[0;34m)\u001b[0m\u001b[0;34m\u001b[0m\u001b[0;34m\u001b[0m\u001b[0m\n\u001b[0;32m-> 1647\u001b[0;31m         \u001b[0mlines\u001b[0m \u001b[0;34m=\u001b[0m \u001b[0;34m[\u001b[0m\u001b[0;34m*\u001b[0m\u001b[0mself\u001b[0m\u001b[0;34m.\u001b[0m\u001b[0m_get_lines\u001b[0m\u001b[0;34m(\u001b[0m\u001b[0;34m*\u001b[0m\u001b[0margs\u001b[0m\u001b[0;34m,\u001b[0m \u001b[0mdata\u001b[0m\u001b[0;34m=\u001b[0m\u001b[0mdata\u001b[0m\u001b[0;34m,\u001b[0m \u001b[0;34m**\u001b[0m\u001b[0mkwargs\u001b[0m\u001b[0;34m)\u001b[0m\u001b[0;34m]\u001b[0m\u001b[0;34m\u001b[0m\u001b[0;34m\u001b[0m\u001b[0m\n\u001b[0m\u001b[1;32m   1648\u001b[0m         \u001b[0;32mfor\u001b[0m \u001b[0mline\u001b[0m \u001b[0;32min\u001b[0m \u001b[0mlines\u001b[0m\u001b[0;34m:\u001b[0m\u001b[0;34m\u001b[0m\u001b[0;34m\u001b[0m\u001b[0m\n\u001b[1;32m   1649\u001b[0m             \u001b[0mself\u001b[0m\u001b[0;34m.\u001b[0m\u001b[0madd_line\u001b[0m\u001b[0;34m(\u001b[0m\u001b[0mline\u001b[0m\u001b[0;34m)\u001b[0m\u001b[0;34m\u001b[0m\u001b[0;34m\u001b[0m\u001b[0m\n",
            "\u001b[0;32m/usr/local/lib/python3.6/dist-packages/matplotlib/axes/_base.py\u001b[0m in \u001b[0;36m__call__\u001b[0;34m(self, *args, **kwargs)\u001b[0m\n\u001b[1;32m    214\u001b[0m                 \u001b[0mthis\u001b[0m \u001b[0;34m+=\u001b[0m \u001b[0margs\u001b[0m\u001b[0;34m[\u001b[0m\u001b[0;36m0\u001b[0m\u001b[0;34m]\u001b[0m\u001b[0;34m,\u001b[0m\u001b[0;34m\u001b[0m\u001b[0;34m\u001b[0m\u001b[0m\n\u001b[1;32m    215\u001b[0m                 \u001b[0margs\u001b[0m \u001b[0;34m=\u001b[0m \u001b[0margs\u001b[0m\u001b[0;34m[\u001b[0m\u001b[0;36m1\u001b[0m\u001b[0;34m:\u001b[0m\u001b[0;34m]\u001b[0m\u001b[0;34m\u001b[0m\u001b[0;34m\u001b[0m\u001b[0m\n\u001b[0;32m--> 216\u001b[0;31m             \u001b[0;32myield\u001b[0m \u001b[0;32mfrom\u001b[0m \u001b[0mself\u001b[0m\u001b[0;34m.\u001b[0m\u001b[0m_plot_args\u001b[0m\u001b[0;34m(\u001b[0m\u001b[0mthis\u001b[0m\u001b[0;34m,\u001b[0m \u001b[0mkwargs\u001b[0m\u001b[0;34m)\u001b[0m\u001b[0;34m\u001b[0m\u001b[0;34m\u001b[0m\u001b[0m\n\u001b[0m\u001b[1;32m    217\u001b[0m \u001b[0;34m\u001b[0m\u001b[0m\n\u001b[1;32m    218\u001b[0m     \u001b[0;32mdef\u001b[0m \u001b[0mget_next_color\u001b[0m\u001b[0;34m(\u001b[0m\u001b[0mself\u001b[0m\u001b[0;34m)\u001b[0m\u001b[0;34m:\u001b[0m\u001b[0;34m\u001b[0m\u001b[0;34m\u001b[0m\u001b[0m\n",
            "\u001b[0;32m/usr/local/lib/python3.6/dist-packages/matplotlib/axes/_base.py\u001b[0m in \u001b[0;36m_plot_args\u001b[0;34m(self, tup, kwargs)\u001b[0m\n\u001b[1;32m    340\u001b[0m \u001b[0;34m\u001b[0m\u001b[0m\n\u001b[1;32m    341\u001b[0m         \u001b[0;32mif\u001b[0m \u001b[0mx\u001b[0m\u001b[0;34m.\u001b[0m\u001b[0mshape\u001b[0m\u001b[0;34m[\u001b[0m\u001b[0;36m0\u001b[0m\u001b[0;34m]\u001b[0m \u001b[0;34m!=\u001b[0m \u001b[0my\u001b[0m\u001b[0;34m.\u001b[0m\u001b[0mshape\u001b[0m\u001b[0;34m[\u001b[0m\u001b[0;36m0\u001b[0m\u001b[0;34m]\u001b[0m\u001b[0;34m:\u001b[0m\u001b[0;34m\u001b[0m\u001b[0;34m\u001b[0m\u001b[0m\n\u001b[0;32m--> 342\u001b[0;31m             raise ValueError(f\"x and y must have same first dimension, but \"\n\u001b[0m\u001b[1;32m    343\u001b[0m                              f\"have shapes {x.shape} and {y.shape}\")\n\u001b[1;32m    344\u001b[0m         \u001b[0;32mif\u001b[0m \u001b[0mx\u001b[0m\u001b[0;34m.\u001b[0m\u001b[0mndim\u001b[0m \u001b[0;34m>\u001b[0m \u001b[0;36m2\u001b[0m \u001b[0;32mor\u001b[0m \u001b[0my\u001b[0m\u001b[0;34m.\u001b[0m\u001b[0mndim\u001b[0m \u001b[0;34m>\u001b[0m \u001b[0;36m2\u001b[0m\u001b[0;34m:\u001b[0m\u001b[0;34m\u001b[0m\u001b[0;34m\u001b[0m\u001b[0m\n",
            "\u001b[0;31mValueError\u001b[0m: x and y must have same first dimension, but have shapes (50,) and (1224,)"
          ]
        },
        {
          "output_type": "display_data",
          "data": {
            "image/png": "[encoded data removed]",
            "text/plain": [
              "<Figure size 432x288 with 1 Axes>"
            ]
          },
          "metadata": {
            "tags": [],
            "needs_background": "light"
          }
        }
      ]
    },
    {
      "cell_type": "markdown",
      "metadata": {
        "id": "bWGYv4E5ebnQ"
      },
      "source": [
        "##### SARIMA Model"
      ]
    },
    {
      "cell_type": "markdown",
      "metadata": {
        "id": "OqzCFf3KrzNN"
      },
      "source": [
        "- q - auto regressive part of the model. effect of past values into model. \n",
        "- d - amount of differnecing as it identifies the number of lag values to subtract from the current observation\n",
        "- q - moving average part of the model which is used to set the error of the model as a linear combination of the error values observed at previous time points in the past."
      ]
    },
    {
      "cell_type": "code",
      "metadata": {
        "id": "KkQPIzGQvUZ9"
      },
      "source": [
        "#import itertools"
      ],
      "execution_count": null,
      "outputs": []
    },
    {
      "cell_type": "code",
      "metadata": {
        "id": "nIpvcpo6ed2l"
      },
      "source": [
        "#define p,d,q with value between 0 & 2\n",
        "p = d = q = range(0, 3)\n",
        "\n",
        "#generate diff combos of p, q, & d triplets\n",
        "pdq = list(itertools.product(p, d, q))\n",
        "\n",
        "#generate all diff combos of seasonal p, d, q, triplets\n",
        "pdqs = [(x[0], x[1], x[2], 12) for x in list(itertools.product(p, d, q))]"
      ],
      "execution_count": null,
      "outputs": []
    },
    {
      "cell_type": "code",
      "metadata": {
        "id": "WWKq2TVtuhDT"
      },
      "source": [
        "#import statsmodels.api as sm"
      ],
      "execution_count": null,
      "outputs": []
    },
    {
      "cell_type": "code",
      "metadata": {
        "id": "ZK63TkG9s93d"
      },
      "source": [
        "# #initialize empty list\n",
        "# answer = []\n",
        "# #iterate through params\n",
        "# for comb in pdq:\n",
        "#   for combs in pdqs:\n",
        "#     try:\n",
        "#       mod = sm.tsa.statespace.SARIMAX(stocks_ts,\n",
        "#                                       order = comb,\n",
        "#                                       seasonal_order = combs,\n",
        "#                                       enforce_stationarity = False, \n",
        "#                                       enforce_invertibility = False)\n",
        "      \n",
        "#       output = mod.fit(maxiter = 200)\n",
        "#       answer.append([comb, combs, output.aic])\n",
        "#       print('ARIMA{} x {}12: AIC Calculated = {}'.format(comb, combs, output.aic))\n",
        "#     except:\n",
        "#       continue"
      ],
      "execution_count": null,
      "outputs": []
    },
    {
      "cell_type": "code",
      "metadata": {
        "id": "zmQdkVsZv7Y5"
      },
      "source": [
        "# Find the parameters with minimal AIC value\n",
        "ans_df = pd.DataFrame(answer, columns=['pdq', 'pdqs', 'aic'])\n",
        "ans_df.loc[ans_df['aic'].idxmin()]"
      ],
      "execution_count": null,
      "outputs": []
    },
    {
      "cell_type": "code",
      "metadata": {
        "id": "hAdLGLLQWAKP"
      },
      "source": [
        "stocks_ts = stocks_ts.to_timestamp(freq = 'B')"
      ],
      "execution_count": null,
      "outputs": []
    },
    {
      "cell_type": "code",
      "metadata": {
        "id": "Hgyr0GPsu36F"
      },
      "source": [
        "#plug in optimal parameter values\n",
        "arima_model = sm.tsa.statespace.SARIMAX(stocks_ts, \n",
        "                                        order = (2,1,2),\n",
        "                                        seasonal_order = (1,1,2,12),\n",
        "                                        enforce_stationarity=False,\n",
        "                                        enforce_invertibility=False)\n",
        "\n",
        "#fit model\n",
        "output = arima_model.fit()\n",
        "\n",
        "print(output.summary())"
      ],
      "execution_count": null,
      "outputs": []
    },
    {
      "cell_type": "code",
      "metadata": {
        "id": "y7Rv7Pycvb7u"
      },
      "source": [
        "output.plot_diagnostics(figsize = (15, 18))\n",
        "plt.show()"
      ],
      "execution_count": null,
      "outputs": []
    },
    {
      "cell_type": "markdown",
      "metadata": {
        "id": "nf46WIqbaFd3"
      },
      "source": [
        "###### Validating the SARIMA Model"
      ]
    },
    {
      "cell_type": "code",
      "metadata": {
        "id": "_Szd3IiwQtct"
      },
      "source": [
        "res = arima_model.filter(output.params)"
      ],
      "execution_count": null,
      "outputs": []
    },
    {
      "cell_type": "code",
      "metadata": {
        "id": "vaplV-VtQ8Ql"
      },
      "source": [
        "predict = res.get_prediction()\n",
        "pred_conf = predict.conf_int()"
      ],
      "execution_count": null,
      "outputs": []
    },
    {
      "cell_type": "code",
      "metadata": {
        "id": "x1WF3oFdwHFR"
      },
      "source": [
        "#get predictions\n",
        "pred = output.get_prediction(start = pd.to_datetime('2017-06-02'), \n",
        "                             #end = pd.to_datetime('2018-05-07'), \n",
        "                             dynamic = False)\n",
        "pred_conf = pred.conf_int()"
      ],
      "execution_count": null,
      "outputs": []
    },
    {
      "cell_type": "code",
      "metadata": {
        "id": "Qr7Vlye1ZZzW"
      },
      "source": [
        "stocks_ts.head(-10)"
      ],
      "execution_count": null,
      "outputs": []
    },
    {
      "cell_type": "code",
      "metadata": {
        "id": "0T1geNSzYMfb"
      },
      "source": [
        "rcParams['figure.figsize'] = 15, 6\n",
        "\n",
        "#plot observed\n",
        "ax = stocks_ts['2017-05-26':].plot(label = 'Observed')\n",
        "\n",
        "#plot predicted\n",
        "pred.predicted_mean.plot(ax = ax, label = 'One step ahead Forecast', alpha = 0.9)\n",
        "\n",
        "#set axes labels\n",
        "ax.set_xlabel('Date')\n",
        "ax.set_title('Real and Forecasted S&P 500 Price Values')\n",
        "ax.set_ylabel('S & P 500 Stock Prices')\n",
        "plt.legend()\n",
        "plt.show()"
      ],
      "execution_count": null,
      "outputs": []
    },
    {
      "cell_type": "code",
      "metadata": {
        "id": "B7qC_QKrbG8W"
      },
      "source": [
        "#real and predicted values\n",
        "stocks_forecasted = pred.predicted_mean.values\n",
        "stocks_truth = stocks_ts['2017-06-02':].values\n",
        "\n",
        "#compute mse\n",
        "mse = ((stocks_forecasted - stocks_truth) ** 2).mean()\n",
        "print('MSE is {}'.format(round(mse, 2)))"
      ],
      "execution_count": null,
      "outputs": []
    },
    {
      "cell_type": "markdown",
      "metadata": {
        "id": "oQfksrhXdUjk"
      },
      "source": [
        "###### Dynamic Forecasting"
      ]
    },
    {
      "cell_type": "code",
      "metadata": {
        "id": "_9Z8LD9UdXyw"
      },
      "source": [
        "pred_dynamic = output.get_prediction(start = pd.to_datetime('2017-06-02'),\n",
        "                                     dynamic = True, \n",
        "                                     full_results = True)\n",
        "pred_dynamic_conf = pred_dynamic.conf_int()"
      ],
      "execution_count": null,
      "outputs": []
    },
    {
      "cell_type": "code",
      "metadata": {
        "id": "MnmEw-dteRhF"
      },
      "source": [
        "stocks_forecasted = pred.predicted_mean"
      ],
      "execution_count": null,
      "outputs": []
    },
    {
      "cell_type": "code",
      "metadata": {
        "id": "2N1mmNSNdXqB"
      },
      "source": [
        "ax = stocks_ts['2017-06-02':].plot(label = 'Observed', figsize = (15, 8))\n",
        "pred_dynamic.predicted_mean.plot(label = 'Dynamic Forecast', ax = ax)\n",
        "\n",
        "# ax.fill_between(pred_dynamic_conf.index,\n",
        "#                 pred_dynamic_conf.iloc[:, 0],\n",
        "#                 pred_dynamic_conf.iloc[:, 1], color='g', alpha=.3)\n",
        "\n",
        "ax.fill_betweenx(ax.get_ylim(), pd.to_datetime('2018-05-11'), \n",
        "                 stocks_forecasted.index[-1], alpha=.1, zorder=-1)\n",
        "\n",
        "ax.set_xlabel('Date')\n",
        "ax.set_ylabel('S&P 500 Price')\n",
        "\n",
        "plt.legend()\n",
        "plt.show()"
      ],
      "execution_count": null,
      "outputs": []
    },
    {
      "cell_type": "code",
      "metadata": {
        "id": "8hskVuVIewwy"
      },
      "source": [
        "#real and predicted values\n",
        "stocks_forecasted = pred_dynamic.predicted_mean.values\n",
        "stocks_truth = stocks_ts['2017-06-02':].values\n",
        "\n",
        "#compute mse\n",
        "mse = ((stocks_forecasted - stocks_truth) ** 2).mean()\n",
        "print('MSE is {}'.format(round(mse, 2)))"
      ],
      "execution_count": null,
      "outputs": []
    },
    {
      "cell_type": "markdown",
      "metadata": {
        "id": "r9kYfDElfBv-"
      },
      "source": [
        "###### Producing and Visualizing Forecasts"
      ]
    },
    {
      "cell_type": "code",
      "metadata": {
        "id": "d5afX-sXfLSU"
      },
      "source": [
        "#forecast 365 steps into future\n",
        "prediction = output.get_forecast(steps = 365)\n",
        "\n",
        "#get conf intervals\n",
        "pred_conf = prediction.conf_int()"
      ],
      "execution_count": null,
      "outputs": []
    },
    {
      "cell_type": "code",
      "metadata": {
        "id": "eCmgL8BifLGP"
      },
      "source": [
        "# Plot future predictions with confidence intervals\n",
        "ax = stocks_ts.plot(label='Observed', figsize=(15, 8))\n",
        "prediction.predicted_mean.plot(ax=ax, label='Forecast')\n",
        "ax.fill_between(pred_conf.index,\n",
        "                pred_conf.iloc[:, 0],\n",
        "                pred_conf.iloc[:, 1], color='k', alpha=0.25)\n",
        "ax.set_xlabel('Date')\n",
        "ax.set_ylabel('S&P 500 Price')\n",
        "\n",
        "plt.legend()\n",
        "plt.show()"
      ],
      "execution_count": null,
      "outputs": []
    },
    {
      "cell_type": "markdown",
      "metadata": {
        "id": "xK43hkUtSQJj"
      },
      "source": [
        "#Interpret"
      ]
    },
    {
      "cell_type": "markdown",
      "metadata": {
        "id": "82Gj6RMRSXmy"
      },
      "source": [
        "#Summary"
      ]
    },
    {
      "cell_type": "markdown",
      "metadata": {
        "id": "o5HwAoqMSY2I"
      },
      "source": [
        "#Future Work"
      ]
    },
    {
      "cell_type": "code",
      "metadata": {
        "id": "Qk4DM6VxRpyE"
      },
      "source": [
        ""
      ],
      "execution_count": null,
      "outputs": []
    }
  ]
}