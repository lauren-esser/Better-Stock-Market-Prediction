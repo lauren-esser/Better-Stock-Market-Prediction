{
  "nbformat": 4,
  "nbformat_minor": 0,
  "metadata": {
    "colab": {
      "name": "Capstone11-12.ipynb",
      "provenance": [],
      "collapsed_sections": [
        "SIkhGZ2YkcWH"
      ],
      "authorship_tag": "ABX9TyNMR5XrdhM0cE2Q69NxlHeN",
      "include_colab_link": true
    },
    "kernelspec": {
      "display_name": "Python 3",
      "name": "python3"
    }
  },
  "cells": [
    {
      "cell_type": "markdown",
      "metadata": {
        "id": "view-in-github",
        "colab_type": "text"
      },
      "source": [
        "<a href=\"https://colab.research.google.com/github/lauren-esser/capstone-predicting-the-stock-market/blob/master/Capstone11_12.ipynb\" target=\"_parent\"><img src=\"https://colab.research.google.com/assets/colab-badge.svg\" alt=\"Open In Colab\"/></a>"
      ]
    },
    {
      "cell_type": "markdown",
      "metadata": {
        "id": "1v1si4QNR3QI"
      },
      "source": [
        "#Final Project Submission:"
      ]
    },
    {
      "cell_type": "markdown",
      "metadata": {
        "id": "_3XGAJiTR6Tj"
      },
      "source": [
        "**Student Name:** Lauren Esser\n",
        "\n",
        "**Student Pace:** Full Time\n",
        "\n",
        "**Scheduled Project Review Date/Time:**  \n",
        "\n",
        "**Instructor Name:** James Irving\n",
        "\n",
        "**Blog Post URLS:**  https://lauren-esser.github.io/how_to_use_newsapi and "
      ]
    },
    {
      "cell_type": "markdown",
      "metadata": {
        "id": "HSw-x3WESIjh"
      },
      "source": [
        "#Abstract"
      ]
    },
    {
      "cell_type": "markdown",
      "metadata": {
        "id": "ZHH93unLSKkj"
      },
      "source": [
        "An Abstract section that briefly explains your problem, your methodology, and your findings, and business recommendations as a result of your findings. This section should be 1-2 paragraphs long.\n"
      ]
    },
    {
      "cell_type": "markdown",
      "metadata": {
        "id": "uLKNK6x3Ts0v"
      },
      "source": [
        "#Import"
      ]
    },
    {
      "cell_type": "code",
      "metadata": {
        "id": "il5uJHiXT2ex"
      },
      "source": [
        "import numpy as np\n",
        "np.random.seed(1919)"
      ],
      "execution_count": null,
      "outputs": []
    },
    {
      "cell_type": "code",
      "metadata": {
        "id": "AZ6z4dm-T218"
      },
      "source": [
        "import tensorflow as tf\n",
        "tf.random.set_seed(1919)"
      ],
      "execution_count": null,
      "outputs": []
    },
    {
      "cell_type": "code",
      "metadata": {
        "id": "GVLnEWsYTujD"
      },
      "source": [
        "#import other libraries\n",
        "import pandas as pd\n",
        "import matplotlib.pyplot as plt\n",
        "import matplotlib.image as mpimg\n",
        "%matplotlib inline\n",
        "import seaborn as sns\n",
        "import os, glob\n",
        "from statsmodels.tsa.stattools import adfuller\n"
      ],
      "execution_count": null,
      "outputs": []
    },
    {
      "cell_type": "code",
      "metadata": {
        "id": "U9hTtfQ-UdVI"
      },
      "source": [
        "#connect to google drive\n",
        "from google.colab import drive\n",
        "drive.mount('/gdrive', force_remount = True)"
      ],
      "execution_count": null,
      "outputs": []
    },
    {
      "cell_type": "code",
      "metadata": {
        "id": "0wspf0qVUrgM"
      },
      "source": [
        "%cd ~\n",
        "%cd .."
      ],
      "execution_count": null,
      "outputs": []
    },
    {
      "cell_type": "code",
      "metadata": {
        "id": "a6tjz8moU2Gh"
      },
      "source": [
        "!ls \"/gdrive/My Drive/Colab Notebooks/DataSets\""
      ],
      "execution_count": null,
      "outputs": []
    },
    {
      "cell_type": "code",
      "metadata": {
        "id": "9c2SOshwXc86"
      },
      "source": [
        "print(os.path.abspath(os.curdir))\n",
        "os.listdir()"
      ],
      "execution_count": null,
      "outputs": []
    },
    {
      "cell_type": "markdown",
      "metadata": {
        "id": "yd565cN7SQj6"
      },
      "source": [
        "#Obtain"
      ]
    },
    {
      "cell_type": "markdown",
      "metadata": {
        "id": "KdJhpVnkfpgl"
      },
      "source": [
        "Obtain Stocks Dataset:\n",
        "1. Go to http://www.kibot.com/free_historical_data.aspx\n",
        "2. Scroll to bottom of page and download \"Tick with bid/ask data\" under IVE(S&P 500 Value Index) \n",
        "3. Upload to Google drive\n",
        "4. Follow below steps"
      ]
    },
    {
      "cell_type": "code",
      "metadata": {
        "id": "VZF-FyyFWeYb"
      },
      "source": [
        "#import and assign txt file\n",
        "source_folder = r'/gdrive/My Drive/Colab Notebooks/DataSets/'\n",
        "target_folder = r'/content/'\n",
        "file = glob.glob(source_folder+ 'IVE_tickbidask.txt', recursive = True)\n",
        "file = file[0]\n",
        "file"
      ],
      "execution_count": null,
      "outputs": []
    },
    {
      "cell_type": "code",
      "metadata": {
        "id": "GT1dbt4ggcCq"
      },
      "source": [
        "#define and view txt file\n",
        "stocks = pd.read_csv(file, header = None)\n",
        "stocks.head()"
      ],
      "execution_count": null,
      "outputs": []
    },
    {
      "cell_type": "code",
      "metadata": {
        "id": "PhDa88vgiGVk"
      },
      "source": [
        "#rename column headers\n",
        "stocks = stocks.rename(columns={0: 'Date', 1:'Time', 2: 'Price', 3:'Bid',\n",
        "                                4: 'Ask', 5:'Size'})\n",
        "stocks"
      ],
      "execution_count": null,
      "outputs": []
    },
    {
      "cell_type": "markdown",
      "metadata": {
        "id": "SIkhGZ2YkcWH"
      },
      "source": [
        "#### News API: Can only access up to one month of news headlines for free"
      ]
    },
    {
      "cell_type": "code",
      "metadata": {
        "id": "Dy_k0uB5zw0v"
      },
      "source": [
        "#pip install newsapi-python"
      ],
      "execution_count": null,
      "outputs": []
    },
    {
      "cell_type": "code",
      "metadata": {
        "id": "Ityz-d3IznaY"
      },
      "source": [
        "# from newsapi import NewsApiClient"
      ],
      "execution_count": null,
      "outputs": []
    },
    {
      "cell_type": "code",
      "metadata": {
        "id": "DVZp4WaqK-fA"
      },
      "source": [
        "\n",
        "# connect with API key\n",
        "# newsapi = NewsApiClient(api_key = '')"
      ],
      "execution_count": null,
      "outputs": []
    },
    {
      "cell_type": "code",
      "metadata": {
        "id": "ToQECBlJZlPL"
      },
      "source": [
        "#identify news source options\n",
        "# news_sources = newsapi.get_sources()\n",
        "# news_sourcecs_list = []\n",
        "# for sources in news_sources['sources']:\n",
        "#   news_sourcecs_list.append(sources['name'])\n",
        "#   print(sources['name'])"
      ],
      "execution_count": null,
      "outputs": []
    },
    {
      "cell_type": "code",
      "metadata": {
        "id": "jqcXdTH_L_J6"
      },
      "source": [
        "# #test out newsapi.get_everything for specific date\n",
        "# date = '2020-11-01'\n",
        "# news_headlines_everything = newsapi.get_everything('&from = (date)', '&to = (date1)', language = 'en')\n",
        "                                                \n",
        "# news_titles_everything = []\n",
        "# for article in news_headlines_everything['articles']:\n",
        "#   news_titles_everything.append(article['title'])\n",
        "#   print(article['title'])"
      ],
      "execution_count": null,
      "outputs": []
    },
    {
      "cell_type": "code",
      "metadata": {
        "id": "W0CSfHCkOk61"
      },
      "source": [
        "# #create empty list\n",
        "# news_titles = []\n",
        "\n",
        "# #create function\n",
        "# def get_news_titles(date):\n",
        "#   '''Used to get a list of 20 news titles from usatoday on date specified via newsapi.org.\n",
        "\n",
        "#   Args: date = desired date\n",
        "\n",
        "#   Returns: List of 20 news articles from the specified date with the date listed after\n",
        "\n",
        "#   Example: get_news_titles('2020-11-01')'''\n",
        "  \n",
        "#   date = date\n",
        "#   news_headlines_everything = newsapi.get_everything(from_param = (date), to = (date), language = 'en', domains = 'usatoday.com')\n",
        "#   for article in news_headlines_everything['articles']:\n",
        "#     news_titles.append([article['title'], date])\n",
        "#     #print(article['title'])\n",
        "#     #return news_titles"
      ],
      "execution_count": null,
      "outputs": []
    },
    {
      "cell_type": "code",
      "metadata": {
        "id": "Ou2M7gYa0d9t"
      },
      "source": [
        "# get_news_titles('2020-11-01')"
      ],
      "execution_count": null,
      "outputs": []
    },
    {
      "cell_type": "code",
      "metadata": {
        "id": "LUSb13CM08ny"
      },
      "source": [
        "# news_titles"
      ],
      "execution_count": null,
      "outputs": []
    },
    {
      "cell_type": "code",
      "metadata": {
        "id": "HhYe_oC24QoI"
      },
      "source": [
        "# get_news_titles('2020-10-25')\n",
        "# news_titles"
      ],
      "execution_count": null,
      "outputs": []
    },
    {
      "cell_type": "code",
      "metadata": {
        "id": "1PeKybtZ4sKa"
      },
      "source": [
        "# len(news_titles)"
      ],
      "execution_count": null,
      "outputs": []
    },
    {
      "cell_type": "code",
      "metadata": {
        "id": "CqiaSuks9Lfp"
      },
      "source": [
        "# # sunday_news = ['2020-01-05', '2020-01-12', '2020-01-19', '2020-01-26', '2020-02-02', \n",
        "#                '2020-02-09', '2020-02-16', '2020-02-23', '2020-03-01', '2020-03-08',\n",
        "#                '2020-03-15', '2020-03-22', '2020-03-29', '2020-04-05', '2020-04-12',\n",
        "#                '2020-04-19', '2020-04-26', '2020-05-03', '2020-05-10', '2020-05-17',\n",
        "#                '2020-05-24', '2020-05-31', '2020-06-07', '2020-06-14', '2020-06-21',\n",
        "#                '2020-06-28', '2020-07-05', '2020-07-12', '2020-07-19', '2020-07-26', \n",
        "#                '2020-08-02', '2020-08-09', '2020-08-16', '2020-08-23', '2020-08-30',\n",
        "#                '2020-09-06', '2020-09-13', '2020-09-20', '2020-09-27', '2020-10-04', \n",
        "#                '2020-10-11', '2020-10-18', '2020-10-25', '2020-11-01']"
      ],
      "execution_count": null,
      "outputs": []
    },
    {
      "cell_type": "code",
      "metadata": {
        "id": "wo5Twcuv-9qc"
      },
      "source": [
        "# for date in sunday_news:\n",
        "#   new = get_news_titles(date)\n",
        "#   news_titles.append(new)\n",
        "# return news_titles"
      ],
      "execution_count": null,
      "outputs": []
    },
    {
      "cell_type": "code",
      "metadata": {
        "id": "Qt6AswAGLG9w"
      },
      "source": [
        "#newsapi.get_top_headlines for today\n",
        "# news_headlines = newsapi.get_top_headlines(language = 'en', country = 'us')\n",
        "# news_titles = []\n",
        "# for article in news_headlines['articles']:\n",
        "#   news_titles.append(article['title'])\n",
        "#   print(article['title'])"
      ],
      "execution_count": null,
      "outputs": []
    },
    {
      "cell_type": "markdown",
      "metadata": {
        "id": "WM646mq6f_po"
      },
      "source": [
        "#### Obtain News Dataset"
      ]
    },
    {
      "cell_type": "markdown",
      "metadata": {
        "id": "vItcMDVDg-pF"
      },
      "source": [
        "News Category Dataset from Kaggle:\n",
        "1. Go to https://www.kaggle.com/rmisra/news-category-dataset\n",
        "2. Download dataset to your computer\n",
        "3. Upload dataset into your Google Drive folder\n",
        "4. Follow steps below"
      ]
    },
    {
      "cell_type": "code",
      "metadata": {
        "id": "eyn2JyKPgQJW"
      },
      "source": [
        "!ls \"/gdrive/My Drive/Colab Notebooks/DataSets\""
      ],
      "execution_count": null,
      "outputs": []
    },
    {
      "cell_type": "code",
      "metadata": {
        "id": "NxQW3XGtgbJa"
      },
      "source": [
        "print(os.path.abspath(os.curdir))\n",
        "os.listdir()"
      ],
      "execution_count": null,
      "outputs": []
    },
    {
      "cell_type": "code",
      "metadata": {
        "id": "1M0dx1Nvgec1"
      },
      "source": [
        "source_folder = r'/gdrive/My Drive/Colab Notebooks/DataSets/'\n",
        "target_folder = r'/content/'\n",
        "file = glob.glob(source_folder+ 'archive.zip', recursive = True)\n",
        "file = file[0]\n",
        "file"
      ],
      "execution_count": null,
      "outputs": []
    },
    {
      "cell_type": "code",
      "metadata": {
        "id": "vc00gpz_gkwq"
      },
      "source": [
        "#upzip data\n",
        "zip_path = file\n",
        "!cp '{zip_path}' .\n",
        "\n",
        "!unzip -q archive.zip\n",
        "!rm archive.zip"
      ],
      "execution_count": null,
      "outputs": []
    },
    {
      "cell_type": "code",
      "metadata": {
        "id": "-NyPkmyyhj_C"
      },
      "source": [
        "#open file for viewing\n",
        "news = pd.read_json('/gdrive/My Drive/Colab Notebooks/DataSets/News_Category_Dataset_v2.json', lines = True)"
      ],
      "execution_count": null,
      "outputs": []
    },
    {
      "cell_type": "code",
      "metadata": {
        "id": "2Zu0vnx1i4iH"
      },
      "source": [
        "news.head(20)"
      ],
      "execution_count": null,
      "outputs": []
    },
    {
      "cell_type": "markdown",
      "metadata": {
        "id": "LglEFbnDSQed"
      },
      "source": [
        "#Scrub"
      ]
    },
    {
      "cell_type": "markdown",
      "metadata": {
        "id": "XQIhHZNiX_qI"
      },
      "source": [
        "### Scrubbing Stocks"
      ]
    },
    {
      "cell_type": "code",
      "metadata": {
        "id": "iz5bAH0VOUGP"
      },
      "source": [
        "#check nulls\n",
        "stocks.isna().sum()"
      ],
      "execution_count": null,
      "outputs": []
    },
    {
      "cell_type": "code",
      "metadata": {
        "id": "Q9dFabUjleUh"
      },
      "source": [
        "stocks.info()"
      ],
      "execution_count": null,
      "outputs": []
    },
    {
      "cell_type": "code",
      "metadata": {
        "id": "VxCuo9yjXQxa"
      },
      "source": [
        "#convert date to a datetime column\n",
        "stocks['Date'] = pd.to_datetime(stocks['Date'])#, format = '%d/%m/%y')"
      ],
      "execution_count": null,
      "outputs": []
    },
    {
      "cell_type": "code",
      "metadata": {
        "id": "L1eapxSsXp9U"
      },
      "source": [
        "stocks.info()"
      ],
      "execution_count": null,
      "outputs": []
    },
    {
      "cell_type": "code",
      "metadata": {
        "id": "iOqD0N_7Xvje"
      },
      "source": [
        "#set date to index\n",
        "stocks.set_index('Date', inplace= True)"
      ],
      "execution_count": null,
      "outputs": []
    },
    {
      "cell_type": "code",
      "metadata": {
        "id": "hELeZhv9zItu"
      },
      "source": [
        "stocks.index"
      ],
      "execution_count": null,
      "outputs": []
    },
    {
      "cell_type": "code",
      "metadata": {
        "id": "Ae9AP4rRX3nU"
      },
      "source": [
        "stocks.head()"
      ],
      "execution_count": null,
      "outputs": []
    },
    {
      "cell_type": "code",
      "metadata": {
        "id": "oFAPalQBfqfN"
      },
      "source": [
        "stocks.info()"
      ],
      "execution_count": null,
      "outputs": []
    },
    {
      "cell_type": "markdown",
      "metadata": {
        "id": "l6OEEqcdp3hn"
      },
      "source": [
        "### Scrubbing News"
      ]
    },
    {
      "cell_type": "code",
      "metadata": {
        "id": "uXQtITmhrOBi"
      },
      "source": [
        "news.head()"
      ],
      "execution_count": null,
      "outputs": []
    },
    {
      "cell_type": "code",
      "metadata": {
        "id": "-BeMZF-Ej4E8"
      },
      "source": [
        "news.info()"
      ],
      "execution_count": null,
      "outputs": []
    },
    {
      "cell_type": "code",
      "metadata": {
        "id": "wQNgqZPtp67p"
      },
      "source": [
        "news.isna().sum()"
      ],
      "execution_count": null,
      "outputs": []
    },
    {
      "cell_type": "code",
      "metadata": {
        "id": "H_Hua7k_jwZb"
      },
      "source": [
        "news.nunique()"
      ],
      "execution_count": null,
      "outputs": []
    },
    {
      "cell_type": "code",
      "metadata": {
        "id": "-OysOZ05qFyh"
      },
      "source": [
        "#check diff categories\n",
        "news.category.value_counts()"
      ],
      "execution_count": null,
      "outputs": []
    },
    {
      "cell_type": "code",
      "metadata": {
        "id": "7alyNMzSph5O"
      },
      "source": [
        "#end date\n",
        "news.date.max()"
      ],
      "execution_count": null,
      "outputs": []
    },
    {
      "cell_type": "code",
      "metadata": {
        "id": "EX7DtioMpjoy"
      },
      "source": [
        "#start date\n",
        "news.date.min()"
      ],
      "execution_count": null,
      "outputs": []
    },
    {
      "cell_type": "code",
      "metadata": {
        "id": "16Opc79Mrh5N"
      },
      "source": [
        "news.set_index('date', inplace= True)"
      ],
      "execution_count": null,
      "outputs": []
    },
    {
      "cell_type": "code",
      "metadata": {
        "id": "JDSAh9Q8rm3m"
      },
      "source": [
        "news.head(20)"
      ],
      "execution_count": null,
      "outputs": []
    },
    {
      "cell_type": "code",
      "metadata": {
        "id": "YBXRohWQkBBk"
      },
      "source": [
        "import nltk\n",
        "nltk.download('punkt')\n",
        "nltk.download('stopwords')"
      ],
      "execution_count": null,
      "outputs": []
    },
    {
      "cell_type": "code",
      "metadata": {
        "id": "uVLHAagJj1dZ"
      },
      "source": [
        "from nltk.tokenize import word_tokenize\n",
        "from nltk.corpus import stopwords\n",
        "import string"
      ],
      "execution_count": null,
      "outputs": []
    },
    {
      "cell_type": "code",
      "metadata": {
        "id": "9UQFB-oBmI72"
      },
      "source": [
        "stopwords = stopwords.words('english')\n",
        "stopwords += list(string.punctuation)"
      ],
      "execution_count": null,
      "outputs": []
    },
    {
      "cell_type": "code",
      "metadata": {
        "id": "Nrb2snuond6N"
      },
      "source": [
        "pattern = \"([a-zA-Z]+(?:'[a-z]+)?)\"\n",
        "news_token = []\n",
        "for headline in news.headline:\n",
        "  tokens = nltk.regexp_tokenize(headline, pattern)\n",
        "  stopped_tokens = [w.lower() for w in tokens if w not in stopwords]\n",
        "  news_token.append(stopped_tokens)"
      ],
      "execution_count": null,
      "outputs": []
    },
    {
      "cell_type": "code",
      "metadata": {
        "id": "8H2X5ATxBomc"
      },
      "source": [
        "news_token"
      ],
      "execution_count": null,
      "outputs": []
    },
    {
      "cell_type": "code",
      "metadata": {
        "id": "EghVMCuSKEga"
      },
      "source": [
        "num_dims = len(news_token)\n",
        "print(\"Number of Dimensions: {}\".format(num_dims))"
      ],
      "execution_count": null,
      "outputs": []
    },
    {
      "cell_type": "code",
      "metadata": {
        "id": "0uq0oHQ6KZu3"
      },
      "source": [
        "vals_list = []\n",
        "\n",
        "for i in news_token:\n",
        "  vals_list.append(list(i.values()))\n",
        "\n",
        "vals_list[0][:10]"
      ],
      "execution_count": null,
      "outputs": []
    },
    {
      "cell_type": "code",
      "metadata": {
        "id": "yHHtL7j6oUIG"
      },
      "source": [
        "from nltk import FreqDist"
      ],
      "execution_count": null,
      "outputs": []
    },
    {
      "cell_type": "code",
      "metadata": {
        "id": "d4kSCW7Po_-m"
      },
      "source": [
        "freqdist = FreqDist(news_token)\n",
        "most_common = freqdist.most_common(200)\n",
        "most_common"
      ],
      "execution_count": null,
      "outputs": []
    },
    {
      "cell_type": "code",
      "metadata": {
        "id": "2TkfT5fXkiJK"
      },
      "source": [
        "news.head()"
      ],
      "execution_count": null,
      "outputs": []
    },
    {
      "cell_type": "markdown",
      "metadata": {
        "id": "86xW_lb8SQYu"
      },
      "source": [
        "#Explore"
      ]
    },
    {
      "cell_type": "markdown",
      "metadata": {
        "id": "KVOIpEwbZD5n"
      },
      "source": [
        "### Stocks Exploration"
      ]
    },
    {
      "cell_type": "markdown",
      "metadata": {
        "id": "wiyBgKhSbRdM"
      },
      "source": [
        "In order to make sure we are looking at the same time frame for both stocks and news articles, I will slice and save the correct dates for stocks to correspond to the news articles: 2012-01-28 to 2018-05-26.\n"
      ]
    },
    {
      "cell_type": "code",
      "metadata": {
        "id": "WvXDJwoebQvz"
      },
      "source": [
        "stocks_news = stocks['2012-01-28': '2018-05-26']\n",
        "stocks_news.head()"
      ],
      "execution_count": null,
      "outputs": []
    },
    {
      "cell_type": "markdown",
      "metadata": {
        "id": "Z1CntEWhco0c"
      },
      "source": [
        "I want to look at weekly mean of stocks for comparison during my Exploration."
      ]
    },
    {
      "cell_type": "code",
      "metadata": {
        "id": "8PG1y4s_YOO4"
      },
      "source": [
        "#downsampling to weekly price if needed\n",
        "price_weekly = stocks_news['Price'].resample('W')\n",
        "weekly_mean = price_weekly.mean()\n",
        "weekly_mean.head()"
      ],
      "execution_count": null,
      "outputs": []
    },
    {
      "cell_type": "code",
      "metadata": {
        "id": "2S_4yT33zejn"
      },
      "source": [
        "weekly_mean.isna().sum()"
      ],
      "execution_count": null,
      "outputs": []
    },
    {
      "cell_type": "markdown",
      "metadata": {
        "id": "0bRHxqWohk_A"
      },
      "source": [
        "###### Line Plot"
      ]
    },
    {
      "cell_type": "code",
      "metadata": {
        "id": "8vRptZfdZGKM"
      },
      "source": [
        "#line plot of stocks price over the years\n",
        "fig, (ax, ax1) = plt.subplots(2, figsize = (15, 8))\n",
        "ax.plot(stocks_news['Price'])\n",
        "ax.set_title('Stock Price Through The Years')\n",
        "ax.set_ylabel('Price')\n",
        "ax.set_xlabel('Year')\n",
        "\n",
        "#weekly lineplot \n",
        "ax1.plot(weekly_mean)\n",
        "ax1.set_title('Weekly Mean of Stock Price Through The Years')\n",
        "ax1.set_ylabel('Price')\n",
        "ax1.set_xlabel('Year')\n",
        "\n",
        "#label outer to see 2nd title\n",
        "ax.label_outer()"
      ],
      "execution_count": null,
      "outputs": []
    },
    {
      "cell_type": "markdown",
      "metadata": {
        "id": "73mIr_Rx0q3d"
      },
      "source": [
        "---"
      ]
    },
    {
      "cell_type": "markdown",
      "metadata": {
        "id": "er_xD-bkYkjw"
      },
      "source": [
        "###### Dot Plot"
      ]
    },
    {
      "cell_type": "code",
      "metadata": {
        "id": "-6oVhdqC2LUM"
      },
      "source": [
        "#dot plot of stocks price over the years\n",
        "fig, (ax, ax1) = plt.subplots(2, figsize = (15, 8))\n",
        "ax.plot(stocks_news['Price'], '.')\n",
        "ax.set_title('Stock Price Through The Years')\n",
        "ax.set_ylabel('Price')\n",
        "ax.set_xlabel('Year')\n",
        "\n",
        "#weekly dot plot \n",
        "ax1.plot(weekly_mean, '.')\n",
        "ax1.set_title('Weekly Mean of Stock Price Through The Years')\n",
        "ax1.set_ylabel('Price')\n",
        "ax1.set_xlabel('Year')\n",
        "\n",
        "#label outer to see 2nd title\n",
        "ax.label_outer()"
      ],
      "execution_count": null,
      "outputs": []
    },
    {
      "cell_type": "markdown",
      "metadata": {
        "id": "poeuvpivYmkR"
      },
      "source": [
        "---"
      ]
    },
    {
      "cell_type": "markdown",
      "metadata": {
        "id": "1z4x5XID4ZrT"
      },
      "source": [
        "###### Rolling Statistics"
      ]
    },
    {
      "cell_type": "code",
      "metadata": {
        "id": "uQyvzMPK4ZHz"
      },
      "source": [
        "roll_mean = stocks_news['Price'].rolling(window = 8, center = False).mean()\n",
        "roll_std = stocks_news['Price'].rolling(window = 8, center = False).std()"
      ],
      "execution_count": null,
      "outputs": []
    },
    {
      "cell_type": "code",
      "metadata": {
        "id": "KiLB48MQ4rt6"
      },
      "source": [
        "fig = plt.figure(figsize = (15, 8))\n",
        "plt.plot(stocks_news['Price'], color = 'blue', label = 'Original')\n",
        "plt.plot(roll_mean, color = 'green', label = 'Rolling Mean')\n",
        "plt.plot(roll_std, color = 'black', label = 'Rolling Std')\n",
        "plt.legend()\n",
        "plt.title('Rolling Mean & Standard Deviation')\n",
        "plt.show()"
      ],
      "execution_count": null,
      "outputs": []
    },
    {
      "cell_type": "markdown",
      "metadata": {
        "id": "ryDESIE0YoxY"
      },
      "source": [
        "---"
      ]
    },
    {
      "cell_type": "markdown",
      "metadata": {
        "id": "qlv7_4wz9Kyf"
      },
      "source": [
        "###### The Dickey-Fuller Test"
      ]
    },
    {
      "cell_type": "code",
      "metadata": {
        "id": "Ch9VZoNu9KYS"
      },
      "source": [
        "dftest = adfuller(weekly_mean)\n",
        "\n",
        "dfoutput = pd.Series(dftest[0:4], index = ['Test Statistic', 'p-value', '#Lags Used',\n",
        "                                           'Number of Observations Used'])\n",
        "for key, value in dftest[4].items():\n",
        "  dfoutput['Critical Values (%s)' %key] = value\n",
        "print(dftest)"
      ],
      "execution_count": null,
      "outputs": []
    },
    {
      "cell_type": "code",
      "metadata": {
        "id": "qifW0Lj_90uM"
      },
      "source": [
        "print('Results of Dicky-Fuller test: \\n')\n",
        "\n",
        "print(dfoutput)"
      ],
      "execution_count": null,
      "outputs": []
    },
    {
      "cell_type": "markdown",
      "metadata": {
        "id": "qufL13LW3pkT"
      },
      "source": [
        "**Summary:**\n",
        "- Not a stationary series\n",
        "- Linear upward trend\n",
        "- Big drop near the end of 2015.\n"
      ]
    },
    {
      "cell_type": "markdown",
      "metadata": {
        "id": "TrTsA9ugYq9X"
      },
      "source": [
        "---"
      ]
    },
    {
      "cell_type": "markdown",
      "metadata": {
        "id": "KFKvwJ_whpHN"
      },
      "source": [
        "###### Grouping and Visualizing Time Series"
      ]
    },
    {
      "cell_type": "code",
      "metadata": {
        "id": "FaFVqVjLNwy8"
      },
      "source": [
        "stocks_news.head()"
      ],
      "execution_count": null,
      "outputs": []
    },
    {
      "cell_type": "code",
      "metadata": {
        "id": "4ZI7kDU0edNq"
      },
      "source": [
        "stocks_news.index"
      ],
      "execution_count": null,
      "outputs": []
    },
    {
      "cell_type": "markdown",
      "metadata": {
        "id": "GPC-0DvofALw"
      },
      "source": [
        "James suggestion in class: kinda confused, may need to wait for one on one."
      ]
    },
    {
      "cell_type": "code",
      "metadata": {
        "id": "cnEr5mHseqtw"
      },
      "source": [
        "#group values annually\n",
        "year_groups = stocks_news.groupby(pd.Grouper(freq = 'A'))"
      ],
      "execution_count": null,
      "outputs": []
    },
    {
      "cell_type": "code",
      "metadata": {
        "id": "I_tHRZNdNzZ9"
      },
      "source": [
        "# #add year column for ease of use\n",
        "# stocks_news['year'] = stocks_news.index.to_series().apply(lambda x: x.year)\n",
        "\n",
        "# #check column\n",
        "# stocks_news.head()"
      ],
      "execution_count": null,
      "outputs": []
    },
    {
      "cell_type": "code",
      "metadata": {
        "id": "iSsrwgHGezwF"
      },
      "source": [
        "# #create new dataframe to store yearly values\n",
        "# stocks_annual = pd.DataFrame()\n",
        "\n",
        "# for yr, group in year_groups:\n",
        "#   stocks_annual[yr.year] = group.values.ravel()\n",
        "\n",
        "# #plot yearly subplots\n",
        "# stocks_annual.plot(figsize=(15, 8), subplots = True, legend = True);\n",
        "# plt.show()"
      ],
      "execution_count": null,
      "outputs": []
    },
    {
      "cell_type": "code",
      "metadata": {
        "id": "ETDfDQxLNbqB"
      },
      "source": [
        "# year_groups.keys()"
      ],
      "execution_count": null,
      "outputs": []
    },
    {
      "cell_type": "code",
      "metadata": {
        "id": "8ZcMsS2JhMRx"
      },
      "source": [
        "#plot all years on same graph\n",
        "# stocks_annual.plot(figsize - (15,8), subplots = False, legend = True)\n",
        "# plt.show()"
      ],
      "execution_count": null,
      "outputs": []
    },
    {
      "cell_type": "markdown",
      "metadata": {
        "id": "H1Ue9wp0huy-"
      },
      "source": [
        "###### Histograms"
      ]
    },
    {
      "cell_type": "code",
      "metadata": {
        "id": "jRa9dxuuh0Xh"
      },
      "source": [
        "#build histogram to check distribution\n",
        "fig, ax = plt.subplots(figsize = (12, 5))\n",
        "ax.hist(stocks_news['Price'])\n",
        "ax.set_title('Stock Price')\n",
        "plt.show()"
      ],
      "execution_count": null,
      "outputs": []
    },
    {
      "cell_type": "markdown",
      "metadata": {
        "id": "38Its6qrZCta"
      },
      "source": [
        "###### Density Plot"
      ]
    },
    {
      "cell_type": "code",
      "metadata": {
        "id": "3tXwqxMMiKPB",
        "colab": {
          "background_save": true
        }
      },
      "source": [
        "#build density plot to check distribution\n",
        "stocks_news['Price'].plot(kind = 'kde', figsize = (12, 5));\n",
        "ax.set_title('Density Plot of Stock Price')"
      ],
      "execution_count": null,
      "outputs": []
    },
    {
      "cell_type": "markdown",
      "metadata": {
        "id": "gWOrAcovirc2"
      },
      "source": [
        "###### Time Series Box and Whisker Plots by Year"
      ]
    },
    {
      "cell_type": "code",
      "metadata": {
        "id": "KLScEJrcivGO",
        "colab": {
          "background_save": true
        }
      },
      "source": [
        "#build box and whiskers plot by year\n",
        "#stocks_annual.boxplot(figsize = (12, 5));"
      ],
      "execution_count": null,
      "outputs": []
    },
    {
      "cell_type": "markdown",
      "metadata": {
        "id": "dtLHdBcji_y4"
      },
      "source": [
        "###### Time Series Heat Map"
      ]
    },
    {
      "cell_type": "code",
      "metadata": {
        "id": "0H1r8jmnjB3L",
        "colab": {
          "background_save": true
        }
      },
      "source": [
        "#year_matrix = stocks_annual.T\n",
        "#plt.matshow(year_matrix, interpolation = None, aspect = 'auto');"
      ],
      "execution_count": null,
      "outputs": []
    },
    {
      "cell_type": "markdown",
      "metadata": {
        "id": "QuOXNlooAa5t"
      },
      "source": [
        "#### Eliminating the trend"
      ]
    },
    {
      "cell_type": "markdown",
      "metadata": {
        "id": "2AGweExQ0YBR"
      },
      "source": [
        "##### Square Root Transform"
      ]
    },
    {
      "cell_type": "code",
      "metadata": {
        "id": "I3oKEOx0AeNF",
        "colab": {
          "background_save": true
        }
      },
      "source": [
        "data = pd.Series(np.sqrt(stocks_news['Price']))\n",
        "fig = plt.figure(figsize = (15, 8))\n",
        "plt.plot(data, color = 'blue')\n",
        "plt.xlabel('Year')\n",
        "plt.ylabel('sqrt(yearly sales')\n",
        "plt.show()"
      ],
      "execution_count": null,
      "outputs": []
    },
    {
      "cell_type": "markdown",
      "metadata": {
        "id": "HrXa0vmXzWmk"
      },
      "source": [
        "##### Log Transformation"
      ]
    },
    {
      "cell_type": "code",
      "metadata": {
        "id": "JoCF47rzAeVn",
        "colab": {
          "background_save": true
        }
      },
      "source": [
        "data = pd.Series(np.log(stocks_news['Price']))\n",
        "fig = plt.figure(figsize = (15, 8))\n",
        "plt.plot(data, color = 'blue')\n",
        "plt.xlabel('Year')\n",
        "plt.ylabel('log(yearly sales')\n",
        "plt.show()"
      ],
      "execution_count": null,
      "outputs": []
    },
    {
      "cell_type": "markdown",
      "metadata": {
        "id": "LtIunri20g-W"
      },
      "source": [
        "##### Differencing\n"
      ]
    },
    {
      "cell_type": "code",
      "metadata": {
        "id": "UxLcq63E1lZ0",
        "colab": {
          "background_save": true
        }
      },
      "source": [
        "data_diff = data.diff(periods = 1)\n",
        "data_diff.head()"
      ],
      "execution_count": null,
      "outputs": []
    },
    {
      "cell_type": "code",
      "metadata": {
        "id": "HleHEikx1uVN",
        "colab": {
          "background_save": true
        }
      },
      "source": [
        "fig = plt.figure(figsize=(11,7))\n",
        "plt.plot(data_diff, color='blue',label='Stock Price - rolling mean')\n",
        "plt.legend(loc='best')\n",
        "plt.title('Differenced Stock Price series')\n",
        "plt.show(block=False)"
      ],
      "execution_count": null,
      "outputs": []
    },
    {
      "cell_type": "code",
      "metadata": {
        "id": "HIGUnaTqWGB_",
        "colab": {
          "background_save": true
        }
      },
      "source": [
        "data_diff = data.diff().dropna()\n",
        "data_diff.head()"
      ],
      "execution_count": null,
      "outputs": []
    },
    {
      "cell_type": "code",
      "metadata": {
        "id": "lBAbhqNzWR6M",
        "colab": {
          "background_save": true
        }
      },
      "source": [
        "# data_diff = data_diff.groupby(pd.Grouper(freq = 'A'))\n",
        "# data_diff.head()"
      ],
      "execution_count": null,
      "outputs": []
    },
    {
      "cell_type": "markdown",
      "metadata": {
        "id": "WPCp3r9dq20n"
      },
      "source": [
        "### News Exploration"
      ]
    },
    {
      "cell_type": "code",
      "metadata": {
        "id": "6gQRLAJ3q8Cu",
        "colab": {
          "background_save": true
        }
      },
      "source": [
        "fig = plt.figure(figsize = (15, 8))\n",
        "sns.displot(news.category)\n",
        "plt.title('Headline Count of Each Genre');"
      ],
      "execution_count": null,
      "outputs": []
    },
    {
      "cell_type": "code",
      "metadata": {
        "id": "b8dtkWF4rpdf",
        "colab": {
          "background_save": true
        }
      },
      "source": [
        "news['year'] = news.index.to_series().apply(lambda x: x.year)"
      ],
      "execution_count": null,
      "outputs": []
    },
    {
      "cell_type": "code",
      "metadata": {
        "id": "SC8sBi14r2EJ",
        "colab": {
          "background_save": true
        }
      },
      "source": [
        "news.head()"
      ],
      "execution_count": null,
      "outputs": []
    },
    {
      "cell_type": "code",
      "metadata": {
        "id": "6qVl4w6hr4k0",
        "colab": {
          "background_save": true
        }
      },
      "source": [
        "sns.displot(news.year)\n",
        "plt.title('Headline Count per Year');"
      ],
      "execution_count": null,
      "outputs": []
    },
    {
      "cell_type": "markdown",
      "metadata": {
        "id": "dtOafKs4SQR_"
      },
      "source": [
        "#Model"
      ]
    },
    {
      "cell_type": "markdown",
      "metadata": {
        "id": "Zy0OLuv7BOw1"
      },
      "source": [
        "#### Stocks Basic Time Series Model"
      ]
    },
    {
      "cell_type": "markdown",
      "metadata": {
        "id": "qAws9pSXBT9g"
      },
      "source": [
        "##### Random Walk Model\n",
        "- no specified mean or variance\n",
        "- a strong dependence over time"
      ]
    },
    {
      "cell_type": "code",
      "metadata": {
        "id": "iUx-9rMDEJRW",
        "colab": {
          "background_save": true
        }
      },
      "source": [
        "#series with the specified dates\n",
        "work = pd.date_range('2012-01-28', '2018-05-26', freq = 'D')\n",
        "\n",
        "#white noise error \n",
        "error = np.random.normal(0, 10, len(work))\n",
        "\n",
        "#random walk\n",
        "def random_walk(start, error):\n",
        "  Y_0 = start\n",
        "  cum_error = np.cumsum(error)\n",
        "  Y = cum_error + Y_0\n",
        "  return Y\n",
        "\n",
        "#value of share on first date\n",
        "share_value = random_walk(61, error)\n",
        "\n",
        "shares_series = pd.Series(share_value, index = work)"
      ],
      "execution_count": null,
      "outputs": []
    },
    {
      "cell_type": "code",
      "metadata": {
        "id": "9SvsMVBFF1FL",
        "colab": {
          "background_save": true
        }
      },
      "source": [
        "ax = shares_series.plot(figsize = (15, 8))\n",
        "ax.set_xlabel('Date')\n",
        "ax.set_ylabel('Stock Price')\n",
        "ax.set_title('Random Walk')\n",
        "plt.show()"
      ],
      "execution_count": null,
      "outputs": []
    },
    {
      "cell_type": "markdown",
      "metadata": {
        "id": "xvRkmb1wHOzo"
      },
      "source": [
        "##### Random Walk with a Drift"
      ]
    },
    {
      "cell_type": "code",
      "metadata": {
        "id": "SX0Ld5QTHgXt",
        "colab": {
          "background_save": true
        }
      },
      "source": [
        "#series with the specified dates\n",
        "work = pd.date_range('2012-01-28', '2018-05-26', freq = 'D')\n",
        "\n",
        "#white noise error \n",
        "error = np.random.normal(0, 10, len(work))\n",
        "\n",
        "#random walk\n",
        "def random_walk(start, error):\n",
        "  Y_0 = start\n",
        "  #add drift of 8\n",
        "  cum_error = np.cumsum(error + 8)\n",
        "  Y = cum_error + Y_0\n",
        "  return Y\n",
        "\n",
        "#value of share on first date\n",
        "share_value_drift = random_walk(61, error)\n",
        "\n",
        "shares_series_diff = pd.Series(share_value_drift, index = work)"
      ],
      "execution_count": null,
      "outputs": []
    },
    {
      "cell_type": "code",
      "metadata": {
        "id": "AI2LJ8AYHlBP",
        "colab": {
          "background_save": true
        }
      },
      "source": [
        "ax = shares_series_diff.plot(figsize = (15, 8))\n",
        "ax.set_xlabel('Date')\n",
        "ax.set_ylabel('Stock Price')\n",
        "ax.set_title('Random Walk with Drift')\n",
        "plt.show()"
      ],
      "execution_count": null,
      "outputs": []
    },
    {
      "cell_type": "markdown",
      "metadata": {
        "id": "vhjuRkqRN_qd"
      },
      "source": [
        "##### Differencing in a Random Walk Model"
      ]
    },
    {
      "cell_type": "code",
      "metadata": {
        "id": "kqH1P_syOCRS",
        "colab": {
          "background_save": true
        }
      },
      "source": [
        "#no drift\n",
        "shares_diff = shares_series.diff(periods = 1)\n",
        "\n",
        "fig = plt.figure(figsize = (15, 8))\n",
        "plt.plot(shares_diff)\n",
        "plt.title('Differenced Shares Series')\n",
        "plt.show()"
      ],
      "execution_count": null,
      "outputs": []
    },
    {
      "cell_type": "code",
      "metadata": {
        "id": "bF-yWTnOO8ke",
        "colab": {
          "background_save": true
        }
      },
      "source": [
        "#drift\n",
        "shares_drift_diff = shares_series_diff.diff(periods = 1)\n",
        "\n",
        "fig = plt.figure(figsize = (15, 8))\n",
        "plt.plot(shares_drift_diff)\n",
        "plt.title('Differenced Shares Series')\n",
        "plt.show()"
      ],
      "execution_count": null,
      "outputs": []
    },
    {
      "cell_type": "markdown",
      "metadata": {
        "id": "f7tkmgC9B9uG"
      },
      "source": [
        "###### ARMA Model "
      ]
    },
    {
      "cell_type": "code",
      "metadata": {
        "id": "NaVNe98jXZna",
        "colab": {
          "background_save": true
        }
      },
      "source": [
        "stocks_news.head()"
      ],
      "execution_count": null,
      "outputs": []
    },
    {
      "cell_type": "code",
      "metadata": {
        "id": "kCmKsjnZdXoH",
        "colab": {
          "background_save": true
        }
      },
      "source": [
        "data_diff.head()"
      ],
      "execution_count": null,
      "outputs": []
    },
    {
      "cell_type": "code",
      "metadata": {
        "id": "XQJWkz_Tmyd9",
        "colab": {
          "background_save": true
        }
      },
      "source": [
        "# stocks_news2 = stocks_news.copy()"
      ],
      "execution_count": null,
      "outputs": []
    },
    {
      "cell_type": "code",
      "metadata": {
        "id": "c-ztdSpfB9Gv",
        "colab": {
          "background_save": true
        }
      },
      "source": [
        "# #plotting the ACF\n",
        "# from statsmodels.graphics.tsaplots import plot_acf\n",
        "# fig, ax = plt.subplots(figsize = (8, 3))\n",
        "# plot_acf(data_diff, ax = ax, lags = 8)"
      ],
      "execution_count": null,
      "outputs": []
    },
    {
      "cell_type": "code",
      "metadata": {
        "id": "DhruE7zxRAQe",
        "colab": {
          "background_save": true
        }
      },
      "source": [
        "# #plotting PACF\n",
        "# from statsmodels.graphics.tsaplots import plot_pacf\n",
        "# fig, ax = plt.subplots(figsize= (8, 3))\n",
        "# plot_pacf(data_diff, ax = ax, lags = 8);"
      ],
      "execution_count": null,
      "outputs": []
    },
    {
      "cell_type": "code",
      "metadata": {
        "id": "yVHaeROqR8li",
        "colab": {
          "background_save": true
        }
      },
      "source": [
        "# #import arma\n",
        "# from statsmodels.tsa.arima_model import ARMA\n",
        "\n",
        "# #fit an ARMA model\n",
        "# mod_arma = ARMA(data_diff, order = (HOW DO I SELECT ORDER? CLASS HAS (1,0))\n",
        "# res_arma = mod_arma.fit()\n",
        "\n",
        "# print(res_arma.summary())"
      ],
      "execution_count": null,
      "outputs": []
    },
    {
      "cell_type": "markdown",
      "metadata": {
        "id": "pUAOxBozeRxr"
      },
      "source": [
        "After figuring out ARMA model then try diff orders to select the best. Select it based on AIC or. BIC as model selection criterion."
      ]
    },
    {
      "cell_type": "markdown",
      "metadata": {
        "id": "bWGYv4E5ebnQ"
      },
      "source": [
        "#### ARIMA Model"
      ]
    },
    {
      "cell_type": "markdown",
      "metadata": {
        "id": "OqzCFf3KrzNN"
      },
      "source": [
        "q - auto regressive part of the model. effect of past values into model. \n",
        "d - amount of differnecing as it identifies the number of lag values to subtract from the current observation\n",
        "q - moving average part of the model which is used to set the error of the model as a linear combination of the error values observed at previous time points in the past."
      ]
    },
    {
      "cell_type": "code",
      "metadata": {
        "id": "7aEJNC-owgIb",
        "colab": {
          "background_save": true
        }
      },
      "source": [
        "stocks_news2 = stocks_news.copy()\n",
        "stocks_news2.head()"
      ],
      "execution_count": null,
      "outputs": []
    },
    {
      "cell_type": "code",
      "metadata": {
        "id": "EjzjBAeAwaVi",
        "colab": {
          "background_save": true
        }
      },
      "source": [
        "# The 'MS' string groups the data in buckets by start of the month\n",
        "stocks_news2 = stocks_news2['Price'].resample('MS').mean()\n",
        "\n",
        "# The term bfill means that we use the value before filling in missing values\n",
        "stocks_news2 = stocks_news2.fillna(stocks_news2.bfill())\n",
        "\n",
        "# Plot the time series\n",
        "stocks_news2.plot(figsize=(15, 6))\n",
        "plt.show()\n",
        "print(stocks_news2.head())"
      ],
      "execution_count": null,
      "outputs": []
    },
    {
      "cell_type": "code",
      "metadata": {
        "id": "KkQPIzGQvUZ9",
        "colab": {
          "background_save": true
        }
      },
      "source": [
        "import itertools"
      ],
      "execution_count": null,
      "outputs": []
    },
    {
      "cell_type": "code",
      "metadata": {
        "id": "nIpvcpo6ed2l",
        "colab": {
          "background_save": true
        }
      },
      "source": [
        "#define p,d,q with value between 0 & 2\n",
        "p = d = q = range(0, 2)\n",
        "\n",
        "#generate diff combos of p, q, & d triplets\n",
        "pdq = list(itertools.product(p, d, q))\n",
        "\n",
        "#generate all diff combos of seasonal p, d, q, triplets\n",
        "pdqs = [(x[0], x[1], x[2], 12) for x in list(itertools.product(p, d, q))]"
      ],
      "execution_count": null,
      "outputs": []
    },
    {
      "cell_type": "markdown",
      "metadata": {
        "id": "ParcBtCfs6LU"
      },
      "source": [
        "Try to find the model with the lowest AIC score"
      ]
    },
    {
      "cell_type": "code",
      "metadata": {
        "id": "ZK63TkG9s93d",
        "colab": {
          "background_save": true
        }
      },
      "source": [
        "#initialize empty list\n",
        "answer = []\n",
        "\n",
        "#iterate through params\n",
        "for comb in pdq:\n",
        "  for combs in pdqs:\n",
        "    try:\n",
        "      mod = sm.tsa.statespace.ARIMAX(stocks_news2,\n",
        "                                      order = comb,\n",
        "                                      seasonal_order = combs,\n",
        "                                      enforce_stationarity = False,\n",
        "                                      enforce_invertibility = False)\n",
        "      \n",
        "      output = mod.fit()\n",
        "      answer.append([comb, combs, output.aic])\n",
        "      print('ARIMA{} x{}12: AIC Calculated = {}'.format(comb, combs, output.aic))\n",
        "    except:\n",
        "      continue"
      ],
      "execution_count": null,
      "outputs": []
    },
    {
      "cell_type": "code",
      "metadata": {
        "id": "zmQdkVsZv7Y5",
        "colab": {
          "background_save": true
        }
      },
      "source": [
        "# Find the parameters with minimal AIC value\n",
        "ans_df = pd.DataFrame(answer, columns=['pdq', 'pdqs', 'aic'])\n",
        "ans_df.loc[ans_df['aic'].idxmin()]"
      ],
      "execution_count": null,
      "outputs": []
    },
    {
      "cell_type": "markdown",
      "metadata": {
        "id": "xK43hkUtSQJj"
      },
      "source": [
        "#Interpret"
      ]
    },
    {
      "cell_type": "markdown",
      "metadata": {
        "id": "82Gj6RMRSXmy"
      },
      "source": [
        "#Summary"
      ]
    },
    {
      "cell_type": "markdown",
      "metadata": {
        "id": "o5HwAoqMSY2I"
      },
      "source": [
        "#Future Work"
      ]
    },
    {
      "cell_type": "code",
      "metadata": {
        "id": "Qk4DM6VxRpyE",
        "colab": {
          "background_save": true
        }
      },
      "source": [
        ""
      ],
      "execution_count": null,
      "outputs": []
    }
  ]
}